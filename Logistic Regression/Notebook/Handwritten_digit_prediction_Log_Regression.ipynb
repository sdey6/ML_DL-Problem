{
  "nbformat": 4,
  "nbformat_minor": 0,
  "metadata": {
    "colab": {
      "provenance": [],
      "collapsed_sections": []
    },
    "kernelspec": {
      "name": "python3",
      "display_name": "Python 3"
    },
    "language_info": {
      "name": "python"
    }
  },
  "cells": [
    {
      "cell_type": "markdown",
      "source": [
        "- Task: Predict the handwritten digits from 1-16\n",
        "- Model: Logostic regresseion with multiple classes\n",
        "- Data: Sklearn's ML hand-written digits datasets"
      ],
      "metadata": {
        "id": "k4vH2ArGgPH_"
      }
    },
    {
      "cell_type": "code",
      "execution_count": null,
      "metadata": {
        "id": "400Ekgk4OYUu"
      },
      "outputs": [],
      "source": [
        "# import modules and packages\n",
        "\n",
        "import pandas as pd\n",
        "import matplotlib.pyplot as plt\n",
        "import seaborn as sns\n",
        "from sklearn.datasets import load_digits\n",
        "from sklearn.model_selection import train_test_split\n",
        "from sklearn.linear_model import LogisticRegression\n",
        "from sklearn.metrics import confusion_matrix"
      ]
    },
    {
      "cell_type": "code",
      "source": [
        "# loading the dataset and checking the objects\n",
        "\n",
        "digit = load_digits()\n",
        "dir(digit)"
      ],
      "metadata": {
        "colab": {
          "base_uri": "https://localhost:8080/"
        },
        "id": "TI_srhWeSwO3",
        "outputId": "f414e77a-6cbf-4d75-b7fb-fe291c1c799c"
      },
      "execution_count": null,
      "outputs": [
        {
          "output_type": "execute_result",
          "data": {
            "text/plain": [
              "['DESCR', 'data', 'feature_names', 'frame', 'images', 'target', 'target_names']"
            ]
          },
          "metadata": {},
          "execution_count": 22
        }
      ]
    },
    {
      "cell_type": "code",
      "source": [
        "# analyzing the data\n",
        "\n",
        "print(digit.data[1])\n",
        "print(digit.target[1])\n",
        "plt.matshow(digit.images[1])\n",
        "plt.show()"
      ],
      "metadata": {
        "id": "74gkXNwiTQ_S"
      },
      "execution_count": null,
      "outputs": []
    },
    {
      "cell_type": "code",
      "source": [
        "print(digit.data.shape)\n",
        "print(digit.target.shape)"
      ],
      "metadata": {
        "colab": {
          "base_uri": "https://localhost:8080/"
        },
        "id": "Os1C-UQEU8z1",
        "outputId": "0b69be6b-b1f3-47de-cebf-64d4e21a12a2"
      },
      "execution_count": null,
      "outputs": [
        {
          "output_type": "stream",
          "name": "stdout",
          "text": [
            "(1797, 64)\n",
            "(1797,)\n"
          ]
        }
      ]
    },
    {
      "cell_type": "code",
      "source": [
        "# preapring data for training\n",
        "\n",
        "X = digit.data\n",
        "y = digit.target"
      ],
      "metadata": {
        "id": "kXKzLsENVvQ-"
      },
      "execution_count": null,
      "outputs": []
    },
    {
      "cell_type": "code",
      "source": [
        "# test and train splitting of data\n",
        "\n",
        "X_train, X_test, y_train, y_test = train_test_split(X,y,test_size=0.3, random_state=42)\n",
        "print(X_train.shape,y_train.shape,X_test.shape,y_test.shape)"
      ],
      "metadata": {
        "colab": {
          "base_uri": "https://localhost:8080/"
        },
        "id": "BFd7HnjFVRnd",
        "outputId": "271be40f-af9f-482b-aba5-85ebcac78091"
      },
      "execution_count": null,
      "outputs": [
        {
          "output_type": "stream",
          "name": "stdout",
          "text": [
            "(1257, 64) (1257,) (540, 64) (540,)\n"
          ]
        }
      ]
    },
    {
      "cell_type": "code",
      "source": [
        "print(X_train[:2],y_train[:2])"
      ],
      "metadata": {
        "colab": {
          "base_uri": "https://localhost:8080/"
        },
        "id": "kQKOoYWmV9P2",
        "outputId": "f7517006-6dc9-4f20-a775-2c0a7b5768b2"
      },
      "execution_count": null,
      "outputs": [
        {
          "output_type": "stream",
          "name": "stdout",
          "text": [
            "[[ 0.  0.  5. 13. 13.  8.  0.  0.  0.  0. 16. 11. 13. 16.  6.  0.  0.  1.\n",
            "  16.  5.  2. 14.  9.  0.  0.  0.  9. 16. 16. 15.  0.  0.  0.  0. 10. 16.\n",
            "  14. 14.  0.  0.  0.  5. 15.  4.  0. 16.  6.  0.  0.  6. 14.  7.  6. 16.\n",
            "   4.  0.  0.  0.  7. 15. 16. 10.  0.  0.]\n",
            " [ 0.  0.  3. 14. 16. 14.  0.  0.  0.  0. 13. 13. 13. 16.  2.  0.  0.  0.\n",
            "   1.  0.  9. 15.  0.  0.  0.  0.  9. 12. 15. 16. 10.  0.  0.  4. 16. 16.\n",
            "  16. 11.  3.  0.  0.  0.  4.  9. 14.  2.  0.  0.  0.  0.  2. 15.  9.  0.\n",
            "   0.  0.  0.  0.  4. 13.  1.  0.  0.  0.]] [8 7]\n"
          ]
        }
      ]
    },
    {
      "cell_type": "code",
      "source": [
        "# model training\n",
        "\n",
        "model = LogisticRegression(solver='lbfgs', max_iter=10000)\n",
        "model.fit(X_train,y_train)\n"
      ],
      "metadata": {
        "colab": {
          "base_uri": "https://localhost:8080/"
        },
        "id": "YfoSsy4DV3F-",
        "outputId": "e9510176-35e3-4185-e787-51dcf90bcdd6"
      },
      "execution_count": null,
      "outputs": [
        {
          "output_type": "execute_result",
          "data": {
            "text/plain": [
              "LogisticRegression(max_iter=10000)"
            ]
          },
          "metadata": {},
          "execution_count": 36
        }
      ]
    },
    {
      "cell_type": "code",
      "source": [
        "# prediction on test data and accuracy score\n",
        "\n",
        "# model.predict([X_test[1]])\n",
        "pred = model.predict(X_test[:5])\n",
        "print(pred,y_test[:5])"
      ],
      "metadata": {
        "colab": {
          "base_uri": "https://localhost:8080/"
        },
        "id": "lWHgcIW0V3Xc",
        "outputId": "a6a1516a-d525-4bd6-881a-dced7997b6db"
      },
      "execution_count": null,
      "outputs": [
        {
          "output_type": "stream",
          "name": "stdout",
          "text": [
            "[6 9 3 7 2] [6 9 3 7 2]\n"
          ]
        }
      ]
    },
    {
      "cell_type": "code",
      "source": [
        "score = model.score(X_test,y_test)\n",
        "print(score.round(2))"
      ],
      "metadata": {
        "colab": {
          "base_uri": "https://localhost:8080/"
        },
        "id": "L7f-mtosXFi9",
        "outputId": "7842a871-31bb-43f8-d72c-74ebedb38fe6"
      },
      "execution_count": null,
      "outputs": [
        {
          "output_type": "stream",
          "name": "stdout",
          "text": [
            "0.97\n"
          ]
        }
      ]
    },
    {
      "cell_type": "code",
      "source": [
        "# visualizing model's predictive performance through a confusion matrix\n",
        "\n",
        "y_pred = model.predict(X_test)\n",
        "cm = confusion_matrix(y_test, y_pred)"
      ],
      "metadata": {
        "id": "pPxjVCS3dkvr"
      },
      "execution_count": null,
      "outputs": []
    },
    {
      "cell_type": "code",
      "source": [
        "plt.figure(figsize=(10,7))\n",
        "sns.set(font_scale=1.4) # for label size\n",
        "sns.heatmap(cm, annot=True, annot_kws={\"size\": 16}) # font size\n",
        "plt.xlabel('predicted value')\n",
        "plt.ylabel('True value')\n",
        "plt.show()"
      ],
      "metadata": {
        "colab": {
          "base_uri": "https://localhost:8080/",
          "height": 458
        },
        "id": "YAaxHo54e0mU",
        "outputId": "f72e2944-6a09-402f-9a29-38d159855459"
      },
      "execution_count": null,
      "outputs": [
        {
          "output_type": "display_data",
          "data": {
            "text/plain": [
              "<Figure size 720x504 with 2 Axes>"
            ],
            "image/png": "[encoded data removed]"
          },
          "metadata": {}
        }
      ]
    }
  ]
}
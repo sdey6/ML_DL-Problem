{
  "nbformat": 4,
  "nbformat_minor": 0,
  "metadata": {
    "colab": {
      "provenance": []
    },
    "kernelspec": {
      "name": "python3",
      "display_name": "Python 3"
    },
    "language_info": {
      "name": "python"
    }
  },
  "cells": [
    {
      "cell_type": "markdown",
      "source": [
        "- Task: Customer churn prediction in a telecom company - classification task\n",
        "- Model: Artificial Neural Net\n",
        "- Data: https://www.kaggle.com/datasets/blastchar/telco-customer-churn\n",
        "- Use: Reproducable by any organization to understand thheir customer behavior"
      ],
      "metadata": {
        "id": "AK3LJJy8QsI2"
      }
    },
    {
      "cell_type": "code",
      "execution_count": 1,
      "metadata": {
        "id": "5Si2ieZdPZsD"
      },
      "outputs": [],
      "source": [
        "import pandas as pd\n",
        "import numpy as np\n",
        "import matplotlib.pyplot as plt\n",
        "import seaborn as sns\n"
      ]
    },
    {
      "cell_type": "code",
      "source": [
        "path = '/content/drive/MyDrive/Colab Notebooks/deep learning/data/WA_Fn-UseC_-Telco-Customer-Churn.csv'\n",
        "df = pd.read_csv(path)\n",
        "df.head()"
      ],
      "metadata": {
        "colab": {
          "base_uri": "https://localhost:8080/",
          "height": 386
        },
        "id": "uO4lk-T9QCvV",
        "outputId": "9ae7897c-55d4-40da-e91f-7dbab7f49a33"
      },
      "execution_count": 2,
      "outputs": [
        {
          "output_type": "execute_result",
          "data": {
            "text/plain": [
              "   customerID  gender  SeniorCitizen Partner Dependents  tenure PhoneService  \\\n",
              "0  7590-VHVEG  Female              0     Yes         No       1           No   \n",
              "1  5575-GNVDE    Male              0      No         No      34          Yes   \n",
              "2  3668-QPYBK    Male              0      No         No       2          Yes   \n",
              "3  7795-CFOCW    Male              0      No         No      45           No   \n",
              "4  9237-HQITU  Female              0      No         No       2          Yes   \n",
              "\n",
              "      MultipleLines InternetService OnlineSecurity  ... DeviceProtection  \\\n",
              "0  No phone service             DSL             No  ...               No   \n",
              "1                No             DSL            Yes  ...              Yes   \n",
              "2                No             DSL            Yes  ...               No   \n",
              "3  No phone service             DSL            Yes  ...              Yes   \n",
              "4                No     Fiber optic             No  ...               No   \n",
              "\n",
              "  TechSupport StreamingTV StreamingMovies        Contract PaperlessBilling  \\\n",
              "0          No          No              No  Month-to-month              Yes   \n",
              "1          No          No              No        One year               No   \n",
              "2          No          No              No  Month-to-month              Yes   \n",
              "3         Yes          No              No        One year               No   \n",
              "4          No          No              No  Month-to-month              Yes   \n",
              "\n",
              "               PaymentMethod MonthlyCharges  TotalCharges Churn  \n",
              "0           Electronic check          29.85         29.85    No  \n",
              "1               Mailed check          56.95        1889.5    No  \n",
              "2               Mailed check          53.85        108.15   Yes  \n",
              "3  Bank transfer (automatic)          42.30       1840.75    No  \n",
              "4           Electronic check          70.70        151.65   Yes  \n",
              "\n",
              "[5 rows x 21 columns]"
            ],
            "text/html": [
              "\n",
              "  <div id=\"df-56a1e404-ae6c-43dd-bd65-e9a859ae6867\">\n",
              "    <div class=\"colab-df-container\">\n",
              "      <div>\n",
              "<style scoped>\n",
              "    .dataframe tbody tr th:only-of-type {\n",
              "        vertical-align: middle;\n",
              "    }\n",
              "\n",
              "    .dataframe tbody tr th {\n",
              "        vertical-align: top;\n",
              "    }\n",
              "\n",
              "    .dataframe thead th {\n",
              "        text-align: right;\n",
              "    }\n",
              "</style>\n",
              "<table border=\"1\" class=\"dataframe\">\n",
              "  <thead>\n",
              "    <tr style=\"text-align: right;\">\n",
              "      <th></th>\n",
              "      <th>customerID</th>\n",
              "      <th>gender</th>\n",
              "      <th>SeniorCitizen</th>\n",
              "      <th>Partner</th>\n",
              "      <th>Dependents</th>\n",
              "      <th>tenure</th>\n",
              "      <th>PhoneService</th>\n",
              "      <th>MultipleLines</th>\n",
              "      <th>InternetService</th>\n",
              "      <th>OnlineSecurity</th>\n",
              "      <th>...</th>\n",
              "      <th>DeviceProtection</th>\n",
              "      <th>TechSupport</th>\n",
              "      <th>StreamingTV</th>\n",
              "      <th>StreamingMovies</th>\n",
              "      <th>Contract</th>\n",
              "      <th>PaperlessBilling</th>\n",
              "      <th>PaymentMethod</th>\n",
              "      <th>MonthlyCharges</th>\n",
              "      <th>TotalCharges</th>\n",
              "      <th>Churn</th>\n",
              "    </tr>\n",
              "  </thead>\n",
              "  <tbody>\n",
              "    <tr>\n",
              "      <th>0</th>\n",
              "      <td>7590-VHVEG</td>\n",
              "      <td>Female</td>\n",
              "      <td>0</td>\n",
              "      <td>Yes</td>\n",
              "      <td>No</td>\n",
              "      <td>1</td>\n",
              "      <td>No</td>\n",
              "      <td>No phone service</td>\n",
              "      <td>DSL</td>\n",
              "      <td>No</td>\n",
              "      <td>...</td>\n",
              "      <td>No</td>\n",
              "      <td>No</td>\n",
              "      <td>No</td>\n",
              "      <td>No</td>\n",
              "      <td>Month-to-month</td>\n",
              "      <td>Yes</td>\n",
              "      <td>Electronic check</td>\n",
              "      <td>29.85</td>\n",
              "      <td>29.85</td>\n",
              "      <td>No</td>\n",
              "    </tr>\n",
              "    <tr>\n",
              "      <th>1</th>\n",
              "      <td>5575-GNVDE</td>\n",
              "      <td>Male</td>\n",
              "      <td>0</td>\n",
              "      <td>No</td>\n",
              "      <td>No</td>\n",
              "      <td>34</td>\n",
              "      <td>Yes</td>\n",
              "      <td>No</td>\n",
              "      <td>DSL</td>\n",
              "      <td>Yes</td>\n",
              "      <td>...</td>\n",
              "      <td>Yes</td>\n",
              "      <td>No</td>\n",
              "      <td>No</td>\n",
              "      <td>No</td>\n",
              "      <td>One year</td>\n",
              "      <td>No</td>\n",
              "      <td>Mailed check</td>\n",
              "      <td>56.95</td>\n",
              "      <td>1889.5</td>\n",
              "      <td>No</td>\n",
              "    </tr>\n",
              "    <tr>\n",
              "      <th>2</th>\n",
              "      <td>3668-QPYBK</td>\n",
              "      <td>Male</td>\n",
              "      <td>0</td>\n",
              "      <td>No</td>\n",
              "      <td>No</td>\n",
              "      <td>2</td>\n",
              "      <td>Yes</td>\n",
              "      <td>No</td>\n",
              "      <td>DSL</td>\n",
              "      <td>Yes</td>\n",
              "      <td>...</td>\n",
              "      <td>No</td>\n",
              "      <td>No</td>\n",
              "      <td>No</td>\n",
              "      <td>No</td>\n",
              "      <td>Month-to-month</td>\n",
              "      <td>Yes</td>\n",
              "      <td>Mailed check</td>\n",
              "      <td>53.85</td>\n",
              "      <td>108.15</td>\n",
              "      <td>Yes</td>\n",
              "    </tr>\n",
              "    <tr>\n",
              "      <th>3</th>\n",
              "      <td>7795-CFOCW</td>\n",
              "      <td>Male</td>\n",
              "      <td>0</td>\n",
              "      <td>No</td>\n",
              "      <td>No</td>\n",
              "      <td>45</td>\n",
              "      <td>No</td>\n",
              "      <td>No phone service</td>\n",
              "      <td>DSL</td>\n",
              "      <td>Yes</td>\n",
              "      <td>...</td>\n",
              "      <td>Yes</td>\n",
              "      <td>Yes</td>\n",
              "      <td>No</td>\n",
              "      <td>No</td>\n",
              "      <td>One year</td>\n",
              "      <td>No</td>\n",
              "      <td>Bank transfer (automatic)</td>\n",
              "      <td>42.30</td>\n",
              "      <td>1840.75</td>\n",
              "      <td>No</td>\n",
              "    </tr>\n",
              "    <tr>\n",
              "      <th>4</th>\n",
              "      <td>9237-HQITU</td>\n",
              "      <td>Female</td>\n",
              "      <td>0</td>\n",
              "      <td>No</td>\n",
              "      <td>No</td>\n",
              "      <td>2</td>\n",
              "      <td>Yes</td>\n",
              "      <td>No</td>\n",
              "      <td>Fiber optic</td>\n",
              "      <td>No</td>\n",
              "      <td>...</td>\n",
              "      <td>No</td>\n",
              "      <td>No</td>\n",
              "      <td>No</td>\n",
              "      <td>No</td>\n",
              "      <td>Month-to-month</td>\n",
              "      <td>Yes</td>\n",
              "      <td>Electronic check</td>\n",
              "      <td>70.70</td>\n",
              "      <td>151.65</td>\n",
              "      <td>Yes</td>\n",
              "    </tr>\n",
              "  </tbody>\n",
              "</table>\n",
              "<p>5 rows × 21 columns</p>\n",
              "</div>\n",
              "      <button class=\"colab-df-convert\" onclick=\"convertToInteractive('df-56a1e404-ae6c-43dd-bd65-e9a859ae6867')\"\n",
              "              title=\"Convert this dataframe to an interactive table.\"\n",
              "              style=\"display:none;\">\n",
              "        \n",
              "  <svg xmlns=\"http://www.w3.org/2000/svg\" height=\"24px\"viewBox=\"0 0 24 24\"\n",
              "       width=\"24px\">\n",
              "    <path d=\"M0 0h24v24H0V0z\" fill=\"none\"/>\n",
              "    <path d=\"M18.56 5.44l.94 2.06.94-2.06 2.06-.94-2.06-.94-.94-2.06-.94 2.06-2.06.94zm-11 1L8.5 8.5l.94-2.06 2.06-.94-2.06-.94L8.5 2.5l-.94 2.06-2.06.94zm10 10l.94 2.06.94-2.06 2.06-.94-2.06-.94-.94-2.06-.94 2.06-2.06.94z\"/><path d=\"M17.41 7.96l-1.37-1.37c-.4-.4-.92-.59-1.43-.59-.52 0-1.04.2-1.43.59L10.3 9.45l-7.72 7.72c-.78.78-.78 2.05 0 2.83L4 21.41c.39.39.9.59 1.41.59.51 0 1.02-.2 1.41-.59l7.78-7.78 2.81-2.81c.8-.78.8-2.07 0-2.86zM5.41 20L4 18.59l7.72-7.72 1.47 1.35L5.41 20z\"/>\n",
              "  </svg>\n",
              "      </button>\n",
              "      \n",
              "  <style>\n",
              "    .colab-df-container {\n",
              "      display:flex;\n",
              "      flex-wrap:wrap;\n",
              "      gap: 12px;\n",
              "    }\n",
              "\n",
              "    .colab-df-convert {\n",
              "      background-color: #E8F0FE;\n",
              "      border: none;\n",
              "      border-radius: 50%;\n",
              "      cursor: pointer;\n",
              "      display: none;\n",
              "      fill: #1967D2;\n",
              "      height: 32px;\n",
              "      padding: 0 0 0 0;\n",
              "      width: 32px;\n",
              "    }\n",
              "\n",
              "    .colab-df-convert:hover {\n",
              "      background-color: #E2EBFA;\n",
              "      box-shadow: 0px 1px 2px rgba(60, 64, 67, 0.3), 0px 1px 3px 1px rgba(60, 64, 67, 0.15);\n",
              "      fill: #174EA6;\n",
              "    }\n",
              "\n",
              "    [theme=dark] .colab-df-convert {\n",
              "      background-color: #3B4455;\n",
              "      fill: #D2E3FC;\n",
              "    }\n",
              "\n",
              "    [theme=dark] .colab-df-convert:hover {\n",
              "      background-color: #434B5C;\n",
              "      box-shadow: 0px 1px 3px 1px rgba(0, 0, 0, 0.15);\n",
              "      filter: drop-shadow(0px 1px 2px rgba(0, 0, 0, 0.3));\n",
              "      fill: #FFFFFF;\n",
              "    }\n",
              "  </style>\n",
              "\n",
              "      <script>\n",
              "        const buttonEl =\n",
              "          document.querySelector('#df-56a1e404-ae6c-43dd-bd65-e9a859ae6867 button.colab-df-convert');\n",
              "        buttonEl.style.display =\n",
              "          google.colab.kernel.accessAllowed ? 'block' : 'none';\n",
              "\n",
              "        async function convertToInteractive(key) {\n",
              "          const element = document.querySelector('#df-56a1e404-ae6c-43dd-bd65-e9a859ae6867');\n",
              "          const dataTable =\n",
              "            await google.colab.kernel.invokeFunction('convertToInteractive',\n",
              "                                                     [key], {});\n",
              "          if (!dataTable) return;\n",
              "\n",
              "          const docLinkHtml = 'Like what you see? Visit the ' +\n",
              "            '<a target=\"_blank\" href=https://colab.research.google.com/notebooks/data_table.ipynb>data table notebook</a>'\n",
              "            + ' to learn more about interactive tables.';\n",
              "          element.innerHTML = '';\n",
              "          dataTable['output_type'] = 'display_data';\n",
              "          await google.colab.output.renderOutput(dataTable, element);\n",
              "          const docLink = document.createElement('div');\n",
              "          docLink.innerHTML = docLinkHtml;\n",
              "          element.appendChild(docLink);\n",
              "        }\n",
              "      </script>\n",
              "    </div>\n",
              "  </div>\n",
              "  "
            ]
          },
          "metadata": {},
          "execution_count": 2
        }
      ]
    },
    {
      "cell_type": "markdown",
      "source": [
        "**Inital data Exploration**"
      ],
      "metadata": {
        "id": "izYR0wubQoZs"
      }
    },
    {
      "cell_type": "code",
      "source": [
        "df.shape"
      ],
      "metadata": {
        "colab": {
          "base_uri": "https://localhost:8080/"
        },
        "id": "hc-gf2bDQoE9",
        "outputId": "67ecae2a-fc2a-4b13-937c-882ad6d33ea7"
      },
      "execution_count": 3,
      "outputs": [
        {
          "output_type": "execute_result",
          "data": {
            "text/plain": [
              "(7043, 21)"
            ]
          },
          "metadata": {},
          "execution_count": 3
        }
      ]
    },
    {
      "cell_type": "code",
      "source": [
        "df.info() # Show the data dypes of columns and null values"
      ],
      "metadata": {
        "colab": {
          "base_uri": "https://localhost:8080/"
        },
        "id": "F7bsnHVVRWgl",
        "outputId": "95da6ac5-600f-4cf7-a50a-76fabf830927"
      },
      "execution_count": 4,
      "outputs": [
        {
          "output_type": "stream",
          "name": "stdout",
          "text": [
            "<class 'pandas.core.frame.DataFrame'>\n",
            "RangeIndex: 7043 entries, 0 to 7042\n",
            "Data columns (total 21 columns):\n",
            " #   Column            Non-Null Count  Dtype  \n",
            "---  ------            --------------  -----  \n",
            " 0   customerID        7043 non-null   object \n",
            " 1   gender            7043 non-null   object \n",
            " 2   SeniorCitizen     7043 non-null   int64  \n",
            " 3   Partner           7043 non-null   object \n",
            " 4   Dependents        7043 non-null   object \n",
            " 5   tenure            7043 non-null   int64  \n",
            " 6   PhoneService      7043 non-null   object \n",
            " 7   MultipleLines     7043 non-null   object \n",
            " 8   InternetService   7043 non-null   object \n",
            " 9   OnlineSecurity    7043 non-null   object \n",
            " 10  OnlineBackup      7043 non-null   object \n",
            " 11  DeviceProtection  7043 non-null   object \n",
            " 12  TechSupport       7043 non-null   object \n",
            " 13  StreamingTV       7043 non-null   object \n",
            " 14  StreamingMovies   7043 non-null   object \n",
            " 15  Contract          7043 non-null   object \n",
            " 16  PaperlessBilling  7043 non-null   object \n",
            " 17  PaymentMethod     7043 non-null   object \n",
            " 18  MonthlyCharges    7043 non-null   float64\n",
            " 19  TotalCharges      7043 non-null   object \n",
            " 20  Churn             7043 non-null   object \n",
            "dtypes: float64(1), int64(2), object(18)\n",
            "memory usage: 1.1+ MB\n"
          ]
        }
      ]
    },
    {
      "cell_type": "code",
      "source": [
        "# grouping different data types together\n",
        "\n",
        "df.columns.to_series().groupby(df.dtypes).groups"
      ],
      "metadata": {
        "colab": {
          "base_uri": "https://localhost:8080/"
        },
        "id": "O4_EB8EpU4Q9",
        "outputId": "5190e9ca-4701-4cd1-b3c5-5a3120e6dae5"
      },
      "execution_count": 5,
      "outputs": [
        {
          "output_type": "execute_result",
          "data": {
            "text/plain": [
              "{int64: ['SeniorCitizen', 'tenure'], float64: ['MonthlyCharges'], object: ['customerID', 'gender', 'Partner', 'Dependents', 'PhoneService', 'MultipleLines', 'InternetService', 'OnlineSecurity', 'OnlineBackup', 'DeviceProtection', 'TechSupport', 'StreamingTV', 'StreamingMovies', 'Contract', 'PaperlessBilling', 'PaymentMethod', 'TotalCharges', 'Churn']}"
            ]
          },
          "metadata": {},
          "execution_count": 5
        }
      ]
    },
    {
      "cell_type": "code",
      "source": [
        "df.isna().sum().any() # No null values "
      ],
      "metadata": {
        "colab": {
          "base_uri": "https://localhost:8080/"
        },
        "id": "NShsu8RvRZxc",
        "outputId": "84418bfd-bc6f-4c97-d408-0844463ccc9d"
      },
      "execution_count": 6,
      "outputs": [
        {
          "output_type": "execute_result",
          "data": {
            "text/plain": [
              "False"
            ]
          },
          "metadata": {},
          "execution_count": 6
        }
      ]
    },
    {
      "cell_type": "code",
      "source": [
        "df.duplicated().any() # No duplicate record identified"
      ],
      "metadata": {
        "colab": {
          "base_uri": "https://localhost:8080/"
        },
        "id": "gg87EkxbRo2E",
        "outputId": "84496764-f69f-4190-f136-0a52d9c9f72b"
      },
      "execution_count": 7,
      "outputs": [
        {
          "output_type": "execute_result",
          "data": {
            "text/plain": [
              "False"
            ]
          },
          "metadata": {},
          "execution_count": 7
        }
      ]
    },
    {
      "cell_type": "markdown",
      "source": [
        "Analyzing different features:-"
      ],
      "metadata": {
        "id": "M3nJvnS2WG1g"
      }
    },
    {
      "cell_type": "code",
      "source": [
        "plt.figure(figsize=(10,8))\n",
        "plt.rcParams[\"figure.autolayout\"] = True\n",
        "\n",
        "plt.subplot(3,2,1)\n",
        "sns.countplot(data=df,x='gender', palette = 'Set2')\n",
        "\n",
        "\n",
        "plt.subplot(3,2,2)\n",
        "sns.countplot(data=df,x='SeniorCitizen', palette = 'Set2')\n",
        "\n",
        "plt.subplot(3,2,3)\n",
        "sns.countplot(data=df,x='PhoneService', palette = 'Set2')\n",
        "\n",
        "plt.subplot(3,2,4)\n",
        "sns.countplot(data=df,x='InternetService', palette = 'Set2')\n",
        "\n",
        "plt.subplot(3,2,5)\n",
        "sns.countplot(data=df,x='MultipleLines',palette = 'Set2')\n",
        "\n",
        "plt.subplot(3,2,6)\n",
        "sns.countplot(data=df,x='OnlineSecurity', palette = 'Set2')"
      ],
      "metadata": {
        "colab": {
          "base_uri": "https://localhost:8080/",
          "height": 514
        },
        "id": "rUGUDxOQnRWv",
        "outputId": "ede57dfe-6b89-4c76-954a-93e877a029b6"
      },
      "execution_count": 8,
      "outputs": [
        {
          "output_type": "execute_result",
          "data": {
            "text/plain": [
              "<matplotlib.axes._subplots.AxesSubplot at 0x7f049ed7eb10>"
            ]
          },
          "metadata": {},
          "execution_count": 8
        },
        {
          "output_type": "display_data",
          "data": {
            "text/plain": [
              "<Figure size 720x576 with 6 Axes>"
            ],
            "image/png": "[encoded data removed]"
          },
          "metadata": {
            "needs_background": "light"
          }
        }
      ]
    },
    {
      "cell_type": "code",
      "source": [
        "plt.figure(figsize=(10,8))\n",
        "plt.rcParams[\"figure.autolayout\"] = True\n",
        "\n",
        "plt.subplot(3,2,1)\n",
        "sns.countplot(data=df,x='OnlineBackup', palette = 'Set2')\n",
        "\n",
        "\n",
        "plt.subplot(3,2,2)\n",
        "sns.countplot(data=df,x='DeviceProtection', palette = 'Set2')\n",
        "\n",
        "plt.subplot(3,2,3)\n",
        "sns.countplot(data=df,x='TechSupport', palette = 'Set2')\n",
        "\n",
        "plt.subplot(3,2,4)\n",
        "sns.countplot(data=df,x='StreamingTV', palette = 'Set2')\n",
        "\n",
        "plt.subplot(3,2,5)\n",
        "sns.countplot(data=df,x='StreamingMovies',palette = 'Set2')\n",
        "\n",
        "plt.subplot(3,2,6)\n",
        "sns.countplot(data=df,x='Contract', palette = 'Set2')\n",
        "\n",
        "plt.show()"
      ],
      "metadata": {
        "colab": {
          "base_uri": "https://localhost:8080/",
          "height": 585
        },
        "id": "-x4y13dhoKb4",
        "outputId": "c6e06ddc-deed-4820-e1d7-d61724c0316a"
      },
      "execution_count": 9,
      "outputs": [
        {
          "output_type": "display_data",
          "data": {
            "text/plain": [
              "<Figure size 720x576 with 6 Axes>"
            ],
            "image/png": "[encoded data removed]"
          },
          "metadata": {
            "needs_background": "light"
          }
        }
      ]
    },
    {
      "cell_type": "code",
      "source": [
        "# 1) Senior citizen\n",
        "\n",
        "df['SeniorCitizen'].value_counts()"
      ],
      "metadata": {
        "colab": {
          "base_uri": "https://localhost:8080/"
        },
        "id": "TayII7qOWUXj",
        "outputId": "690500b9-efa1-4a3a-aef6-2f9f46a52006"
      },
      "execution_count": 10,
      "outputs": [
        {
          "output_type": "execute_result",
          "data": {
            "text/plain": [
              "0    5901\n",
              "1    1142\n",
              "Name: SeniorCitizen, dtype: int64"
            ]
          },
          "metadata": {},
          "execution_count": 10
        }
      ]
    },
    {
      "cell_type": "code",
      "source": [
        "x_val = ['SC_NOT/0','SC/1']\n",
        "g = sns.countplot(data=df,x='SeniorCitizen',hue='Churn')\n",
        "g.set_xticklabels(x_val)\n",
        "plt.show()"
      ],
      "metadata": {
        "colab": {
          "base_uri": "https://localhost:8080/",
          "height": 297
        },
        "id": "6edw5SHiWdTU",
        "outputId": "266989b3-8480-4cd0-b2a1-4d5d22ef2206"
      },
      "execution_count": 11,
      "outputs": [
        {
          "output_type": "display_data",
          "data": {
            "text/plain": [
              "<Figure size 432x288 with 1 Axes>"
            ],
            "image/png": "[encoded data removed]"
          },
          "metadata": {
            "needs_background": "light"
          }
        }
      ]
    },
    {
      "cell_type": "markdown",
      "source": [
        "It can be understood from the plot and values that the chances of senior people leaving the company are higher than non SC people."
      ],
      "metadata": {
        "id": "IYBPs7AOY2L8"
      }
    },
    {
      "cell_type": "code",
      "source": [
        "# 2) gender\n",
        "\n",
        "df['gender'].value_counts()"
      ],
      "metadata": {
        "colab": {
          "base_uri": "https://localhost:8080/"
        },
        "id": "_ETKsI9mZqoj",
        "outputId": "b09c22d6-8235-4558-bea4-094538308778"
      },
      "execution_count": 12,
      "outputs": [
        {
          "output_type": "execute_result",
          "data": {
            "text/plain": [
              "Male      3555\n",
              "Female    3488\n",
              "Name: gender, dtype: int64"
            ]
          },
          "metadata": {},
          "execution_count": 12
        }
      ]
    },
    {
      "cell_type": "code",
      "source": [
        "sns.countplot(data=df,x='gender',hue='Churn')\n",
        "plt.show()"
      ],
      "metadata": {
        "colab": {
          "base_uri": "https://localhost:8080/",
          "height": 297
        },
        "id": "L30CoIvqZxMk",
        "outputId": "3559eb71-ed97-4f88-b0d8-d2715478b06c"
      },
      "execution_count": 13,
      "outputs": [
        {
          "output_type": "display_data",
          "data": {
            "text/plain": [
              "<Figure size 432x288 with 1 Axes>"
            ],
            "image/png": "[encoded data removed]"
          },
          "metadata": {
            "needs_background": "light"
          }
        }
      ]
    },
    {
      "cell_type": "markdown",
      "source": [
        "In the data the proportion of male and female customer are balanced. Their probabaility of leaving the company is also same."
      ],
      "metadata": {
        "id": "ThkVDnQaaBgW"
      }
    },
    {
      "cell_type": "code",
      "source": [
        "# 3) Partnership\n",
        "\n",
        "df['Partner'].value_counts()"
      ],
      "metadata": {
        "colab": {
          "base_uri": "https://localhost:8080/"
        },
        "id": "DLL7ewHYaOiu",
        "outputId": "7c87a986-e19d-492b-8b8a-d39adfb80f22"
      },
      "execution_count": 14,
      "outputs": [
        {
          "output_type": "execute_result",
          "data": {
            "text/plain": [
              "No     3641\n",
              "Yes    3402\n",
              "Name: Partner, dtype: int64"
            ]
          },
          "metadata": {},
          "execution_count": 14
        }
      ]
    },
    {
      "cell_type": "code",
      "source": [
        "sns.countplot(data=df,x='Partner',hue='Churn')\n",
        "plt.show()"
      ],
      "metadata": {
        "colab": {
          "base_uri": "https://localhost:8080/",
          "height": 297
        },
        "id": "kec7PRReapfD",
        "outputId": "fa97fe67-bbaa-443a-b133-20bbe4558182"
      },
      "execution_count": 15,
      "outputs": [
        {
          "output_type": "display_data",
          "data": {
            "text/plain": [
              "<Figure size 432x288 with 1 Axes>"
            ],
            "image/png": "[encoded data removed]"
          },
          "metadata": {
            "needs_background": "light"
          }
        }
      ]
    },
    {
      "cell_type": "markdown",
      "source": [
        "the probability of customer who are not partners with this company are more likely to leave it than the people who are in a partnership."
      ],
      "metadata": {
        "id": "9xGI6k1Va1Tr"
      }
    },
    {
      "cell_type": "code",
      "source": [
        "# Tenure of availing the service\n",
        "\n",
        "# sns.histplot(data=df,x='tenure',bins=10,hue='Churn')\n",
        "# plt.ylabel('Count of customers left vs stayed')\n",
        "# plt.show()\n",
        "\n",
        "df_tenure_yes = df[df['Churn'] == 'Yes']['tenure']\n",
        "df_tenure_no = df[df['Churn'] == 'No']['tenure']\n",
        "plt.hist([df_tenure_yes,df_tenure_no],label=['Churn_Yes','Churn_No'],color=['blue','green'])\n",
        "plt.legend()\n",
        "plt.xlabel('Tenure')\n",
        "plt.ylabel('Count of customers')\n",
        "plt.show()"
      ],
      "metadata": {
        "colab": {
          "base_uri": "https://localhost:8080/",
          "height": 386
        },
        "id": "UccaGxdvbBlr",
        "outputId": "951b0b64-4014-4f1a-ced7-60d9c9bfcc4a"
      },
      "execution_count": 16,
      "outputs": [
        {
          "output_type": "stream",
          "name": "stderr",
          "text": [
            "/usr/local/lib/python3.7/dist-packages/numpy/core/fromnumeric.py:3208: VisibleDeprecationWarning: Creating an ndarray from ragged nested sequences (which is a list-or-tuple of lists-or-tuples-or ndarrays with different lengths or shapes) is deprecated. If you meant to do this, you must specify 'dtype=object' when creating the ndarray.\n",
            "  return asarray(a).size\n",
            "/usr/local/lib/python3.7/dist-packages/matplotlib/cbook/__init__.py:1376: VisibleDeprecationWarning: Creating an ndarray from ragged nested sequences (which is a list-or-tuple of lists-or-tuples-or ndarrays with different lengths or shapes) is deprecated. If you meant to do this, you must specify 'dtype=object' when creating the ndarray.\n",
            "  X = np.atleast_1d(X.T if isinstance(X, np.ndarray) else np.asarray(X))\n"
          ]
        },
        {
          "output_type": "display_data",
          "data": {
            "text/plain": [
              "<Figure size 432x288 with 1 Axes>"
            ],
            "image/png": "[encoded data removed]"
          },
          "metadata": {
            "needs_background": "light"
          }
        }
      ]
    },
    {
      "cell_type": "markdown",
      "source": [
        "This plot shows the tenure of customers who stayed and left the company.\n",
        "Mostly people who are with more months, do not tend to leave and people who left are around 1-10 months."
      ],
      "metadata": {
        "id": "pr3NrGvzeWq1"
      }
    },
    {
      "cell_type": "code",
      "source": [
        "# Contractual relation\n",
        "\n",
        "df['Contract'].value_counts()"
      ],
      "metadata": {
        "colab": {
          "base_uri": "https://localhost:8080/"
        },
        "id": "qOLh2O1yevIy",
        "outputId": "a975634f-3bd8-4a46-d466-b14b8292feae"
      },
      "execution_count": 17,
      "outputs": [
        {
          "output_type": "execute_result",
          "data": {
            "text/plain": [
              "Month-to-month    3875\n",
              "Two year          1695\n",
              "One year          1473\n",
              "Name: Contract, dtype: int64"
            ]
          },
          "metadata": {},
          "execution_count": 17
        }
      ]
    },
    {
      "cell_type": "code",
      "source": [
        "sns.countplot(data=df,x='Contract',hue='Churn')\n",
        "plt.show()"
      ],
      "metadata": {
        "colab": {
          "base_uri": "https://localhost:8080/",
          "height": 297
        },
        "id": "mvU8IVoJfX2y",
        "outputId": "4d561e35-f4f4-41c0-9802-20c2f8d6e815"
      },
      "execution_count": 18,
      "outputs": [
        {
          "output_type": "display_data",
          "data": {
            "text/plain": [
              "<Figure size 432x288 with 1 Axes>"
            ],
            "image/png": "[encoded data removed]"
          },
          "metadata": {
            "needs_background": "light"
          }
        }
      ]
    },
    {
      "cell_type": "markdown",
      "source": [
        "It shows customers who pays bill month to month basis are the highest to leave and the ones whose contract are for two years are least to leave."
      ],
      "metadata": {
        "id": "onOqrxhBfa7N"
      }
    },
    {
      "cell_type": "code",
      "source": [
        "# Monthly charges paid by the customer\n",
        "\n",
        "print(df.groupby('Churn')['MonthlyCharges'].value_counts())\n",
        "\n",
        "sns.histplot(data=df,x='MonthlyCharges',bins=10,hue='Churn')\n",
        "plt.ylabel('Amount of money spent monthly')\n",
        "plt.show()"
      ],
      "metadata": {
        "colab": {
          "base_uri": "https://localhost:8080/",
          "height": 523
        },
        "id": "Mw1Z8W6BhyKh",
        "outputId": "6167c5b7-17e2-4148-d081-e1ba7aebf7c1"
      },
      "execution_count": 19,
      "outputs": [
        {
          "output_type": "stream",
          "name": "stdout",
          "text": [
            "Churn  MonthlyCharges\n",
            "No     20.05             58\n",
            "       19.70             41\n",
            "       19.95             41\n",
            "       19.85             40\n",
            "       19.90             40\n",
            "                         ..\n",
            "Yes    115.65             1\n",
            "       116.20             1\n",
            "       117.45             1\n",
            "       117.80             1\n",
            "       118.35             1\n",
            "Name: MonthlyCharges, Length: 2370, dtype: int64\n"
          ]
        },
        {
          "output_type": "display_data",
          "data": {
            "text/plain": [
              "<Figure size 432x288 with 1 Axes>"
            ],
            "image/png": "[encoded data removed]"
          },
          "metadata": {
            "needs_background": "light"
          }
        }
      ]
    },
    {
      "cell_type": "markdown",
      "source": [
        "We can see that most of the customers stayed who paied around 20 per month. Also people who left had to pay around 70-90 per month."
      ],
      "metadata": {
        "id": "j1muwb83iYGK"
      }
    },
    {
      "cell_type": "code",
      "source": [
        "df_mc_yes = df[df['Churn'] == 'Yes']['MonthlyCharges']\n",
        "df_mc_no = df[df['Churn'] == 'No']['MonthlyCharges']\n",
        "plt.hist([df_mc_yes,df_mc_no],label=['Churn_Yes','Churn_No'],color=['blue','green'])\n",
        "plt.legend()\n",
        "plt.xlabel('MonthlyCharges')\n",
        "plt.ylabel('Count of customers')\n",
        "plt.show()"
      ],
      "metadata": {
        "colab": {
          "base_uri": "https://localhost:8080/",
          "height": 386
        },
        "id": "H-q7nhH97cyM",
        "outputId": "01e6f971-42ae-45dd-bf51-668190461215"
      },
      "execution_count": 20,
      "outputs": [
        {
          "output_type": "stream",
          "name": "stderr",
          "text": [
            "/usr/local/lib/python3.7/dist-packages/numpy/core/fromnumeric.py:3208: VisibleDeprecationWarning: Creating an ndarray from ragged nested sequences (which is a list-or-tuple of lists-or-tuples-or ndarrays with different lengths or shapes) is deprecated. If you meant to do this, you must specify 'dtype=object' when creating the ndarray.\n",
            "  return asarray(a).size\n",
            "/usr/local/lib/python3.7/dist-packages/matplotlib/cbook/__init__.py:1376: VisibleDeprecationWarning: Creating an ndarray from ragged nested sequences (which is a list-or-tuple of lists-or-tuples-or ndarrays with different lengths or shapes) is deprecated. If you meant to do this, you must specify 'dtype=object' when creating the ndarray.\n",
            "  X = np.atleast_1d(X.T if isinstance(X, np.ndarray) else np.asarray(X))\n"
          ]
        },
        {
          "output_type": "display_data",
          "data": {
            "text/plain": [
              "<Figure size 432x288 with 1 Axes>"
            ],
            "image/png": "[encoded data removed]"
          },
          "metadata": {
            "needs_background": "light"
          }
        }
      ]
    },
    {
      "cell_type": "markdown",
      "source": [
        "Bivariate Analysis together:-"
      ],
      "metadata": {
        "id": "VZXOqPnzjpNg"
      }
    },
    {
      "cell_type": "code",
      "source": [
        "plt.figure(figsize=(10,8))\n",
        "plt.rcParams[\"figure.autolayout\"] = True\n",
        "\n",
        "plt.subplot(3,2,1)\n",
        "sns.move_legend(sns.countplot(data=df,x='gender',hue='Churn', palette = 'Set2'), \"upper left\", bbox_to_anchor=(1, 1))\n",
        "\n",
        "\n",
        "plt.subplot(3,2,2)\n",
        "sns.move_legend(sns.countplot(data=df,x='SeniorCitizen',hue='Churn', palette = 'Set2'), \"upper left\", bbox_to_anchor=(1, 1))\n",
        "\n",
        "plt.subplot(3,2,3)\n",
        "sns.move_legend(sns.countplot(data=df,x='PhoneService',hue='Churn', palette = 'Set2'), \"upper left\", bbox_to_anchor=(1, 1))\n",
        "\n",
        "plt.subplot(3,2,4)\n",
        "sns.move_legend(sns.countplot(data=df,x='InternetService',hue='Churn', palette = 'Set2'), \"upper left\", bbox_to_anchor=(1, 1))\n",
        "\n",
        "plt.subplot(3,2,5)\n",
        "sns.move_legend(sns.countplot(data=df,x='MultipleLines',hue='Churn', palette = 'Set2'), \"upper left\", bbox_to_anchor=(1, 1))\n",
        "\n",
        "plt.subplot(3,2,6)\n",
        "sns.move_legend(sns.countplot(data=df,x='OnlineSecurity',hue='Churn', palette = 'Set2'), \"upper left\", bbox_to_anchor=(1, 1))"
      ],
      "metadata": {
        "colab": {
          "base_uri": "https://localhost:8080/",
          "height": 585
        },
        "id": "Rc-92L7ujo5Q",
        "outputId": "12ef240c-9ecc-4bee-a5e0-8f1766712030"
      },
      "execution_count": 21,
      "outputs": [
        {
          "output_type": "display_data",
          "data": {
            "text/plain": [
              "<Figure size 720x576 with 6 Axes>"
            ],
            "image/png": "[encoded data removed]"
          },
          "metadata": {
            "needs_background": "light"
          }
        }
      ]
    },
    {
      "cell_type": "code",
      "source": [
        "plt.figure(figsize=(14,10))\n",
        "plt.rcParams[\"figure.autolayout\"] = True\n",
        "\n",
        "plt.subplot(3,2,1)\n",
        "sns.move_legend(sns.countplot(data=df,x='DeviceProtection',hue='Churn', palette = 'Set2'), \"upper left\", bbox_to_anchor=(1, 1))\n",
        "\n",
        "\n",
        "plt.subplot(3,2,2)\n",
        "sns.move_legend(sns.countplot(data=df,x='TechSupport',hue='Churn', palette = 'Set2'), \"upper left\", bbox_to_anchor=(1, 1))\n",
        "\n",
        "plt.subplot(3,2,3)\n",
        "sns.move_legend(sns.countplot(data=df,x='StreamingTV',hue='Churn', palette = 'Set2'), \"upper left\", bbox_to_anchor=(1, 1))\n",
        "\n",
        "plt.subplot(3,2,4)\n",
        "sns.move_legend(sns.countplot(data=df,x='StreamingMovies',hue='Churn', palette = 'Set2'), \"upper left\", bbox_to_anchor=(1, 1))\n",
        "\n",
        "plt.subplot(3,2,5)\n",
        "sns.move_legend(sns.countplot(data=df,x='Contract',hue='Churn', palette = 'Set2'), \"upper left\", bbox_to_anchor=(1, 1))\n",
        "\n",
        "plt.subplot(3,2,6)\n",
        "sns.move_legend(sns.countplot(data=df,x='PaymentMethod',hue='Churn', palette = 'Set2'), \"upper left\", bbox_to_anchor=(1, 1))"
      ],
      "metadata": {
        "colab": {
          "base_uri": "https://localhost:8080/",
          "height": 729
        },
        "id": "fCaXP7jSmub6",
        "outputId": "2edcb5b7-8897-4248-8ba4-b740e68f0b47"
      },
      "execution_count": 22,
      "outputs": [
        {
          "output_type": "display_data",
          "data": {
            "text/plain": [
              "<Figure size 1008x720 with 6 Axes>"
            ],
            "image/png": "[encoded data removed]"
          },
          "metadata": {
            "needs_background": "light"
          }
        }
      ]
    },
    {
      "cell_type": "code",
      "source": [
        "plt.figure(figsize=(10,6))\n",
        "sns.catplot(x = 'Churn', y=\"tenure\", kind=\"box\", data = df)\n",
        "plt.show()"
      ],
      "metadata": {
        "colab": {
          "base_uri": "https://localhost:8080/",
          "height": 386
        },
        "id": "xSVTAiGdrFtH",
        "outputId": "4072149d-be6c-47c6-dc74-f910e3e0e0e3"
      },
      "execution_count": 23,
      "outputs": [
        {
          "output_type": "display_data",
          "data": {
            "text/plain": [
              "<Figure size 720x432 with 0 Axes>"
            ]
          },
          "metadata": {}
        },
        {
          "output_type": "display_data",
          "data": {
            "text/plain": [
              "<Figure size 360x360 with 1 Axes>"
            ],
            "image/png": "[encoded data removed]"
          },
          "metadata": {
            "needs_background": "light"
          }
        }
      ]
    },
    {
      "cell_type": "markdown",
      "source": [
        "People tend to leave at less tenure more than longer tenure"
      ],
      "metadata": {
        "id": "xwnljKyhr8AC"
      }
    },
    {
      "cell_type": "code",
      "source": [
        "plt.figure(figsize=(10,6))\n",
        "sns.catplot(x = 'Churn', y=\"MonthlyCharges\", kind=\"box\", data = df)"
      ],
      "metadata": {
        "colab": {
          "base_uri": "https://localhost:8080/",
          "height": 404
        },
        "id": "ERPKVV3UrvFP",
        "outputId": "1ccc138d-fbeb-4899-a813-d824236e4266"
      },
      "execution_count": 24,
      "outputs": [
        {
          "output_type": "execute_result",
          "data": {
            "text/plain": [
              "<seaborn.axisgrid.FacetGrid at 0x7f049bb7a110>"
            ]
          },
          "metadata": {},
          "execution_count": 24
        },
        {
          "output_type": "display_data",
          "data": {
            "text/plain": [
              "<Figure size 720x432 with 0 Axes>"
            ]
          },
          "metadata": {}
        },
        {
          "output_type": "display_data",
          "data": {
            "text/plain": [
              "<Figure size 360x360 with 1 Axes>"
            ],
            "image/png": "[encoded data removed]"
          },
          "metadata": {
            "needs_background": "light"
          }
        }
      ]
    },
    {
      "cell_type": "markdown",
      "source": [
        "people who pay more monthly charges are more likely to leave than people who pay less."
      ],
      "metadata": {
        "id": "bMpMou9asBlP"
      }
    },
    {
      "cell_type": "markdown",
      "source": [
        "**Feature Engineering:-**"
      ],
      "metadata": {
        "id": "7wtswZfFmolD"
      }
    },
    {
      "cell_type": "code",
      "source": [
        "# First dropping the irrelevant id column from the dataset\n",
        "\n",
        "df = df.drop('customerID',axis=1)"
      ],
      "metadata": {
        "id": "QSCZYOIxmmgp"
      },
      "execution_count": 25,
      "outputs": []
    },
    {
      "cell_type": "code",
      "source": [
        "df.head(2)"
      ],
      "metadata": {
        "colab": {
          "base_uri": "https://localhost:8080/",
          "height": 193
        },
        "id": "sn7S71iviXds",
        "outputId": "987b558a-630b-4734-db8c-fcb52040dca2"
      },
      "execution_count": 26,
      "outputs": [
        {
          "output_type": "execute_result",
          "data": {
            "text/plain": [
              "   gender  SeniorCitizen Partner Dependents  tenure PhoneService  \\\n",
              "0  Female              0     Yes         No       1           No   \n",
              "1    Male              0      No         No      34          Yes   \n",
              "\n",
              "      MultipleLines InternetService OnlineSecurity OnlineBackup  \\\n",
              "0  No phone service             DSL             No          Yes   \n",
              "1                No             DSL            Yes           No   \n",
              "\n",
              "  DeviceProtection TechSupport StreamingTV StreamingMovies        Contract  \\\n",
              "0               No          No          No              No  Month-to-month   \n",
              "1              Yes          No          No              No        One year   \n",
              "\n",
              "  PaperlessBilling     PaymentMethod  MonthlyCharges TotalCharges Churn  \n",
              "0              Yes  Electronic check           29.85        29.85    No  \n",
              "1               No      Mailed check           56.95       1889.5    No  "
            ],
            "text/html": [
              "\n",
              "  <div id=\"df-8008a982-b6ac-49bf-bdbb-2b57331a4dd7\">\n",
              "    <div class=\"colab-df-container\">\n",
              "      <div>\n",
              "<style scoped>\n",
              "    .dataframe tbody tr th:only-of-type {\n",
              "        vertical-align: middle;\n",
              "    }\n",
              "\n",
              "    .dataframe tbody tr th {\n",
              "        vertical-align: top;\n",
              "    }\n",
              "\n",
              "    .dataframe thead th {\n",
              "        text-align: right;\n",
              "    }\n",
              "</style>\n",
              "<table border=\"1\" class=\"dataframe\">\n",
              "  <thead>\n",
              "    <tr style=\"text-align: right;\">\n",
              "      <th></th>\n",
              "      <th>gender</th>\n",
              "      <th>SeniorCitizen</th>\n",
              "      <th>Partner</th>\n",
              "      <th>Dependents</th>\n",
              "      <th>tenure</th>\n",
              "      <th>PhoneService</th>\n",
              "      <th>MultipleLines</th>\n",
              "      <th>InternetService</th>\n",
              "      <th>OnlineSecurity</th>\n",
              "      <th>OnlineBackup</th>\n",
              "      <th>DeviceProtection</th>\n",
              "      <th>TechSupport</th>\n",
              "      <th>StreamingTV</th>\n",
              "      <th>StreamingMovies</th>\n",
              "      <th>Contract</th>\n",
              "      <th>PaperlessBilling</th>\n",
              "      <th>PaymentMethod</th>\n",
              "      <th>MonthlyCharges</th>\n",
              "      <th>TotalCharges</th>\n",
              "      <th>Churn</th>\n",
              "    </tr>\n",
              "  </thead>\n",
              "  <tbody>\n",
              "    <tr>\n",
              "      <th>0</th>\n",
              "      <td>Female</td>\n",
              "      <td>0</td>\n",
              "      <td>Yes</td>\n",
              "      <td>No</td>\n",
              "      <td>1</td>\n",
              "      <td>No</td>\n",
              "      <td>No phone service</td>\n",
              "      <td>DSL</td>\n",
              "      <td>No</td>\n",
              "      <td>Yes</td>\n",
              "      <td>No</td>\n",
              "      <td>No</td>\n",
              "      <td>No</td>\n",
              "      <td>No</td>\n",
              "      <td>Month-to-month</td>\n",
              "      <td>Yes</td>\n",
              "      <td>Electronic check</td>\n",
              "      <td>29.85</td>\n",
              "      <td>29.85</td>\n",
              "      <td>No</td>\n",
              "    </tr>\n",
              "    <tr>\n",
              "      <th>1</th>\n",
              "      <td>Male</td>\n",
              "      <td>0</td>\n",
              "      <td>No</td>\n",
              "      <td>No</td>\n",
              "      <td>34</td>\n",
              "      <td>Yes</td>\n",
              "      <td>No</td>\n",
              "      <td>DSL</td>\n",
              "      <td>Yes</td>\n",
              "      <td>No</td>\n",
              "      <td>Yes</td>\n",
              "      <td>No</td>\n",
              "      <td>No</td>\n",
              "      <td>No</td>\n",
              "      <td>One year</td>\n",
              "      <td>No</td>\n",
              "      <td>Mailed check</td>\n",
              "      <td>56.95</td>\n",
              "      <td>1889.5</td>\n",
              "      <td>No</td>\n",
              "    </tr>\n",
              "  </tbody>\n",
              "</table>\n",
              "</div>\n",
              "      <button class=\"colab-df-convert\" onclick=\"convertToInteractive('df-8008a982-b6ac-49bf-bdbb-2b57331a4dd7')\"\n",
              "              title=\"Convert this dataframe to an interactive table.\"\n",
              "              style=\"display:none;\">\n",
              "        \n",
              "  <svg xmlns=\"http://www.w3.org/2000/svg\" height=\"24px\"viewBox=\"0 0 24 24\"\n",
              "       width=\"24px\">\n",
              "    <path d=\"M0 0h24v24H0V0z\" fill=\"none\"/>\n",
              "    <path d=\"M18.56 5.44l.94 2.06.94-2.06 2.06-.94-2.06-.94-.94-2.06-.94 2.06-2.06.94zm-11 1L8.5 8.5l.94-2.06 2.06-.94-2.06-.94L8.5 2.5l-.94 2.06-2.06.94zm10 10l.94 2.06.94-2.06 2.06-.94-2.06-.94-.94-2.06-.94 2.06-2.06.94z\"/><path d=\"M17.41 7.96l-1.37-1.37c-.4-.4-.92-.59-1.43-.59-.52 0-1.04.2-1.43.59L10.3 9.45l-7.72 7.72c-.78.78-.78 2.05 0 2.83L4 21.41c.39.39.9.59 1.41.59.51 0 1.02-.2 1.41-.59l7.78-7.78 2.81-2.81c.8-.78.8-2.07 0-2.86zM5.41 20L4 18.59l7.72-7.72 1.47 1.35L5.41 20z\"/>\n",
              "  </svg>\n",
              "      </button>\n",
              "      \n",
              "  <style>\n",
              "    .colab-df-container {\n",
              "      display:flex;\n",
              "      flex-wrap:wrap;\n",
              "      gap: 12px;\n",
              "    }\n",
              "\n",
              "    .colab-df-convert {\n",
              "      background-color: #E8F0FE;\n",
              "      border: none;\n",
              "      border-radius: 50%;\n",
              "      cursor: pointer;\n",
              "      display: none;\n",
              "      fill: #1967D2;\n",
              "      height: 32px;\n",
              "      padding: 0 0 0 0;\n",
              "      width: 32px;\n",
              "    }\n",
              "\n",
              "    .colab-df-convert:hover {\n",
              "      background-color: #E2EBFA;\n",
              "      box-shadow: 0px 1px 2px rgba(60, 64, 67, 0.3), 0px 1px 3px 1px rgba(60, 64, 67, 0.15);\n",
              "      fill: #174EA6;\n",
              "    }\n",
              "\n",
              "    [theme=dark] .colab-df-convert {\n",
              "      background-color: #3B4455;\n",
              "      fill: #D2E3FC;\n",
              "    }\n",
              "\n",
              "    [theme=dark] .colab-df-convert:hover {\n",
              "      background-color: #434B5C;\n",
              "      box-shadow: 0px 1px 3px 1px rgba(0, 0, 0, 0.15);\n",
              "      filter: drop-shadow(0px 1px 2px rgba(0, 0, 0, 0.3));\n",
              "      fill: #FFFFFF;\n",
              "    }\n",
              "  </style>\n",
              "\n",
              "      <script>\n",
              "        const buttonEl =\n",
              "          document.querySelector('#df-8008a982-b6ac-49bf-bdbb-2b57331a4dd7 button.colab-df-convert');\n",
              "        buttonEl.style.display =\n",
              "          google.colab.kernel.accessAllowed ? 'block' : 'none';\n",
              "\n",
              "        async function convertToInteractive(key) {\n",
              "          const element = document.querySelector('#df-8008a982-b6ac-49bf-bdbb-2b57331a4dd7');\n",
              "          const dataTable =\n",
              "            await google.colab.kernel.invokeFunction('convertToInteractive',\n",
              "                                                     [key], {});\n",
              "          if (!dataTable) return;\n",
              "\n",
              "          const docLinkHtml = 'Like what you see? Visit the ' +\n",
              "            '<a target=\"_blank\" href=https://colab.research.google.com/notebooks/data_table.ipynb>data table notebook</a>'\n",
              "            + ' to learn more about interactive tables.';\n",
              "          element.innerHTML = '';\n",
              "          dataTable['output_type'] = 'display_data';\n",
              "          await google.colab.output.renderOutput(dataTable, element);\n",
              "          const docLink = document.createElement('div');\n",
              "          docLink.innerHTML = docLinkHtml;\n",
              "          element.appendChild(docLink);\n",
              "        }\n",
              "      </script>\n",
              "    </div>\n",
              "  </div>\n",
              "  "
            ]
          },
          "metadata": {},
          "execution_count": 26
        }
      ]
    },
    {
      "cell_type": "code",
      "source": [
        "df.columns.to_series().groupby(df.dtypes).groups"
      ],
      "metadata": {
        "colab": {
          "base_uri": "https://localhost:8080/"
        },
        "id": "_X4sVtVFm6i5",
        "outputId": "bcca4824-eaf1-4507-9202-0db983641fe6"
      },
      "execution_count": 27,
      "outputs": [
        {
          "output_type": "execute_result",
          "data": {
            "text/plain": [
              "{int64: ['SeniorCitizen', 'tenure'], float64: ['MonthlyCharges'], object: ['gender', 'Partner', 'Dependents', 'PhoneService', 'MultipleLines', 'InternetService', 'OnlineSecurity', 'OnlineBackup', 'DeviceProtection', 'TechSupport', 'StreamingTV', 'StreamingMovies', 'Contract', 'PaperlessBilling', 'PaymentMethod', 'TotalCharges', 'Churn']}"
            ]
          },
          "metadata": {},
          "execution_count": 27
        }
      ]
    },
    {
      "cell_type": "markdown",
      "source": [
        "We see the TotalCharges column is object type whereas the monthlycharges column is float which is more meaningful."
      ],
      "metadata": {
        "id": "pRSMU5pJnIqR"
      }
    },
    {
      "cell_type": "code",
      "source": [
        "# TotalCharges column analysis and convert to float\n",
        "\n",
        "df.TotalCharges = pd.to_numeric(df.TotalCharges,errors='coerce', downcast=\"float\")\n",
        "df.TotalCharges = df.TotalCharges.astype(np.float64).round(2)\n",
        "print(df.TotalCharges.dtype)\n",
        "print(df.TotalCharges.values)\n",
        "\n",
        "\n"
      ],
      "metadata": {
        "colab": {
          "base_uri": "https://localhost:8080/"
        },
        "id": "_5PMRc5mm4Hi",
        "outputId": "d5f60016-c4e8-4ab8-f26e-36e6e336ec53"
      },
      "execution_count": 28,
      "outputs": [
        {
          "output_type": "stream",
          "name": "stdout",
          "text": [
            "float64\n",
            "[  29.85 1889.5   108.15 ...  346.45  306.6  6844.5 ]\n"
          ]
        }
      ]
    },
    {
      "cell_type": "code",
      "source": [
        "# Checking if any value is null in the total charges column as an error occured during conversion\n",
        "\n",
        "df.TotalCharges.isnull().any() #returns true\n",
        "df[df.TotalCharges.isnull()] # returns the rows containing null in TC column\n",
        "df[~df.TotalCharges.isnull()] # returns the rows containing not null in TC column\n",
        "\n",
        "# dropping those rows as the number is very short compared to data size\n",
        "\n",
        "df1 = df[df['TotalCharges'].notna()]\n",
        "print(df1.shape)\n",
        "\n",
        "# check if anymore null is present\n",
        "\n",
        "df1.TotalCharges.isnull().any() # returns false\n",
        "\n"
      ],
      "metadata": {
        "colab": {
          "base_uri": "https://localhost:8080/"
        },
        "id": "0CQ2uykmrW8Y",
        "outputId": "daecce4b-fc8a-4c69-fd43-4cb1484006a8"
      },
      "execution_count": 29,
      "outputs": [
        {
          "output_type": "stream",
          "name": "stdout",
          "text": [
            "(7032, 20)\n"
          ]
        },
        {
          "output_type": "execute_result",
          "data": {
            "text/plain": [
              "False"
            ]
          },
          "metadata": {},
          "execution_count": 29
        }
      ]
    },
    {
      "cell_type": "code",
      "source": [
        "print(df1.sort_values('TotalCharges',ascending=False)['TotalCharges'])\n",
        "df1.groupby('Churn')['TotalCharges'].value_counts()"
      ],
      "metadata": {
        "colab": {
          "base_uri": "https://localhost:8080/"
        },
        "id": "hqWaqr4cpMgo",
        "outputId": "2ccc0fbe-6038-48d0-e8f0-07038a80c92c"
      },
      "execution_count": 30,
      "outputs": [
        {
          "output_type": "stream",
          "name": "stdout",
          "text": [
            "4610    8684.80\n",
            "4586    8672.45\n",
            "6768    8670.10\n",
            "5347    8594.40\n",
            "2187    8564.75\n",
            "         ...   \n",
            "583       19.00\n",
            "4939      18.90\n",
            "1151      18.85\n",
            "6489      18.85\n",
            "1654      18.80\n",
            "Name: TotalCharges, Length: 7032, dtype: float64\n"
          ]
        },
        {
          "output_type": "execute_result",
          "data": {
            "text/plain": [
              "Churn  TotalCharges\n",
              "No     19.75           7\n",
              "       19.55           6\n",
              "       19.65           6\n",
              "       20.05           6\n",
              "       20.20           5\n",
              "                      ..\n",
              "Yes    7856.00         1\n",
              "       7968.85         1\n",
              "       8109.80         1\n",
              "       8127.60         1\n",
              "       8684.80         1\n",
              "Name: TotalCharges, Length: 6697, dtype: int64"
            ]
          },
          "metadata": {},
          "execution_count": 30
        }
      ]
    },
    {
      "cell_type": "code",
      "source": [
        "# analyzing the TotalCharges column\n",
        "\n",
        "sns.histplot(data=df,x='TotalCharges',hue=\"Churn\", element=\"step\",bins=10)\n",
        "plt.show()"
      ],
      "metadata": {
        "colab": {
          "base_uri": "https://localhost:8080/",
          "height": 297
        },
        "id": "A3nkPoLVjZ74",
        "outputId": "18be6d48-e001-4c16-ceb3-9b23d40e55b6"
      },
      "execution_count": 31,
      "outputs": [
        {
          "output_type": "display_data",
          "data": {
            "text/plain": [
              "<Figure size 432x288 with 1 Axes>"
            ],
            "image/png": "[encoded data removed]"
          },
          "metadata": {
            "needs_background": "light"
          }
        }
      ]
    },
    {
      "cell_type": "code",
      "source": [
        "plt.figure(figsize=(10,6))\n",
        "sns.catplot(x = 'Churn', y=\"TotalCharges\", kind=\"box\", data = df)"
      ],
      "metadata": {
        "colab": {
          "base_uri": "https://localhost:8080/",
          "height": 404
        },
        "id": "mCMELiaMqJZX",
        "outputId": "6635c923-c9fb-42a1-9b05-ee0ca1ee6c04"
      },
      "execution_count": 32,
      "outputs": [
        {
          "output_type": "execute_result",
          "data": {
            "text/plain": [
              "<seaborn.axisgrid.FacetGrid at 0x7f049b6978d0>"
            ]
          },
          "metadata": {},
          "execution_count": 32
        },
        {
          "output_type": "display_data",
          "data": {
            "text/plain": [
              "<Figure size 720x432 with 0 Axes>"
            ]
          },
          "metadata": {}
        },
        {
          "output_type": "display_data",
          "data": {
            "text/plain": [
              "<Figure size 360x360 with 1 Axes>"
            ],
            "image/png": "[encoded data removed]"
          },
          "metadata": {
            "needs_background": "light"
          }
        }
      ]
    },
    {
      "cell_type": "markdown",
      "source": [
        "people tend to leave more who pay around 1000 total charges"
      ],
      "metadata": {
        "id": "SQQu_-J7t3V2"
      }
    },
    {
      "cell_type": "code",
      "source": [
        "def get_values(df): # helper function the unique values for all columns for further processing\n",
        "  for col in df:\n",
        "    if df[col].dtype == 'object':\n",
        "      print(f'{col} : {df[col].unique()}')"
      ],
      "metadata": {
        "id": "nFhhdYmY8vLe"
      },
      "execution_count": 33,
      "outputs": []
    },
    {
      "cell_type": "code",
      "source": [
        "get_values(df1)"
      ],
      "metadata": {
        "colab": {
          "base_uri": "https://localhost:8080/"
        },
        "id": "QDQaCpu69z4r",
        "outputId": "819ba08b-2116-4858-8029-73e0a34cca61"
      },
      "execution_count": 34,
      "outputs": [
        {
          "output_type": "stream",
          "name": "stdout",
          "text": [
            "gender : ['Female' 'Male']\n",
            "Partner : ['Yes' 'No']\n",
            "Dependents : ['No' 'Yes']\n",
            "PhoneService : ['No' 'Yes']\n",
            "MultipleLines : ['No phone service' 'No' 'Yes']\n",
            "InternetService : ['DSL' 'Fiber optic' 'No']\n",
            "OnlineSecurity : ['No' 'Yes' 'No internet service']\n",
            "OnlineBackup : ['Yes' 'No' 'No internet service']\n",
            "DeviceProtection : ['No' 'Yes' 'No internet service']\n",
            "TechSupport : ['No' 'Yes' 'No internet service']\n",
            "StreamingTV : ['No' 'Yes' 'No internet service']\n",
            "StreamingMovies : ['No' 'Yes' 'No internet service']\n",
            "Contract : ['Month-to-month' 'One year' 'Two year']\n",
            "PaperlessBilling : ['Yes' 'No']\n",
            "PaymentMethod : ['Electronic check' 'Mailed check' 'Bank transfer (automatic)'\n",
            " 'Credit card (automatic)']\n",
            "Churn : ['No' 'Yes']\n"
          ]
        }
      ]
    },
    {
      "cell_type": "code",
      "source": [
        "# Replace 'No..... Service' with 'No'\n",
        "\n",
        "df1 = df1.replace('No internet service','No')\n",
        "df1 = df1.replace('No phone service','No')"
      ],
      "metadata": {
        "id": "XH8K3t-OEKsB"
      },
      "execution_count": 35,
      "outputs": []
    },
    {
      "cell_type": "code",
      "source": [
        "get_values(df1)"
      ],
      "metadata": {
        "colab": {
          "base_uri": "https://localhost:8080/"
        },
        "id": "WlV-mXL3DU47",
        "outputId": "dd42137d-36b8-4c62-8a15-c512d611e6a6"
      },
      "execution_count": 36,
      "outputs": [
        {
          "output_type": "stream",
          "name": "stdout",
          "text": [
            "gender : ['Female' 'Male']\n",
            "Partner : ['Yes' 'No']\n",
            "Dependents : ['No' 'Yes']\n",
            "PhoneService : ['No' 'Yes']\n",
            "MultipleLines : ['No' 'Yes']\n",
            "InternetService : ['DSL' 'Fiber optic' 'No']\n",
            "OnlineSecurity : ['No' 'Yes']\n",
            "OnlineBackup : ['Yes' 'No']\n",
            "DeviceProtection : ['No' 'Yes']\n",
            "TechSupport : ['No' 'Yes']\n",
            "StreamingTV : ['No' 'Yes']\n",
            "StreamingMovies : ['No' 'Yes']\n",
            "Contract : ['Month-to-month' 'One year' 'Two year']\n",
            "PaperlessBilling : ['Yes' 'No']\n",
            "PaymentMethod : ['Electronic check' 'Mailed check' 'Bank transfer (automatic)'\n",
            " 'Credit card (automatic)']\n",
            "Churn : ['No' 'Yes']\n"
          ]
        }
      ]
    },
    {
      "cell_type": "code",
      "source": [
        "# label encoding on different columns\n",
        "\n",
        "from sklearn import preprocessing\n",
        "\n",
        "col = ['Partner','Dependents','PhoneService','MultipleLines','OnlineSecurity','OnlineBackup','DeviceProtection','TechSupport','StreamingTV',\n",
        "       'StreamingMovies','PaperlessBilling']\n",
        "le = preprocessing.LabelEncoder()\n",
        "df1[col] = df1[col].apply(le.fit_transform)\n",
        "df1['Churn'] = df1['Churn'].replace({'Yes':1,'No':0})\n",
        "df1['gender'] = df1['gender'].replace({'Female':1,'Male':0})"
      ],
      "metadata": {
        "id": "GdWatYlsDUvy"
      },
      "execution_count": 47,
      "outputs": []
    },
    {
      "cell_type": "code",
      "source": [
        "# Checking the label encoding\n",
        "\n",
        "for col in df1.columns:\n",
        "  print(f'{col} : {df1[col].unique()}')"
      ],
      "metadata": {
        "colab": {
          "base_uri": "https://localhost:8080/"
        },
        "id": "hKP5TBayUZfR",
        "outputId": "e0af1638-e7e2-412d-f753-1435b8420d7d"
      },
      "execution_count": 56,
      "outputs": [
        {
          "output_type": "stream",
          "name": "stdout",
          "text": [
            "gender : [1 0]\n",
            "SeniorCitizen : [0 1]\n",
            "Partner : [1 0]\n",
            "Dependents : [0 1]\n",
            "tenure : [ 1 34  2 45  8 22 10 28 62 13 16 58 49 25 69 52 71 21 12 30 47 72 17 27\n",
            "  5 46 11 70 63 43 15 60 18 66  9  3 31 50 64 56  7 42 35 48 29 65 38 68\n",
            " 32 55 37 36 41  6  4 33 67 23 57 61 14 20 53 40 59 24 44 19 54 51 26 39]\n",
            "PhoneService : [0 1]\n",
            "MultipleLines : [0 1]\n",
            "InternetService : ['DSL' 'Fiber optic' 'No']\n",
            "OnlineSecurity : [0 1]\n",
            "OnlineBackup : [1 0]\n",
            "DeviceProtection : [0 1]\n",
            "TechSupport : [0 1]\n",
            "StreamingTV : [0 1]\n",
            "StreamingMovies : [0 1]\n",
            "Contract : ['Month-to-month' 'One year' 'Two year']\n",
            "PaperlessBilling : [1 0]\n",
            "PaymentMethod : ['Electronic check' 'Mailed check' 'Bank transfer (automatic)'\n",
            " 'Credit card (automatic)']\n",
            "MonthlyCharges : [29.85 56.95 53.85 ... 63.1  44.2  78.7 ]\n",
            "TotalCharges : [  29.85 1889.5   108.15 ...  346.45  306.6  6844.5 ]\n",
            "Churn : [0 1]\n"
          ]
        }
      ]
    },
    {
      "cell_type": "code",
      "source": [
        "# one hot encoding on the other categorical columns\n",
        "\n",
        "from sklearn.preprocessing import OneHotEncoder\n",
        "ohe_col = ['InternetService','Contract','PaymentMethod']\n",
        "ohe = OneHotEncoder()\n",
        "ohe.fit(df1[ohe_col])\n",
        "encoded_col = ohe.get_feature_names_out(ohe_col) # to get the names of ohe columns\n",
        "df1[encoded_col] = ohe.transform(df1[ohe_col]).toarray()"
      ],
      "metadata": {
        "id": "SXLz5tpMVPw_"
      },
      "execution_count": 64,
      "outputs": []
    },
    {
      "cell_type": "code",
      "source": [
        "# dropping the old categorical columns\n",
        "\n",
        "df1 = df1.drop(ohe_col,axis=1)"
      ],
      "metadata": {
        "id": "DU3MFO-XXGWX"
      },
      "execution_count": 68,
      "outputs": []
    },
    {
      "cell_type": "code",
      "source": [
        "df1.info() # all have been converted to numerical"
      ],
      "metadata": {
        "colab": {
          "base_uri": "https://localhost:8080/"
        },
        "id": "lRXT6mXuZ9-G",
        "outputId": "07a42691-0648-4283-d797-99c12b0f2e99"
      },
      "execution_count": 72,
      "outputs": [
        {
          "output_type": "stream",
          "name": "stdout",
          "text": [
            "<class 'pandas.core.frame.DataFrame'>\n",
            "Int64Index: 7032 entries, 0 to 7042\n",
            "Data columns (total 27 columns):\n",
            " #   Column                                   Non-Null Count  Dtype  \n",
            "---  ------                                   --------------  -----  \n",
            " 0   gender                                   7032 non-null   int64  \n",
            " 1   SeniorCitizen                            7032 non-null   int64  \n",
            " 2   Partner                                  7032 non-null   int64  \n",
            " 3   Dependents                               7032 non-null   int64  \n",
            " 4   tenure                                   7032 non-null   int64  \n",
            " 5   PhoneService                             7032 non-null   int64  \n",
            " 6   MultipleLines                            7032 non-null   int64  \n",
            " 7   OnlineSecurity                           7032 non-null   int64  \n",
            " 8   OnlineBackup                             7032 non-null   int64  \n",
            " 9   DeviceProtection                         7032 non-null   int64  \n",
            " 10  TechSupport                              7032 non-null   int64  \n",
            " 11  StreamingTV                              7032 non-null   int64  \n",
            " 12  StreamingMovies                          7032 non-null   int64  \n",
            " 13  PaperlessBilling                         7032 non-null   int64  \n",
            " 14  MonthlyCharges                           7032 non-null   float64\n",
            " 15  TotalCharges                             7032 non-null   float64\n",
            " 16  Churn                                    7032 non-null   int64  \n",
            " 17  InternetService_DSL                      7032 non-null   float64\n",
            " 18  InternetService_Fiber optic              7032 non-null   float64\n",
            " 19  InternetService_No                       7032 non-null   float64\n",
            " 20  Contract_Month-to-month                  7032 non-null   float64\n",
            " 21  Contract_One year                        7032 non-null   float64\n",
            " 22  Contract_Two year                        7032 non-null   float64\n",
            " 23  PaymentMethod_Bank transfer (automatic)  7032 non-null   float64\n",
            " 24  PaymentMethod_Credit card (automatic)    7032 non-null   float64\n",
            " 25  PaymentMethod_Electronic check           7032 non-null   float64\n",
            " 26  PaymentMethod_Mailed check               7032 non-null   float64\n",
            "dtypes: float64(12), int64(15)\n",
            "memory usage: 1.5 MB\n"
          ]
        }
      ]
    },
    {
      "cell_type": "code",
      "source": [
        "# Data scaling of numericalcolumns to scale between 0 and 1\n",
        "\n",
        "from sklearn.preprocessing import MinMaxScaler\n",
        "scale_col = ['tenure','MonthlyCharges','TotalCharges']\n",
        "sc = MinMaxScaler()\n",
        "df1[scale_col] = sc.fit_transform(df1[scale_col])"
      ],
      "metadata": {
        "id": "IURLVenEaxgW"
      },
      "execution_count": 74,
      "outputs": []
    },
    {
      "cell_type": "code",
      "source": [
        "# check the conversion\n",
        "\n",
        "for col in df1.columns: \n",
        "  print(f'{col} : {df1[col].unique()}')"
      ],
      "metadata": {
        "colab": {
          "base_uri": "https://localhost:8080/"
        },
        "id": "eeua5pQXcUUN",
        "outputId": "fe4d17ba-78fc-4b45-a39c-7b97e635e61d"
      },
      "execution_count": 80,
      "outputs": [
        {
          "output_type": "stream",
          "name": "stdout",
          "text": [
            "gender : [1 0]\n",
            "SeniorCitizen : [0 1]\n",
            "Partner : [1 0]\n",
            "Dependents : [0 1]\n",
            "tenure : [0.         0.46478873 0.01408451 0.61971831 0.09859155 0.29577465\n",
            " 0.12676056 0.38028169 0.85915493 0.16901408 0.21126761 0.8028169\n",
            " 0.67605634 0.33802817 0.95774648 0.71830986 0.98591549 0.28169014\n",
            " 0.15492958 0.4084507  0.64788732 1.         0.22535211 0.36619718\n",
            " 0.05633803 0.63380282 0.14084507 0.97183099 0.87323944 0.5915493\n",
            " 0.1971831  0.83098592 0.23943662 0.91549296 0.11267606 0.02816901\n",
            " 0.42253521 0.69014085 0.88732394 0.77464789 0.08450704 0.57746479\n",
            " 0.47887324 0.66197183 0.3943662  0.90140845 0.52112676 0.94366197\n",
            " 0.43661972 0.76056338 0.50704225 0.49295775 0.56338028 0.07042254\n",
            " 0.04225352 0.45070423 0.92957746 0.30985915 0.78873239 0.84507042\n",
            " 0.18309859 0.26760563 0.73239437 0.54929577 0.81690141 0.32394366\n",
            " 0.6056338  0.25352113 0.74647887 0.70422535 0.35211268 0.53521127]\n",
            "PhoneService : [0 1]\n",
            "MultipleLines : [0 1]\n",
            "OnlineSecurity : [0 1]\n",
            "OnlineBackup : [1 0]\n",
            "DeviceProtection : [0 1]\n",
            "TechSupport : [0 1]\n",
            "StreamingTV : [0 1]\n",
            "StreamingMovies : [0 1]\n",
            "PaperlessBilling : [1 0]\n",
            "MonthlyCharges : [0.11542289 0.38507463 0.35422886 ... 0.44626866 0.25820896 0.60149254]\n",
            "TotalCharges : [0.0012751  0.21586661 0.01031041 ... 0.03780868 0.03321025 0.78764136]\n",
            "Churn : [0 1]\n",
            "InternetService_DSL : [1. 0.]\n",
            "InternetService_Fiber optic : [0. 1.]\n",
            "InternetService_No : [0. 1.]\n",
            "Contract_Month-to-month : [1. 0.]\n",
            "Contract_One year : [0. 1.]\n",
            "Contract_Two year : [0. 1.]\n",
            "PaymentMethod_Bank transfer (automatic) : [0. 1.]\n",
            "PaymentMethod_Credit card (automatic) : [0. 1.]\n",
            "PaymentMethod_Electronic check : [1. 0.]\n",
            "PaymentMethod_Mailed check : [0. 1.]\n"
          ]
        }
      ]
    },
    {
      "cell_type": "code",
      "source": [
        "# data spliiting\n",
        "\n",
        "from sklearn.model_selection import train_test_split\n",
        "y = df1['Churn']\n",
        "x = df1.drop('Churn', axis=1)\n",
        "print(f'Shape of the data set before splitting is {x.shape},{y.shape}')\n",
        "X_train, X_test, y_train, y_test = train_test_split(x, y, test_size=0.33, random_state=42)\n",
        "print(f'Shape of the data set after splitting is {X_train.shape},{y_train.shape},{X_test.shape},{y_test.shape}')"
      ],
      "metadata": {
        "colab": {
          "base_uri": "https://localhost:8080/"
        },
        "id": "NX_F9rj5cz6F",
        "outputId": "230984ec-cc1f-4158-97ca-9c432c0da9b8"
      },
      "execution_count": 86,
      "outputs": [
        {
          "output_type": "stream",
          "name": "stdout",
          "text": [
            "Shape of the data set before splitting is (7032, 26),(7032,)\n",
            "Shape of the data set after splitting is (4711, 26),(4711,),(2321, 26),(2321,)\n"
          ]
        }
      ]
    },
    {
      "cell_type": "code",
      "source": [
        "import tensorflow as tf\n",
        "from tensorflow import keras\n",
        "\n",
        "model = tf.keras.Sequential()\n",
        "model.add(keras.layers.Dense(26,input_shape=(26,),activation='relu'))\n",
        "model.add(tf.keras.layers.Dropout(0.2))\n",
        "model.add(keras.layers.Dense(15,activation='relu'))\n",
        "model.add(keras.layers.Dense(1,activation='sigmoid'))\n",
        "model.compile(optimizer='adam', loss='binary_crossentropy',metrics=['accuracy'])\n",
        "model.fit(X_train, y_train, batch_size=32, epochs=100)"
      ],
      "metadata": {
        "colab": {
          "base_uri": "https://localhost:8080/"
        },
        "id": "a0ZUETQqeDxt",
        "outputId": "a0d7621f-cc61-4e5f-8f3b-a49a784db63c"
      },
      "execution_count": 98,
      "outputs": [
        {
          "output_type": "stream",
          "name": "stdout",
          "text": [
            "Epoch 1/100\n",
            "148/148 [==============================] - 2s 2ms/step - loss: 0.5355 - accuracy: 0.7164\n",
            "Epoch 2/100\n",
            "148/148 [==============================] - 0s 2ms/step - loss: 0.4515 - accuracy: 0.7773\n",
            "Epoch 3/100\n",
            "148/148 [==============================] - 0s 2ms/step - loss: 0.4430 - accuracy: 0.7850\n",
            "Epoch 4/100\n",
            "148/148 [==============================] - 0s 2ms/step - loss: 0.4323 - accuracy: 0.7932\n",
            "Epoch 5/100\n",
            "148/148 [==============================] - 0s 2ms/step - loss: 0.4305 - accuracy: 0.7937\n",
            "Epoch 6/100\n",
            "148/148 [==============================] - 0s 2ms/step - loss: 0.4268 - accuracy: 0.7935\n",
            "Epoch 7/100\n",
            "148/148 [==============================] - 0s 2ms/step - loss: 0.4213 - accuracy: 0.7998\n",
            "Epoch 8/100\n",
            "148/148 [==============================] - 0s 2ms/step - loss: 0.4191 - accuracy: 0.8015\n",
            "Epoch 9/100\n",
            "148/148 [==============================] - 0s 2ms/step - loss: 0.4212 - accuracy: 0.7988\n",
            "Epoch 10/100\n",
            "148/148 [==============================] - 0s 2ms/step - loss: 0.4214 - accuracy: 0.8026\n",
            "Epoch 11/100\n",
            "148/148 [==============================] - 0s 3ms/step - loss: 0.4218 - accuracy: 0.8000\n",
            "Epoch 12/100\n",
            "148/148 [==============================] - 0s 2ms/step - loss: 0.4169 - accuracy: 0.8032\n",
            "Epoch 13/100\n",
            "148/148 [==============================] - 0s 2ms/step - loss: 0.4141 - accuracy: 0.7998\n",
            "Epoch 14/100\n",
            "148/148 [==============================] - 0s 2ms/step - loss: 0.4136 - accuracy: 0.8028\n",
            "Epoch 15/100\n",
            "148/148 [==============================] - 0s 2ms/step - loss: 0.4151 - accuracy: 0.8041\n",
            "Epoch 16/100\n",
            "148/148 [==============================] - 0s 2ms/step - loss: 0.4150 - accuracy: 0.8013\n",
            "Epoch 17/100\n",
            "148/148 [==============================] - 0s 2ms/step - loss: 0.4116 - accuracy: 0.8049\n",
            "Epoch 18/100\n",
            "148/148 [==============================] - 0s 2ms/step - loss: 0.4115 - accuracy: 0.8039\n",
            "Epoch 19/100\n",
            "148/148 [==============================] - 0s 2ms/step - loss: 0.4107 - accuracy: 0.8056\n",
            "Epoch 20/100\n",
            "148/148 [==============================] - 0s 2ms/step - loss: 0.4092 - accuracy: 0.8075\n",
            "Epoch 21/100\n",
            "148/148 [==============================] - 0s 2ms/step - loss: 0.4105 - accuracy: 0.8041\n",
            "Epoch 22/100\n",
            "148/148 [==============================] - 0s 2ms/step - loss: 0.4064 - accuracy: 0.8109\n",
            "Epoch 23/100\n",
            "148/148 [==============================] - 0s 2ms/step - loss: 0.4077 - accuracy: 0.8066\n",
            "Epoch 24/100\n",
            "148/148 [==============================] - 0s 2ms/step - loss: 0.4052 - accuracy: 0.8034\n",
            "Epoch 25/100\n",
            "148/148 [==============================] - 0s 2ms/step - loss: 0.4092 - accuracy: 0.8037\n",
            "Epoch 26/100\n",
            "148/148 [==============================] - 0s 2ms/step - loss: 0.4051 - accuracy: 0.8094\n",
            "Epoch 27/100\n",
            "148/148 [==============================] - 0s 2ms/step - loss: 0.4023 - accuracy: 0.8068\n",
            "Epoch 28/100\n",
            "148/148 [==============================] - 0s 2ms/step - loss: 0.4028 - accuracy: 0.8051\n",
            "Epoch 29/100\n",
            "148/148 [==============================] - 0s 2ms/step - loss: 0.4023 - accuracy: 0.8075\n",
            "Epoch 30/100\n",
            "148/148 [==============================] - 0s 2ms/step - loss: 0.4044 - accuracy: 0.8075\n",
            "Epoch 31/100\n",
            "148/148 [==============================] - 0s 2ms/step - loss: 0.3977 - accuracy: 0.8094\n",
            "Epoch 32/100\n",
            "148/148 [==============================] - 0s 2ms/step - loss: 0.4017 - accuracy: 0.8092\n",
            "Epoch 33/100\n",
            "148/148 [==============================] - 0s 2ms/step - loss: 0.4046 - accuracy: 0.8066\n",
            "Epoch 34/100\n",
            "148/148 [==============================] - 0s 2ms/step - loss: 0.3977 - accuracy: 0.8111\n",
            "Epoch 35/100\n",
            "148/148 [==============================] - 0s 2ms/step - loss: 0.4023 - accuracy: 0.8119\n",
            "Epoch 36/100\n",
            "148/148 [==============================] - 0s 2ms/step - loss: 0.4004 - accuracy: 0.8128\n",
            "Epoch 37/100\n",
            "148/148 [==============================] - 0s 2ms/step - loss: 0.3995 - accuracy: 0.8094\n",
            "Epoch 38/100\n",
            "148/148 [==============================] - 0s 2ms/step - loss: 0.3974 - accuracy: 0.8170\n",
            "Epoch 39/100\n",
            "148/148 [==============================] - 0s 2ms/step - loss: 0.3939 - accuracy: 0.8136\n",
            "Epoch 40/100\n",
            "148/148 [==============================] - 0s 2ms/step - loss: 0.3949 - accuracy: 0.8138\n",
            "Epoch 41/100\n",
            "148/148 [==============================] - 0s 2ms/step - loss: 0.3905 - accuracy: 0.8136\n",
            "Epoch 42/100\n",
            "148/148 [==============================] - 0s 2ms/step - loss: 0.3949 - accuracy: 0.8145\n",
            "Epoch 43/100\n",
            "148/148 [==============================] - 0s 2ms/step - loss: 0.3930 - accuracy: 0.8124\n",
            "Epoch 44/100\n",
            "148/148 [==============================] - 0s 2ms/step - loss: 0.3937 - accuracy: 0.8174\n",
            "Epoch 45/100\n",
            "148/148 [==============================] - 0s 2ms/step - loss: 0.3938 - accuracy: 0.8096\n",
            "Epoch 46/100\n",
            "148/148 [==============================] - 0s 2ms/step - loss: 0.3875 - accuracy: 0.8211\n",
            "Epoch 47/100\n",
            "148/148 [==============================] - 0s 2ms/step - loss: 0.3935 - accuracy: 0.8130\n",
            "Epoch 48/100\n",
            "148/148 [==============================] - 0s 2ms/step - loss: 0.3899 - accuracy: 0.8179\n",
            "Epoch 49/100\n",
            "148/148 [==============================] - 0s 2ms/step - loss: 0.3906 - accuracy: 0.8183\n",
            "Epoch 50/100\n",
            "148/148 [==============================] - 0s 2ms/step - loss: 0.3875 - accuracy: 0.8153\n",
            "Epoch 51/100\n",
            "148/148 [==============================] - 0s 2ms/step - loss: 0.3909 - accuracy: 0.8124\n",
            "Epoch 52/100\n",
            "148/148 [==============================] - 0s 2ms/step - loss: 0.3883 - accuracy: 0.8181\n",
            "Epoch 53/100\n",
            "148/148 [==============================] - 0s 3ms/step - loss: 0.3889 - accuracy: 0.8187\n",
            "Epoch 54/100\n",
            "148/148 [==============================] - 0s 2ms/step - loss: 0.3860 - accuracy: 0.8158\n",
            "Epoch 55/100\n",
            "148/148 [==============================] - 0s 2ms/step - loss: 0.3872 - accuracy: 0.8166\n",
            "Epoch 56/100\n",
            "148/148 [==============================] - 0s 2ms/step - loss: 0.3895 - accuracy: 0.8174\n",
            "Epoch 57/100\n",
            "148/148 [==============================] - 0s 2ms/step - loss: 0.3869 - accuracy: 0.8147\n",
            "Epoch 58/100\n",
            "148/148 [==============================] - 0s 2ms/step - loss: 0.3846 - accuracy: 0.8177\n",
            "Epoch 59/100\n",
            "148/148 [==============================] - 0s 2ms/step - loss: 0.3867 - accuracy: 0.8185\n",
            "Epoch 60/100\n",
            "148/148 [==============================] - 0s 2ms/step - loss: 0.3888 - accuracy: 0.8145\n",
            "Epoch 61/100\n",
            "148/148 [==============================] - 0s 2ms/step - loss: 0.3868 - accuracy: 0.8172\n",
            "Epoch 62/100\n",
            "148/148 [==============================] - 0s 2ms/step - loss: 0.3840 - accuracy: 0.8155\n",
            "Epoch 63/100\n",
            "148/148 [==============================] - 0s 2ms/step - loss: 0.3880 - accuracy: 0.8143\n",
            "Epoch 64/100\n",
            "148/148 [==============================] - 0s 2ms/step - loss: 0.3853 - accuracy: 0.8170\n",
            "Epoch 65/100\n",
            "148/148 [==============================] - 0s 2ms/step - loss: 0.3876 - accuracy: 0.8162\n",
            "Epoch 66/100\n",
            "148/148 [==============================] - 0s 2ms/step - loss: 0.3863 - accuracy: 0.8172\n",
            "Epoch 67/100\n",
            "148/148 [==============================] - 0s 2ms/step - loss: 0.3837 - accuracy: 0.8174\n",
            "Epoch 68/100\n",
            "148/148 [==============================] - 0s 2ms/step - loss: 0.3804 - accuracy: 0.8185\n",
            "Epoch 69/100\n",
            "148/148 [==============================] - 0s 2ms/step - loss: 0.3834 - accuracy: 0.8189\n",
            "Epoch 70/100\n",
            "148/148 [==============================] - 0s 2ms/step - loss: 0.3833 - accuracy: 0.8151\n",
            "Epoch 71/100\n",
            "148/148 [==============================] - 0s 2ms/step - loss: 0.3882 - accuracy: 0.8149\n",
            "Epoch 72/100\n",
            "148/148 [==============================] - 0s 2ms/step - loss: 0.3842 - accuracy: 0.8191\n",
            "Epoch 73/100\n",
            "148/148 [==============================] - 0s 2ms/step - loss: 0.3836 - accuracy: 0.8185\n",
            "Epoch 74/100\n",
            "148/148 [==============================] - 0s 2ms/step - loss: 0.3793 - accuracy: 0.8215\n",
            "Epoch 75/100\n",
            "148/148 [==============================] - 0s 2ms/step - loss: 0.3845 - accuracy: 0.8168\n",
            "Epoch 76/100\n",
            "148/148 [==============================] - 0s 2ms/step - loss: 0.3799 - accuracy: 0.8219\n",
            "Epoch 77/100\n",
            "148/148 [==============================] - 0s 2ms/step - loss: 0.3812 - accuracy: 0.8183\n",
            "Epoch 78/100\n",
            "148/148 [==============================] - 0s 2ms/step - loss: 0.3791 - accuracy: 0.8211\n",
            "Epoch 79/100\n",
            "148/148 [==============================] - 0s 3ms/step - loss: 0.3816 - accuracy: 0.8206\n",
            "Epoch 80/100\n",
            "148/148 [==============================] - 0s 3ms/step - loss: 0.3832 - accuracy: 0.8145\n",
            "Epoch 81/100\n",
            "148/148 [==============================] - 0s 2ms/step - loss: 0.3814 - accuracy: 0.8158\n",
            "Epoch 82/100\n",
            "148/148 [==============================] - 0s 2ms/step - loss: 0.3769 - accuracy: 0.8242\n",
            "Epoch 83/100\n",
            "148/148 [==============================] - 0s 2ms/step - loss: 0.3843 - accuracy: 0.8155\n",
            "Epoch 84/100\n",
            "148/148 [==============================] - 0s 2ms/step - loss: 0.3801 - accuracy: 0.8238\n",
            "Epoch 85/100\n",
            "148/148 [==============================] - 0s 2ms/step - loss: 0.3830 - accuracy: 0.8119\n",
            "Epoch 86/100\n",
            "148/148 [==============================] - 0s 2ms/step - loss: 0.3800 - accuracy: 0.8194\n",
            "Epoch 87/100\n",
            "148/148 [==============================] - 0s 2ms/step - loss: 0.3777 - accuracy: 0.8200\n",
            "Epoch 88/100\n",
            "148/148 [==============================] - 0s 2ms/step - loss: 0.3791 - accuracy: 0.8185\n",
            "Epoch 89/100\n",
            "148/148 [==============================] - 0s 2ms/step - loss: 0.3762 - accuracy: 0.8213\n",
            "Epoch 90/100\n",
            "148/148 [==============================] - 0s 2ms/step - loss: 0.3796 - accuracy: 0.8189\n",
            "Epoch 91/100\n",
            "148/148 [==============================] - 0s 2ms/step - loss: 0.3783 - accuracy: 0.8172\n",
            "Epoch 92/100\n",
            "148/148 [==============================] - 0s 2ms/step - loss: 0.3762 - accuracy: 0.8247\n",
            "Epoch 93/100\n",
            "148/148 [==============================] - 0s 2ms/step - loss: 0.3801 - accuracy: 0.8234\n",
            "Epoch 94/100\n",
            "148/148 [==============================] - 0s 2ms/step - loss: 0.3806 - accuracy: 0.8213\n",
            "Epoch 95/100\n",
            "148/148 [==============================] - 0s 2ms/step - loss: 0.3759 - accuracy: 0.8198\n",
            "Epoch 96/100\n",
            "148/148 [==============================] - 0s 2ms/step - loss: 0.3741 - accuracy: 0.8232\n",
            "Epoch 97/100\n",
            "148/148 [==============================] - 0s 2ms/step - loss: 0.3758 - accuracy: 0.8253\n",
            "Epoch 98/100\n",
            "148/148 [==============================] - 0s 2ms/step - loss: 0.3738 - accuracy: 0.8270\n",
            "Epoch 99/100\n",
            "148/148 [==============================] - 0s 2ms/step - loss: 0.3753 - accuracy: 0.8247\n",
            "Epoch 100/100\n",
            "148/148 [==============================] - 0s 2ms/step - loss: 0.3758 - accuracy: 0.8251\n"
          ]
        },
        {
          "output_type": "execute_result",
          "data": {
            "text/plain": [
              "<keras.callbacks.History at 0x7f043bbb3350>"
            ]
          },
          "metadata": {},
          "execution_count": 98
        }
      ]
    },
    {
      "cell_type": "code",
      "source": [
        "# Evaluate on test set\n",
        "\n",
        "acc_test = model.evaluate(X_test,y_test)\n",
        "print(f'The test accuracy we got is,{acc_test}')\n"
      ],
      "metadata": {
        "colab": {
          "base_uri": "https://localhost:8080/"
        },
        "id": "6aLGcNgjiTUV",
        "outputId": "21544a96-7686-4ca4-915d-c7676e0b2462"
      },
      "execution_count": 99,
      "outputs": [
        {
          "output_type": "stream",
          "name": "stdout",
          "text": [
            "73/73 [==============================] - 0s 2ms/step - loss: 0.4451 - accuracy: 0.7962\n",
            "The test accuracy we got is,[0.4450751841068268, 0.7962085604667664]\n"
          ]
        }
      ]
    },
    {
      "cell_type": "code",
      "source": [
        "# Prediction by the model on test set\n",
        "\n",
        "pred = model.predict(X_test,verbose=0)\n",
        "pred_list = [0 if i<.5 else 1 for i in pred]\n",
        "# print(pred_list)\n",
        "compare = pd.DataFrame({'Ground_Truth':y_test,'Prediction':pred_list})\n",
        "compare = compare.reset_index(drop=True)\n",
        "compare.head(10)"
      ],
      "metadata": {
        "colab": {
          "base_uri": "https://localhost:8080/",
          "height": 363
        },
        "id": "JIosbr7fjIwu",
        "outputId": "cef996e0-6772-4ab6-af8b-89936d41b8ec"
      },
      "execution_count": 121,
      "outputs": [
        {
          "output_type": "execute_result",
          "data": {
            "text/plain": [
              "   Ground_Truth  Prediction\n",
              "0             0           0\n",
              "1             0           0\n",
              "2             1           1\n",
              "3             0           0\n",
              "4             0           1\n",
              "5             0           0\n",
              "6             0           0\n",
              "7             0           1\n",
              "8             0           0\n",
              "9             0           0"
            ],
            "text/html": [
              "\n",
              "  <div id=\"df-d0e854c9-17a4-4add-8c0a-24624b018f76\">\n",
              "    <div class=\"colab-df-container\">\n",
              "      <div>\n",
              "<style scoped>\n",
              "    .dataframe tbody tr th:only-of-type {\n",
              "        vertical-align: middle;\n",
              "    }\n",
              "\n",
              "    .dataframe tbody tr th {\n",
              "        vertical-align: top;\n",
              "    }\n",
              "\n",
              "    .dataframe thead th {\n",
              "        text-align: right;\n",
              "    }\n",
              "</style>\n",
              "<table border=\"1\" class=\"dataframe\">\n",
              "  <thead>\n",
              "    <tr style=\"text-align: right;\">\n",
              "      <th></th>\n",
              "      <th>Ground_Truth</th>\n",
              "      <th>Prediction</th>\n",
              "    </tr>\n",
              "  </thead>\n",
              "  <tbody>\n",
              "    <tr>\n",
              "      <th>0</th>\n",
              "      <td>0</td>\n",
              "      <td>0</td>\n",
              "    </tr>\n",
              "    <tr>\n",
              "      <th>1</th>\n",
              "      <td>0</td>\n",
              "      <td>0</td>\n",
              "    </tr>\n",
              "    <tr>\n",
              "      <th>2</th>\n",
              "      <td>1</td>\n",
              "      <td>1</td>\n",
              "    </tr>\n",
              "    <tr>\n",
              "      <th>3</th>\n",
              "      <td>0</td>\n",
              "      <td>0</td>\n",
              "    </tr>\n",
              "    <tr>\n",
              "      <th>4</th>\n",
              "      <td>0</td>\n",
              "      <td>1</td>\n",
              "    </tr>\n",
              "    <tr>\n",
              "      <th>5</th>\n",
              "      <td>0</td>\n",
              "      <td>0</td>\n",
              "    </tr>\n",
              "    <tr>\n",
              "      <th>6</th>\n",
              "      <td>0</td>\n",
              "      <td>0</td>\n",
              "    </tr>\n",
              "    <tr>\n",
              "      <th>7</th>\n",
              "      <td>0</td>\n",
              "      <td>1</td>\n",
              "    </tr>\n",
              "    <tr>\n",
              "      <th>8</th>\n",
              "      <td>0</td>\n",
              "      <td>0</td>\n",
              "    </tr>\n",
              "    <tr>\n",
              "      <th>9</th>\n",
              "      <td>0</td>\n",
              "      <td>0</td>\n",
              "    </tr>\n",
              "  </tbody>\n",
              "</table>\n",
              "</div>\n",
              "      <button class=\"colab-df-convert\" onclick=\"convertToInteractive('df-d0e854c9-17a4-4add-8c0a-24624b018f76')\"\n",
              "              title=\"Convert this dataframe to an interactive table.\"\n",
              "              style=\"display:none;\">\n",
              "        \n",
              "  <svg xmlns=\"http://www.w3.org/2000/svg\" height=\"24px\"viewBox=\"0 0 24 24\"\n",
              "       width=\"24px\">\n",
              "    <path d=\"M0 0h24v24H0V0z\" fill=\"none\"/>\n",
              "    <path d=\"M18.56 5.44l.94 2.06.94-2.06 2.06-.94-2.06-.94-.94-2.06-.94 2.06-2.06.94zm-11 1L8.5 8.5l.94-2.06 2.06-.94-2.06-.94L8.5 2.5l-.94 2.06-2.06.94zm10 10l.94 2.06.94-2.06 2.06-.94-2.06-.94-.94-2.06-.94 2.06-2.06.94z\"/><path d=\"M17.41 7.96l-1.37-1.37c-.4-.4-.92-.59-1.43-.59-.52 0-1.04.2-1.43.59L10.3 9.45l-7.72 7.72c-.78.78-.78 2.05 0 2.83L4 21.41c.39.39.9.59 1.41.59.51 0 1.02-.2 1.41-.59l7.78-7.78 2.81-2.81c.8-.78.8-2.07 0-2.86zM5.41 20L4 18.59l7.72-7.72 1.47 1.35L5.41 20z\"/>\n",
              "  </svg>\n",
              "      </button>\n",
              "      \n",
              "  <style>\n",
              "    .colab-df-container {\n",
              "      display:flex;\n",
              "      flex-wrap:wrap;\n",
              "      gap: 12px;\n",
              "    }\n",
              "\n",
              "    .colab-df-convert {\n",
              "      background-color: #E8F0FE;\n",
              "      border: none;\n",
              "      border-radius: 50%;\n",
              "      cursor: pointer;\n",
              "      display: none;\n",
              "      fill: #1967D2;\n",
              "      height: 32px;\n",
              "      padding: 0 0 0 0;\n",
              "      width: 32px;\n",
              "    }\n",
              "\n",
              "    .colab-df-convert:hover {\n",
              "      background-color: #E2EBFA;\n",
              "      box-shadow: 0px 1px 2px rgba(60, 64, 67, 0.3), 0px 1px 3px 1px rgba(60, 64, 67, 0.15);\n",
              "      fill: #174EA6;\n",
              "    }\n",
              "\n",
              "    [theme=dark] .colab-df-convert {\n",
              "      background-color: #3B4455;\n",
              "      fill: #D2E3FC;\n",
              "    }\n",
              "\n",
              "    [theme=dark] .colab-df-convert:hover {\n",
              "      background-color: #434B5C;\n",
              "      box-shadow: 0px 1px 3px 1px rgba(0, 0, 0, 0.15);\n",
              "      filter: drop-shadow(0px 1px 2px rgba(0, 0, 0, 0.3));\n",
              "      fill: #FFFFFF;\n",
              "    }\n",
              "  </style>\n",
              "\n",
              "      <script>\n",
              "        const buttonEl =\n",
              "          document.querySelector('#df-d0e854c9-17a4-4add-8c0a-24624b018f76 button.colab-df-convert');\n",
              "        buttonEl.style.display =\n",
              "          google.colab.kernel.accessAllowed ? 'block' : 'none';\n",
              "\n",
              "        async function convertToInteractive(key) {\n",
              "          const element = document.querySelector('#df-d0e854c9-17a4-4add-8c0a-24624b018f76');\n",
              "          const dataTable =\n",
              "            await google.colab.kernel.invokeFunction('convertToInteractive',\n",
              "                                                     [key], {});\n",
              "          if (!dataTable) return;\n",
              "\n",
              "          const docLinkHtml = 'Like what you see? Visit the ' +\n",
              "            '<a target=\"_blank\" href=https://colab.research.google.com/notebooks/data_table.ipynb>data table notebook</a>'\n",
              "            + ' to learn more about interactive tables.';\n",
              "          element.innerHTML = '';\n",
              "          dataTable['output_type'] = 'display_data';\n",
              "          await google.colab.output.renderOutput(dataTable, element);\n",
              "          const docLink = document.createElement('div');\n",
              "          docLink.innerHTML = docLinkHtml;\n",
              "          element.appendChild(docLink);\n",
              "        }\n",
              "      </script>\n",
              "    </div>\n",
              "  </div>\n",
              "  "
            ]
          },
          "metadata": {},
          "execution_count": 121
        }
      ]
    },
    {
      "cell_type": "code",
      "source": [
        "# Confusion matrix\n",
        "\n",
        "from sklearn.metrics import confusion_matrix\n",
        "cm = confusion_matrix(compare.Ground_Truth,compare.Prediction)\n",
        "plt.figure(figsize=(8,6))\n",
        "ax = sns.heatmap(cm, annot=True,fmt='d')\n",
        "ax.set(xlabel='True Label', ylabel='Prediction Label')\n",
        "plt.show()"
      ],
      "metadata": {
        "colab": {
          "base_uri": "https://localhost:8080/",
          "height": 427
        },
        "id": "GblMKnLpny9M",
        "outputId": "7d54bb2c-6bd5-4bce-9475-e176c7539ad0"
      },
      "execution_count": 126,
      "outputs": [
        {
          "output_type": "display_data",
          "data": {
            "text/plain": [
              "<Figure size 576x432 with 2 Axes>"
            ],
            "image/png": "[encoded data removed]"
          },
          "metadata": {}
        }
      ]
    },
    {
      "cell_type": "code",
      "source": [
        "from sklearn.metrics import classification_report\n",
        "\n",
        "print(classification_report(compare.Ground_Truth,compare.Prediction))"
      ],
      "metadata": {
        "colab": {
          "base_uri": "https://localhost:8080/"
        },
        "id": "6AQsLoNKqQ4d",
        "outputId": "41dc279a-a02f-4840-f2e2-b7b508d02255"
      },
      "execution_count": 130,
      "outputs": [
        {
          "output_type": "stream",
          "name": "stdout",
          "text": [
            "              precision    recall  f1-score   support\n",
            "\n",
            "           0       0.85      0.88      0.86      1711\n",
            "           1       0.63      0.55      0.59       610\n",
            "\n",
            "    accuracy                           0.80      2321\n",
            "   macro avg       0.74      0.72      0.73      2321\n",
            "weighted avg       0.79      0.80      0.79      2321\n",
            "\n"
          ]
        }
      ]
    }
  ]
}
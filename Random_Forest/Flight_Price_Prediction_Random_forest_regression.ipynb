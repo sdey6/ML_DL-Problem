{
  "nbformat": 4,
  "nbformat_minor": 0,
  "metadata": {
    "colab": {
      "provenance": []
    },
    "kernelspec": {
      "name": "python3",
      "display_name": "Python 3"
    },
    "language_info": {
      "name": "python"
    }
  },
  "cells": [
    {
      "cell_type": "markdown",
      "source": [
        "- Task: Flight Price prediction\n",
        "- Model: Random Forest Regressior\n",
        "- Data: Kaggle"
      ],
      "metadata": {
        "id": "TKhGY8dcrxOJ"
      }
    },
    {
      "cell_type": "code",
      "source": [
        "import pandas as pd\n",
        "import numpy as np\n"
      ],
      "metadata": {
        "id": "ksrvMu0vr9l1"
      },
      "execution_count": null,
      "outputs": []
    },
    {
      "cell_type": "code",
      "source": [
        "path = '/content/drive/MyDrive/Colab Notebooks/Machine learning/dataset/Data_Train_flight price.xlsx'\n",
        "df = pd.read_excel(path)\n",
        "df.head()"
      ],
      "metadata": {
        "colab": {
          "base_uri": "https://localhost:8080/",
          "height": 250
        },
        "id": "f94NpPw7sCoV",
        "outputId": "a1c7e726-1f15-4cb9-fcd6-1d80506023ee"
      },
      "execution_count": null,
      "outputs": [
        {
          "output_type": "execute_result",
          "data": {
            "text/plain": [
              "       Airline Date_of_Journey    Source Destination                  Route  \\\n",
              "0       IndiGo      24/03/2019  Banglore   New Delhi              BLR → DEL   \n",
              "1    Air India       1/05/2019   Kolkata    Banglore  CCU → IXR → BBI → BLR   \n",
              "2  Jet Airways       9/06/2019     Delhi      Cochin  DEL → LKO → BOM → COK   \n",
              "3       IndiGo      12/05/2019   Kolkata    Banglore        CCU → NAG → BLR   \n",
              "4       IndiGo      01/03/2019  Banglore   New Delhi        BLR → NAG → DEL   \n",
              "\n",
              "  Dep_Time  Arrival_Time Duration Total_Stops Additional_Info  Price  \n",
              "0    22:20  01:10 22 Mar   2h 50m    non-stop         No info   3897  \n",
              "1    05:50         13:15   7h 25m     2 stops         No info   7662  \n",
              "2    09:25  04:25 10 Jun      19h     2 stops         No info  13882  \n",
              "3    18:05         23:30   5h 25m      1 stop         No info   6218  \n",
              "4    16:50         21:35   4h 45m      1 stop         No info  13302  "
            ],
            "text/html": [
              "\n",
              "  <div id=\"df-e520fddc-67a2-48e8-b501-c4d0c1fddc0b\">\n",
              "    <div class=\"colab-df-container\">\n",
              "      <div>\n",
              "<style scoped>\n",
              "    .dataframe tbody tr th:only-of-type {\n",
              "        vertical-align: middle;\n",
              "    }\n",
              "\n",
              "    .dataframe tbody tr th {\n",
              "        vertical-align: top;\n",
              "    }\n",
              "\n",
              "    .dataframe thead th {\n",
              "        text-align: right;\n",
              "    }\n",
              "</style>\n",
              "<table border=\"1\" class=\"dataframe\">\n",
              "  <thead>\n",
              "    <tr style=\"text-align: right;\">\n",
              "      <th></th>\n",
              "      <th>Airline</th>\n",
              "      <th>Date_of_Journey</th>\n",
              "      <th>Source</th>\n",
              "      <th>Destination</th>\n",
              "      <th>Route</th>\n",
              "      <th>Dep_Time</th>\n",
              "      <th>Arrival_Time</th>\n",
              "      <th>Duration</th>\n",
              "      <th>Total_Stops</th>\n",
              "      <th>Additional_Info</th>\n",
              "      <th>Price</th>\n",
              "    </tr>\n",
              "  </thead>\n",
              "  <tbody>\n",
              "    <tr>\n",
              "      <th>0</th>\n",
              "      <td>IndiGo</td>\n",
              "      <td>24/03/2019</td>\n",
              "      <td>Banglore</td>\n",
              "      <td>New Delhi</td>\n",
              "      <td>BLR → DEL</td>\n",
              "      <td>22:20</td>\n",
              "      <td>01:10 22 Mar</td>\n",
              "      <td>2h 50m</td>\n",
              "      <td>non-stop</td>\n",
              "      <td>No info</td>\n",
              "      <td>3897</td>\n",
              "    </tr>\n",
              "    <tr>\n",
              "      <th>1</th>\n",
              "      <td>Air India</td>\n",
              "      <td>1/05/2019</td>\n",
              "      <td>Kolkata</td>\n",
              "      <td>Banglore</td>\n",
              "      <td>CCU → IXR → BBI → BLR</td>\n",
              "      <td>05:50</td>\n",
              "      <td>13:15</td>\n",
              "      <td>7h 25m</td>\n",
              "      <td>2 stops</td>\n",
              "      <td>No info</td>\n",
              "      <td>7662</td>\n",
              "    </tr>\n",
              "    <tr>\n",
              "      <th>2</th>\n",
              "      <td>Jet Airways</td>\n",
              "      <td>9/06/2019</td>\n",
              "      <td>Delhi</td>\n",
              "      <td>Cochin</td>\n",
              "      <td>DEL → LKO → BOM → COK</td>\n",
              "      <td>09:25</td>\n",
              "      <td>04:25 10 Jun</td>\n",
              "      <td>19h</td>\n",
              "      <td>2 stops</td>\n",
              "      <td>No info</td>\n",
              "      <td>13882</td>\n",
              "    </tr>\n",
              "    <tr>\n",
              "      <th>3</th>\n",
              "      <td>IndiGo</td>\n",
              "      <td>12/05/2019</td>\n",
              "      <td>Kolkata</td>\n",
              "      <td>Banglore</td>\n",
              "      <td>CCU → NAG → BLR</td>\n",
              "      <td>18:05</td>\n",
              "      <td>23:30</td>\n",
              "      <td>5h 25m</td>\n",
              "      <td>1 stop</td>\n",
              "      <td>No info</td>\n",
              "      <td>6218</td>\n",
              "    </tr>\n",
              "    <tr>\n",
              "      <th>4</th>\n",
              "      <td>IndiGo</td>\n",
              "      <td>01/03/2019</td>\n",
              "      <td>Banglore</td>\n",
              "      <td>New Delhi</td>\n",
              "      <td>BLR → NAG → DEL</td>\n",
              "      <td>16:50</td>\n",
              "      <td>21:35</td>\n",
              "      <td>4h 45m</td>\n",
              "      <td>1 stop</td>\n",
              "      <td>No info</td>\n",
              "      <td>13302</td>\n",
              "    </tr>\n",
              "  </tbody>\n",
              "</table>\n",
              "</div>\n",
              "      <button class=\"colab-df-convert\" onclick=\"convertToInteractive('df-e520fddc-67a2-48e8-b501-c4d0c1fddc0b')\"\n",
              "              title=\"Convert this dataframe to an interactive table.\"\n",
              "              style=\"display:none;\">\n",
              "        \n",
              "  <svg xmlns=\"http://www.w3.org/2000/svg\" height=\"24px\"viewBox=\"0 0 24 24\"\n",
              "       width=\"24px\">\n",
              "    <path d=\"M0 0h24v24H0V0z\" fill=\"none\"/>\n",
              "    <path d=\"M18.56 5.44l.94 2.06.94-2.06 2.06-.94-2.06-.94-.94-2.06-.94 2.06-2.06.94zm-11 1L8.5 8.5l.94-2.06 2.06-.94-2.06-.94L8.5 2.5l-.94 2.06-2.06.94zm10 10l.94 2.06.94-2.06 2.06-.94-2.06-.94-.94-2.06-.94 2.06-2.06.94z\"/><path d=\"M17.41 7.96l-1.37-1.37c-.4-.4-.92-.59-1.43-.59-.52 0-1.04.2-1.43.59L10.3 9.45l-7.72 7.72c-.78.78-.78 2.05 0 2.83L4 21.41c.39.39.9.59 1.41.59.51 0 1.02-.2 1.41-.59l7.78-7.78 2.81-2.81c.8-.78.8-2.07 0-2.86zM5.41 20L4 18.59l7.72-7.72 1.47 1.35L5.41 20z\"/>\n",
              "  </svg>\n",
              "      </button>\n",
              "      \n",
              "  <style>\n",
              "    .colab-df-container {\n",
              "      display:flex;\n",
              "      flex-wrap:wrap;\n",
              "      gap: 12px;\n",
              "    }\n",
              "\n",
              "    .colab-df-convert {\n",
              "      background-color: #E8F0FE;\n",
              "      border: none;\n",
              "      border-radius: 50%;\n",
              "      cursor: pointer;\n",
              "      display: none;\n",
              "      fill: #1967D2;\n",
              "      height: 32px;\n",
              "      padding: 0 0 0 0;\n",
              "      width: 32px;\n",
              "    }\n",
              "\n",
              "    .colab-df-convert:hover {\n",
              "      background-color: #E2EBFA;\n",
              "      box-shadow: 0px 1px 2px rgba(60, 64, 67, 0.3), 0px 1px 3px 1px rgba(60, 64, 67, 0.15);\n",
              "      fill: #174EA6;\n",
              "    }\n",
              "\n",
              "    [theme=dark] .colab-df-convert {\n",
              "      background-color: #3B4455;\n",
              "      fill: #D2E3FC;\n",
              "    }\n",
              "\n",
              "    [theme=dark] .colab-df-convert:hover {\n",
              "      background-color: #434B5C;\n",
              "      box-shadow: 0px 1px 3px 1px rgba(0, 0, 0, 0.15);\n",
              "      filter: drop-shadow(0px 1px 2px rgba(0, 0, 0, 0.3));\n",
              "      fill: #FFFFFF;\n",
              "    }\n",
              "  </style>\n",
              "\n",
              "      <script>\n",
              "        const buttonEl =\n",
              "          document.querySelector('#df-e520fddc-67a2-48e8-b501-c4d0c1fddc0b button.colab-df-convert');\n",
              "        buttonEl.style.display =\n",
              "          google.colab.kernel.accessAllowed ? 'block' : 'none';\n",
              "\n",
              "        async function convertToInteractive(key) {\n",
              "          const element = document.querySelector('#df-e520fddc-67a2-48e8-b501-c4d0c1fddc0b');\n",
              "          const dataTable =\n",
              "            await google.colab.kernel.invokeFunction('convertToInteractive',\n",
              "                                                     [key], {});\n",
              "          if (!dataTable) return;\n",
              "\n",
              "          const docLinkHtml = 'Like what you see? Visit the ' +\n",
              "            '<a target=\"_blank\" href=https://colab.research.google.com/notebooks/data_table.ipynb>data table notebook</a>'\n",
              "            + ' to learn more about interactive tables.';\n",
              "          element.innerHTML = '';\n",
              "          dataTable['output_type'] = 'display_data';\n",
              "          await google.colab.output.renderOutput(dataTable, element);\n",
              "          const docLink = document.createElement('div');\n",
              "          docLink.innerHTML = docLinkHtml;\n",
              "          element.appendChild(docLink);\n",
              "        }\n",
              "      </script>\n",
              "    </div>\n",
              "  </div>\n",
              "  "
            ]
          },
          "metadata": {},
          "execution_count": 2
        }
      ]
    },
    {
      "cell_type": "markdown",
      "source": [
        "**Exploring the dataset**"
      ],
      "metadata": {
        "id": "0OSgyn5msiSr"
      }
    },
    {
      "cell_type": "code",
      "source": [
        "df.shape"
      ],
      "metadata": {
        "colab": {
          "base_uri": "https://localhost:8080/"
        },
        "id": "qvI9cNiksWG3",
        "outputId": "120c0bd2-5d62-4db0-e6ed-dbaf5c75924b"
      },
      "execution_count": null,
      "outputs": [
        {
          "output_type": "execute_result",
          "data": {
            "text/plain": [
              "(10683, 11)"
            ]
          },
          "metadata": {},
          "execution_count": 3
        }
      ]
    },
    {
      "cell_type": "code",
      "source": [
        "df.info()"
      ],
      "metadata": {
        "colab": {
          "base_uri": "https://localhost:8080/"
        },
        "id": "LagESLplsuCG",
        "outputId": "54d4f359-f13b-4574-f32e-eec91a5e2cb7"
      },
      "execution_count": null,
      "outputs": [
        {
          "output_type": "stream",
          "name": "stdout",
          "text": [
            "<class 'pandas.core.frame.DataFrame'>\n",
            "RangeIndex: 10683 entries, 0 to 10682\n",
            "Data columns (total 11 columns):\n",
            " #   Column           Non-Null Count  Dtype \n",
            "---  ------           --------------  ----- \n",
            " 0   Airline          10683 non-null  object\n",
            " 1   Date_of_Journey  10683 non-null  object\n",
            " 2   Source           10683 non-null  object\n",
            " 3   Destination      10683 non-null  object\n",
            " 4   Route            10682 non-null  object\n",
            " 5   Dep_Time         10683 non-null  object\n",
            " 6   Arrival_Time     10683 non-null  object\n",
            " 7   Duration         10683 non-null  object\n",
            " 8   Total_Stops      10682 non-null  object\n",
            " 9   Additional_Info  10683 non-null  object\n",
            " 10  Price            10683 non-null  int64 \n",
            "dtypes: int64(1), object(10)\n",
            "memory usage: 918.2+ KB\n"
          ]
        }
      ]
    },
    {
      "cell_type": "markdown",
      "source": [
        "All the columns excpet the target-price are categorical in nature"
      ],
      "metadata": {
        "id": "rUw2jdz5tXrT"
      }
    },
    {
      "cell_type": "code",
      "source": [
        "# check null values\n",
        "\n",
        "df.isnull().sum()"
      ],
      "metadata": {
        "colab": {
          "base_uri": "https://localhost:8080/"
        },
        "id": "VZ0_2Qu6tfjO",
        "outputId": "888bedfc-9c38-4bd6-f694-1f9c792f2158"
      },
      "execution_count": null,
      "outputs": [
        {
          "output_type": "execute_result",
          "data": {
            "text/plain": [
              "Airline            0\n",
              "Date_of_Journey    0\n",
              "Source             0\n",
              "Destination        0\n",
              "Route              1\n",
              "Dep_Time           0\n",
              "Arrival_Time       0\n",
              "Duration           0\n",
              "Total_Stops        1\n",
              "Additional_Info    0\n",
              "Price              0\n",
              "dtype: int64"
            ]
          },
          "metadata": {},
          "execution_count": 5
        }
      ]
    },
    {
      "cell_type": "code",
      "source": [
        "# drop null values\n",
        "\n",
        "df = df.dropna()"
      ],
      "metadata": {
        "id": "qp4QXmEutsLV"
      },
      "execution_count": null,
      "outputs": []
    },
    {
      "cell_type": "code",
      "source": [
        "df.isnull().sum()"
      ],
      "metadata": {
        "colab": {
          "base_uri": "https://localhost:8080/"
        },
        "id": "TnO2cPmtt8av",
        "outputId": "5da6fcd6-64f6-4193-865e-de86db3846bf"
      },
      "execution_count": null,
      "outputs": [
        {
          "output_type": "execute_result",
          "data": {
            "text/plain": [
              "Airline            0\n",
              "Date_of_Journey    0\n",
              "Source             0\n",
              "Destination        0\n",
              "Route              0\n",
              "Dep_Time           0\n",
              "Arrival_Time       0\n",
              "Duration           0\n",
              "Total_Stops        0\n",
              "Additional_Info    0\n",
              "Price              0\n",
              "dtype: int64"
            ]
          },
          "metadata": {},
          "execution_count": 7
        }
      ]
    },
    {
      "cell_type": "code",
      "source": [
        "df.head(2)"
      ],
      "metadata": {
        "colab": {
          "base_uri": "https://localhost:8080/",
          "height": 112
        },
        "id": "C5auY0cgxIpN",
        "outputId": "5245f5e2-849a-4db4-91c4-15d207fb7141"
      },
      "execution_count": null,
      "outputs": [
        {
          "output_type": "execute_result",
          "data": {
            "text/plain": [
              "     Airline Date_of_Journey    Source Destination                  Route  \\\n",
              "0     IndiGo      24/03/2019  Banglore   New Delhi              BLR → DEL   \n",
              "1  Air India       1/05/2019   Kolkata    Banglore  CCU → IXR → BBI → BLR   \n",
              "\n",
              "  Dep_Time  Arrival_Time Duration Total_Stops Additional_Info  Price  \n",
              "0    22:20  01:10 22 Mar   2h 50m    non-stop         No info   3897  \n",
              "1    05:50         13:15   7h 25m     2 stops         No info   7662  "
            ],
            "text/html": [
              "\n",
              "  <div id=\"df-ad538f18-6b42-4486-81e9-2ad5aa6273cc\">\n",
              "    <div class=\"colab-df-container\">\n",
              "      <div>\n",
              "<style scoped>\n",
              "    .dataframe tbody tr th:only-of-type {\n",
              "        vertical-align: middle;\n",
              "    }\n",
              "\n",
              "    .dataframe tbody tr th {\n",
              "        vertical-align: top;\n",
              "    }\n",
              "\n",
              "    .dataframe thead th {\n",
              "        text-align: right;\n",
              "    }\n",
              "</style>\n",
              "<table border=\"1\" class=\"dataframe\">\n",
              "  <thead>\n",
              "    <tr style=\"text-align: right;\">\n",
              "      <th></th>\n",
              "      <th>Airline</th>\n",
              "      <th>Date_of_Journey</th>\n",
              "      <th>Source</th>\n",
              "      <th>Destination</th>\n",
              "      <th>Route</th>\n",
              "      <th>Dep_Time</th>\n",
              "      <th>Arrival_Time</th>\n",
              "      <th>Duration</th>\n",
              "      <th>Total_Stops</th>\n",
              "      <th>Additional_Info</th>\n",
              "      <th>Price</th>\n",
              "    </tr>\n",
              "  </thead>\n",
              "  <tbody>\n",
              "    <tr>\n",
              "      <th>0</th>\n",
              "      <td>IndiGo</td>\n",
              "      <td>24/03/2019</td>\n",
              "      <td>Banglore</td>\n",
              "      <td>New Delhi</td>\n",
              "      <td>BLR → DEL</td>\n",
              "      <td>22:20</td>\n",
              "      <td>01:10 22 Mar</td>\n",
              "      <td>2h 50m</td>\n",
              "      <td>non-stop</td>\n",
              "      <td>No info</td>\n",
              "      <td>3897</td>\n",
              "    </tr>\n",
              "    <tr>\n",
              "      <th>1</th>\n",
              "      <td>Air India</td>\n",
              "      <td>1/05/2019</td>\n",
              "      <td>Kolkata</td>\n",
              "      <td>Banglore</td>\n",
              "      <td>CCU → IXR → BBI → BLR</td>\n",
              "      <td>05:50</td>\n",
              "      <td>13:15</td>\n",
              "      <td>7h 25m</td>\n",
              "      <td>2 stops</td>\n",
              "      <td>No info</td>\n",
              "      <td>7662</td>\n",
              "    </tr>\n",
              "  </tbody>\n",
              "</table>\n",
              "</div>\n",
              "      <button class=\"colab-df-convert\" onclick=\"convertToInteractive('df-ad538f18-6b42-4486-81e9-2ad5aa6273cc')\"\n",
              "              title=\"Convert this dataframe to an interactive table.\"\n",
              "              style=\"display:none;\">\n",
              "        \n",
              "  <svg xmlns=\"http://www.w3.org/2000/svg\" height=\"24px\"viewBox=\"0 0 24 24\"\n",
              "       width=\"24px\">\n",
              "    <path d=\"M0 0h24v24H0V0z\" fill=\"none\"/>\n",
              "    <path d=\"M18.56 5.44l.94 2.06.94-2.06 2.06-.94-2.06-.94-.94-2.06-.94 2.06-2.06.94zm-11 1L8.5 8.5l.94-2.06 2.06-.94-2.06-.94L8.5 2.5l-.94 2.06-2.06.94zm10 10l.94 2.06.94-2.06 2.06-.94-2.06-.94-.94-2.06-.94 2.06-2.06.94z\"/><path d=\"M17.41 7.96l-1.37-1.37c-.4-.4-.92-.59-1.43-.59-.52 0-1.04.2-1.43.59L10.3 9.45l-7.72 7.72c-.78.78-.78 2.05 0 2.83L4 21.41c.39.39.9.59 1.41.59.51 0 1.02-.2 1.41-.59l7.78-7.78 2.81-2.81c.8-.78.8-2.07 0-2.86zM5.41 20L4 18.59l7.72-7.72 1.47 1.35L5.41 20z\"/>\n",
              "  </svg>\n",
              "      </button>\n",
              "      \n",
              "  <style>\n",
              "    .colab-df-container {\n",
              "      display:flex;\n",
              "      flex-wrap:wrap;\n",
              "      gap: 12px;\n",
              "    }\n",
              "\n",
              "    .colab-df-convert {\n",
              "      background-color: #E8F0FE;\n",
              "      border: none;\n",
              "      border-radius: 50%;\n",
              "      cursor: pointer;\n",
              "      display: none;\n",
              "      fill: #1967D2;\n",
              "      height: 32px;\n",
              "      padding: 0 0 0 0;\n",
              "      width: 32px;\n",
              "    }\n",
              "\n",
              "    .colab-df-convert:hover {\n",
              "      background-color: #E2EBFA;\n",
              "      box-shadow: 0px 1px 2px rgba(60, 64, 67, 0.3), 0px 1px 3px 1px rgba(60, 64, 67, 0.15);\n",
              "      fill: #174EA6;\n",
              "    }\n",
              "\n",
              "    [theme=dark] .colab-df-convert {\n",
              "      background-color: #3B4455;\n",
              "      fill: #D2E3FC;\n",
              "    }\n",
              "\n",
              "    [theme=dark] .colab-df-convert:hover {\n",
              "      background-color: #434B5C;\n",
              "      box-shadow: 0px 1px 3px 1px rgba(0, 0, 0, 0.15);\n",
              "      filter: drop-shadow(0px 1px 2px rgba(0, 0, 0, 0.3));\n",
              "      fill: #FFFFFF;\n",
              "    }\n",
              "  </style>\n",
              "\n",
              "      <script>\n",
              "        const buttonEl =\n",
              "          document.querySelector('#df-ad538f18-6b42-4486-81e9-2ad5aa6273cc button.colab-df-convert');\n",
              "        buttonEl.style.display =\n",
              "          google.colab.kernel.accessAllowed ? 'block' : 'none';\n",
              "\n",
              "        async function convertToInteractive(key) {\n",
              "          const element = document.querySelector('#df-ad538f18-6b42-4486-81e9-2ad5aa6273cc');\n",
              "          const dataTable =\n",
              "            await google.colab.kernel.invokeFunction('convertToInteractive',\n",
              "                                                     [key], {});\n",
              "          if (!dataTable) return;\n",
              "\n",
              "          const docLinkHtml = 'Like what you see? Visit the ' +\n",
              "            '<a target=\"_blank\" href=https://colab.research.google.com/notebooks/data_table.ipynb>data table notebook</a>'\n",
              "            + ' to learn more about interactive tables.';\n",
              "          element.innerHTML = '';\n",
              "          dataTable['output_type'] = 'display_data';\n",
              "          await google.colab.output.renderOutput(dataTable, element);\n",
              "          const docLink = document.createElement('div');\n",
              "          docLink.innerHTML = docLinkHtml;\n",
              "          element.appendChild(docLink);\n",
              "        }\n",
              "      </script>\n",
              "    </div>\n",
              "  </div>\n",
              "  "
            ]
          },
          "metadata": {},
          "execution_count": 8
        }
      ]
    },
    {
      "cell_type": "markdown",
      "source": [
        "**Feature Engineering**"
      ],
      "metadata": {
        "id": "aCuogCVcuisX"
      }
    },
    {
      "cell_type": "code",
      "source": [
        "pd.to_datetime(df['Date_of_Journey']).dt.year.unique()"
      ],
      "metadata": {
        "colab": {
          "base_uri": "https://localhost:8080/"
        },
        "id": "iNqsebsxytBd",
        "outputId": "0292e225-0ef7-45f0-ee07-c18b9dfd8a37"
      },
      "execution_count": null,
      "outputs": [
        {
          "output_type": "execute_result",
          "data": {
            "text/plain": [
              "array([2019])"
            ]
          },
          "metadata": {},
          "execution_count": 9
        }
      ]
    },
    {
      "cell_type": "markdown",
      "source": [
        "The dataset has only one year of data. So we extract the day and the month from the date."
      ],
      "metadata": {
        "id": "xXQAYZ17y2AG"
      }
    },
    {
      "cell_type": "code",
      "source": [
        "# extract month and day from date of journey\n",
        "\n",
        "df['journey_day'] = pd.to_datetime(df['Date_of_Journey']).dt.day\n",
        "df['journey_month'] = pd.to_datetime(df['Date_of_Journey']).dt.month"
      ],
      "metadata": {
        "colab": {
          "base_uri": "https://localhost:8080/"
        },
        "id": "Q-fAPpgDt_IK",
        "outputId": "e55506db-d095-488f-b5f1-76d835f91805"
      },
      "execution_count": null,
      "outputs": [
        {
          "output_type": "stream",
          "name": "stderr",
          "text": [
            "/usr/local/lib/python3.7/dist-packages/ipykernel_launcher.py:3: SettingWithCopyWarning: \n",
            "A value is trying to be set on a copy of a slice from a DataFrame.\n",
            "Try using .loc[row_indexer,col_indexer] = value instead\n",
            "\n",
            "See the caveats in the documentation: https://pandas.pydata.org/pandas-docs/stable/user_guide/indexing.html#returning-a-view-versus-a-copy\n",
            "  This is separate from the ipykernel package so we can avoid doing imports until\n"
          ]
        }
      ]
    },
    {
      "cell_type": "code",
      "source": [
        "df.head(2)"
      ],
      "metadata": {
        "colab": {
          "base_uri": "https://localhost:8080/",
          "height": 315
        },
        "id": "PGHe7Tf-ygkQ",
        "outputId": "718db2cf-09d3-4009-a510-4c2701a2b7cf"
      },
      "execution_count": null,
      "outputs": [
        {
          "output_type": "execute_result",
          "data": {
            "text/plain": [
              "     Airline Date_of_Journey    Source Destination                  Route  \\\n",
              "0     IndiGo      24/03/2019  Banglore   New Delhi              BLR → DEL   \n",
              "1  Air India       1/05/2019   Kolkata    Banglore  CCU → IXR → BBI → BLR   \n",
              "\n",
              "  Dep_Time  Arrival_Time Duration Total_Stops Additional_Info  Price  \\\n",
              "0    22:20  01:10 22 Mar   2h 50m    non-stop         No info   3897   \n",
              "1    05:50         13:15   7h 25m     2 stops         No info   7662   \n",
              "\n",
              "   journey_day  journey_month  \n",
              "0           24              3  \n",
              "1            5              1  "
            ],
            "text/html": [
              "\n",
              "  <div id=\"df-6180eb19-6cc3-49e4-8c8a-a9792c662dd8\">\n",
              "    <div class=\"colab-df-container\">\n",
              "      <div>\n",
              "<style scoped>\n",
              "    .dataframe tbody tr th:only-of-type {\n",
              "        vertical-align: middle;\n",
              "    }\n",
              "\n",
              "    .dataframe tbody tr th {\n",
              "        vertical-align: top;\n",
              "    }\n",
              "\n",
              "    .dataframe thead th {\n",
              "        text-align: right;\n",
              "    }\n",
              "</style>\n",
              "<table border=\"1\" class=\"dataframe\">\n",
              "  <thead>\n",
              "    <tr style=\"text-align: right;\">\n",
              "      <th></th>\n",
              "      <th>Airline</th>\n",
              "      <th>Date_of_Journey</th>\n",
              "      <th>Source</th>\n",
              "      <th>Destination</th>\n",
              "      <th>Route</th>\n",
              "      <th>Dep_Time</th>\n",
              "      <th>Arrival_Time</th>\n",
              "      <th>Duration</th>\n",
              "      <th>Total_Stops</th>\n",
              "      <th>Additional_Info</th>\n",
              "      <th>Price</th>\n",
              "      <th>journey_day</th>\n",
              "      <th>journey_month</th>\n",
              "    </tr>\n",
              "  </thead>\n",
              "  <tbody>\n",
              "    <tr>\n",
              "      <th>0</th>\n",
              "      <td>IndiGo</td>\n",
              "      <td>24/03/2019</td>\n",
              "      <td>Banglore</td>\n",
              "      <td>New Delhi</td>\n",
              "      <td>BLR → DEL</td>\n",
              "      <td>22:20</td>\n",
              "      <td>01:10 22 Mar</td>\n",
              "      <td>2h 50m</td>\n",
              "      <td>non-stop</td>\n",
              "      <td>No info</td>\n",
              "      <td>3897</td>\n",
              "      <td>24</td>\n",
              "      <td>3</td>\n",
              "    </tr>\n",
              "    <tr>\n",
              "      <th>1</th>\n",
              "      <td>Air India</td>\n",
              "      <td>1/05/2019</td>\n",
              "      <td>Kolkata</td>\n",
              "      <td>Banglore</td>\n",
              "      <td>CCU → IXR → BBI → BLR</td>\n",
              "      <td>05:50</td>\n",
              "      <td>13:15</td>\n",
              "      <td>7h 25m</td>\n",
              "      <td>2 stops</td>\n",
              "      <td>No info</td>\n",
              "      <td>7662</td>\n",
              "      <td>5</td>\n",
              "      <td>1</td>\n",
              "    </tr>\n",
              "  </tbody>\n",
              "</table>\n",
              "</div>\n",
              "      <button class=\"colab-df-convert\" onclick=\"convertToInteractive('df-6180eb19-6cc3-49e4-8c8a-a9792c662dd8')\"\n",
              "              title=\"Convert this dataframe to an interactive table.\"\n",
              "              style=\"display:none;\">\n",
              "        \n",
              "  <svg xmlns=\"http://www.w3.org/2000/svg\" height=\"24px\"viewBox=\"0 0 24 24\"\n",
              "       width=\"24px\">\n",
              "    <path d=\"M0 0h24v24H0V0z\" fill=\"none\"/>\n",
              "    <path d=\"M18.56 5.44l.94 2.06.94-2.06 2.06-.94-2.06-.94-.94-2.06-.94 2.06-2.06.94zm-11 1L8.5 8.5l.94-2.06 2.06-.94-2.06-.94L8.5 2.5l-.94 2.06-2.06.94zm10 10l.94 2.06.94-2.06 2.06-.94-2.06-.94-.94-2.06-.94 2.06-2.06.94z\"/><path d=\"M17.41 7.96l-1.37-1.37c-.4-.4-.92-.59-1.43-.59-.52 0-1.04.2-1.43.59L10.3 9.45l-7.72 7.72c-.78.78-.78 2.05 0 2.83L4 21.41c.39.39.9.59 1.41.59.51 0 1.02-.2 1.41-.59l7.78-7.78 2.81-2.81c.8-.78.8-2.07 0-2.86zM5.41 20L4 18.59l7.72-7.72 1.47 1.35L5.41 20z\"/>\n",
              "  </svg>\n",
              "      </button>\n",
              "      \n",
              "  <style>\n",
              "    .colab-df-container {\n",
              "      display:flex;\n",
              "      flex-wrap:wrap;\n",
              "      gap: 12px;\n",
              "    }\n",
              "\n",
              "    .colab-df-convert {\n",
              "      background-color: #E8F0FE;\n",
              "      border: none;\n",
              "      border-radius: 50%;\n",
              "      cursor: pointer;\n",
              "      display: none;\n",
              "      fill: #1967D2;\n",
              "      height: 32px;\n",
              "      padding: 0 0 0 0;\n",
              "      width: 32px;\n",
              "    }\n",
              "\n",
              "    .colab-df-convert:hover {\n",
              "      background-color: #E2EBFA;\n",
              "      box-shadow: 0px 1px 2px rgba(60, 64, 67, 0.3), 0px 1px 3px 1px rgba(60, 64, 67, 0.15);\n",
              "      fill: #174EA6;\n",
              "    }\n",
              "\n",
              "    [theme=dark] .colab-df-convert {\n",
              "      background-color: #3B4455;\n",
              "      fill: #D2E3FC;\n",
              "    }\n",
              "\n",
              "    [theme=dark] .colab-df-convert:hover {\n",
              "      background-color: #434B5C;\n",
              "      box-shadow: 0px 1px 3px 1px rgba(0, 0, 0, 0.15);\n",
              "      filter: drop-shadow(0px 1px 2px rgba(0, 0, 0, 0.3));\n",
              "      fill: #FFFFFF;\n",
              "    }\n",
              "  </style>\n",
              "\n",
              "      <script>\n",
              "        const buttonEl =\n",
              "          document.querySelector('#df-6180eb19-6cc3-49e4-8c8a-a9792c662dd8 button.colab-df-convert');\n",
              "        buttonEl.style.display =\n",
              "          google.colab.kernel.accessAllowed ? 'block' : 'none';\n",
              "\n",
              "        async function convertToInteractive(key) {\n",
              "          const element = document.querySelector('#df-6180eb19-6cc3-49e4-8c8a-a9792c662dd8');\n",
              "          const dataTable =\n",
              "            await google.colab.kernel.invokeFunction('convertToInteractive',\n",
              "                                                     [key], {});\n",
              "          if (!dataTable) return;\n",
              "\n",
              "          const docLinkHtml = 'Like what you see? Visit the ' +\n",
              "            '<a target=\"_blank\" href=https://colab.research.google.com/notebooks/data_table.ipynb>data table notebook</a>'\n",
              "            + ' to learn more about interactive tables.';\n",
              "          element.innerHTML = '';\n",
              "          dataTable['output_type'] = 'display_data';\n",
              "          await google.colab.output.renderOutput(dataTable, element);\n",
              "          const docLink = document.createElement('div');\n",
              "          docLink.innerHTML = docLinkHtml;\n",
              "          element.appendChild(docLink);\n",
              "        }\n",
              "      </script>\n",
              "    </div>\n",
              "  </div>\n",
              "  "
            ]
          },
          "metadata": {},
          "execution_count": 11
        }
      ]
    },
    {
      "cell_type": "code",
      "source": [
        "# extract hour and minute from departure time\n",
        "\n",
        "df['departure_hour'] = pd.to_datetime(df['Dep_Time']).dt.hour\n",
        "df['departure_minute'] = pd.to_datetime(df['Dep_Time']).dt.minute"
      ],
      "metadata": {
        "id": "UHSl1vhVzHJt"
      },
      "execution_count": null,
      "outputs": []
    },
    {
      "cell_type": "code",
      "source": [
        "df.head(2)"
      ],
      "metadata": {
        "colab": {
          "base_uri": "https://localhost:8080/",
          "height": 315
        },
        "id": "14RUiZ_u0D6j",
        "outputId": "de14dd31-ca1d-4646-c342-17b6cfce4bbd"
      },
      "execution_count": null,
      "outputs": [
        {
          "output_type": "execute_result",
          "data": {
            "text/plain": [
              "     Airline Date_of_Journey    Source Destination                  Route  \\\n",
              "0     IndiGo      24/03/2019  Banglore   New Delhi              BLR → DEL   \n",
              "1  Air India       1/05/2019   Kolkata    Banglore  CCU → IXR → BBI → BLR   \n",
              "\n",
              "  Dep_Time  Arrival_Time Duration Total_Stops Additional_Info  Price  \\\n",
              "0    22:20  01:10 22 Mar   2h 50m    non-stop         No info   3897   \n",
              "1    05:50         13:15   7h 25m     2 stops         No info   7662   \n",
              "\n",
              "   journey_day  journey_month  departure_hour  departure_minute  \n",
              "0           24              3              22                20  \n",
              "1            5              1               5                50  "
            ],
            "text/html": [
              "\n",
              "  <div id=\"df-deb0030c-8d76-4c89-b07b-d3792f3443af\">\n",
              "    <div class=\"colab-df-container\">\n",
              "      <div>\n",
              "<style scoped>\n",
              "    .dataframe tbody tr th:only-of-type {\n",
              "        vertical-align: middle;\n",
              "    }\n",
              "\n",
              "    .dataframe tbody tr th {\n",
              "        vertical-align: top;\n",
              "    }\n",
              "\n",
              "    .dataframe thead th {\n",
              "        text-align: right;\n",
              "    }\n",
              "</style>\n",
              "<table border=\"1\" class=\"dataframe\">\n",
              "  <thead>\n",
              "    <tr style=\"text-align: right;\">\n",
              "      <th></th>\n",
              "      <th>Airline</th>\n",
              "      <th>Date_of_Journey</th>\n",
              "      <th>Source</th>\n",
              "      <th>Destination</th>\n",
              "      <th>Route</th>\n",
              "      <th>Dep_Time</th>\n",
              "      <th>Arrival_Time</th>\n",
              "      <th>Duration</th>\n",
              "      <th>Total_Stops</th>\n",
              "      <th>Additional_Info</th>\n",
              "      <th>Price</th>\n",
              "      <th>journey_day</th>\n",
              "      <th>journey_month</th>\n",
              "      <th>departure_hour</th>\n",
              "      <th>departure_minute</th>\n",
              "    </tr>\n",
              "  </thead>\n",
              "  <tbody>\n",
              "    <tr>\n",
              "      <th>0</th>\n",
              "      <td>IndiGo</td>\n",
              "      <td>24/03/2019</td>\n",
              "      <td>Banglore</td>\n",
              "      <td>New Delhi</td>\n",
              "      <td>BLR → DEL</td>\n",
              "      <td>22:20</td>\n",
              "      <td>01:10 22 Mar</td>\n",
              "      <td>2h 50m</td>\n",
              "      <td>non-stop</td>\n",
              "      <td>No info</td>\n",
              "      <td>3897</td>\n",
              "      <td>24</td>\n",
              "      <td>3</td>\n",
              "      <td>22</td>\n",
              "      <td>20</td>\n",
              "    </tr>\n",
              "    <tr>\n",
              "      <th>1</th>\n",
              "      <td>Air India</td>\n",
              "      <td>1/05/2019</td>\n",
              "      <td>Kolkata</td>\n",
              "      <td>Banglore</td>\n",
              "      <td>CCU → IXR → BBI → BLR</td>\n",
              "      <td>05:50</td>\n",
              "      <td>13:15</td>\n",
              "      <td>7h 25m</td>\n",
              "      <td>2 stops</td>\n",
              "      <td>No info</td>\n",
              "      <td>7662</td>\n",
              "      <td>5</td>\n",
              "      <td>1</td>\n",
              "      <td>5</td>\n",
              "      <td>50</td>\n",
              "    </tr>\n",
              "  </tbody>\n",
              "</table>\n",
              "</div>\n",
              "      <button class=\"colab-df-convert\" onclick=\"convertToInteractive('df-deb0030c-8d76-4c89-b07b-d3792f3443af')\"\n",
              "              title=\"Convert this dataframe to an interactive table.\"\n",
              "              style=\"display:none;\">\n",
              "        \n",
              "  <svg xmlns=\"http://www.w3.org/2000/svg\" height=\"24px\"viewBox=\"0 0 24 24\"\n",
              "       width=\"24px\">\n",
              "    <path d=\"M0 0h24v24H0V0z\" fill=\"none\"/>\n",
              "    <path d=\"M18.56 5.44l.94 2.06.94-2.06 2.06-.94-2.06-.94-.94-2.06-.94 2.06-2.06.94zm-11 1L8.5 8.5l.94-2.06 2.06-.94-2.06-.94L8.5 2.5l-.94 2.06-2.06.94zm10 10l.94 2.06.94-2.06 2.06-.94-2.06-.94-.94-2.06-.94 2.06-2.06.94z\"/><path d=\"M17.41 7.96l-1.37-1.37c-.4-.4-.92-.59-1.43-.59-.52 0-1.04.2-1.43.59L10.3 9.45l-7.72 7.72c-.78.78-.78 2.05 0 2.83L4 21.41c.39.39.9.59 1.41.59.51 0 1.02-.2 1.41-.59l7.78-7.78 2.81-2.81c.8-.78.8-2.07 0-2.86zM5.41 20L4 18.59l7.72-7.72 1.47 1.35L5.41 20z\"/>\n",
              "  </svg>\n",
              "      </button>\n",
              "      \n",
              "  <style>\n",
              "    .colab-df-container {\n",
              "      display:flex;\n",
              "      flex-wrap:wrap;\n",
              "      gap: 12px;\n",
              "    }\n",
              "\n",
              "    .colab-df-convert {\n",
              "      background-color: #E8F0FE;\n",
              "      border: none;\n",
              "      border-radius: 50%;\n",
              "      cursor: pointer;\n",
              "      display: none;\n",
              "      fill: #1967D2;\n",
              "      height: 32px;\n",
              "      padding: 0 0 0 0;\n",
              "      width: 32px;\n",
              "    }\n",
              "\n",
              "    .colab-df-convert:hover {\n",
              "      background-color: #E2EBFA;\n",
              "      box-shadow: 0px 1px 2px rgba(60, 64, 67, 0.3), 0px 1px 3px 1px rgba(60, 64, 67, 0.15);\n",
              "      fill: #174EA6;\n",
              "    }\n",
              "\n",
              "    [theme=dark] .colab-df-convert {\n",
              "      background-color: #3B4455;\n",
              "      fill: #D2E3FC;\n",
              "    }\n",
              "\n",
              "    [theme=dark] .colab-df-convert:hover {\n",
              "      background-color: #434B5C;\n",
              "      box-shadow: 0px 1px 3px 1px rgba(0, 0, 0, 0.15);\n",
              "      filter: drop-shadow(0px 1px 2px rgba(0, 0, 0, 0.3));\n",
              "      fill: #FFFFFF;\n",
              "    }\n",
              "  </style>\n",
              "\n",
              "      <script>\n",
              "        const buttonEl =\n",
              "          document.querySelector('#df-deb0030c-8d76-4c89-b07b-d3792f3443af button.colab-df-convert');\n",
              "        buttonEl.style.display =\n",
              "          google.colab.kernel.accessAllowed ? 'block' : 'none';\n",
              "\n",
              "        async function convertToInteractive(key) {\n",
              "          const element = document.querySelector('#df-deb0030c-8d76-4c89-b07b-d3792f3443af');\n",
              "          const dataTable =\n",
              "            await google.colab.kernel.invokeFunction('convertToInteractive',\n",
              "                                                     [key], {});\n",
              "          if (!dataTable) return;\n",
              "\n",
              "          const docLinkHtml = 'Like what you see? Visit the ' +\n",
              "            '<a target=\"_blank\" href=https://colab.research.google.com/notebooks/data_table.ipynb>data table notebook</a>'\n",
              "            + ' to learn more about interactive tables.';\n",
              "          element.innerHTML = '';\n",
              "          dataTable['output_type'] = 'display_data';\n",
              "          await google.colab.output.renderOutput(dataTable, element);\n",
              "          const docLink = document.createElement('div');\n",
              "          docLink.innerHTML = docLinkHtml;\n",
              "          element.appendChild(docLink);\n",
              "        }\n",
              "      </script>\n",
              "    </div>\n",
              "  </div>\n",
              "  "
            ]
          },
          "metadata": {},
          "execution_count": 13
        }
      ]
    },
    {
      "cell_type": "code",
      "source": [
        "df = df.drop(['Date_of_Journey','Dep_Time'],axis=1)"
      ],
      "metadata": {
        "id": "-G4zbb710WUr"
      },
      "execution_count": null,
      "outputs": []
    },
    {
      "cell_type": "code",
      "source": [
        "df.head(2)"
      ],
      "metadata": {
        "colab": {
          "base_uri": "https://localhost:8080/",
          "height": 315
        },
        "id": "jRNEP4zd0hWb",
        "outputId": "b69d31fe-85b6-4766-a04c-35c3edecc623"
      },
      "execution_count": null,
      "outputs": [
        {
          "output_type": "execute_result",
          "data": {
            "text/plain": [
              "     Airline    Source Destination                  Route  Arrival_Time  \\\n",
              "0     IndiGo  Banglore   New Delhi              BLR → DEL  01:10 22 Mar   \n",
              "1  Air India   Kolkata    Banglore  CCU → IXR → BBI → BLR         13:15   \n",
              "\n",
              "  Duration Total_Stops Additional_Info  Price  journey_day  journey_month  \\\n",
              "0   2h 50m    non-stop         No info   3897           24              3   \n",
              "1   7h 25m     2 stops         No info   7662            5              1   \n",
              "\n",
              "   departure_hour  departure_minute  \n",
              "0              22                20  \n",
              "1               5                50  "
            ],
            "text/html": [
              "\n",
              "  <div id=\"df-546593fb-4892-4700-862d-1dbc2ef9edc0\">\n",
              "    <div class=\"colab-df-container\">\n",
              "      <div>\n",
              "<style scoped>\n",
              "    .dataframe tbody tr th:only-of-type {\n",
              "        vertical-align: middle;\n",
              "    }\n",
              "\n",
              "    .dataframe tbody tr th {\n",
              "        vertical-align: top;\n",
              "    }\n",
              "\n",
              "    .dataframe thead th {\n",
              "        text-align: right;\n",
              "    }\n",
              "</style>\n",
              "<table border=\"1\" class=\"dataframe\">\n",
              "  <thead>\n",
              "    <tr style=\"text-align: right;\">\n",
              "      <th></th>\n",
              "      <th>Airline</th>\n",
              "      <th>Source</th>\n",
              "      <th>Destination</th>\n",
              "      <th>Route</th>\n",
              "      <th>Arrival_Time</th>\n",
              "      <th>Duration</th>\n",
              "      <th>Total_Stops</th>\n",
              "      <th>Additional_Info</th>\n",
              "      <th>Price</th>\n",
              "      <th>journey_day</th>\n",
              "      <th>journey_month</th>\n",
              "      <th>departure_hour</th>\n",
              "      <th>departure_minute</th>\n",
              "    </tr>\n",
              "  </thead>\n",
              "  <tbody>\n",
              "    <tr>\n",
              "      <th>0</th>\n",
              "      <td>IndiGo</td>\n",
              "      <td>Banglore</td>\n",
              "      <td>New Delhi</td>\n",
              "      <td>BLR → DEL</td>\n",
              "      <td>01:10 22 Mar</td>\n",
              "      <td>2h 50m</td>\n",
              "      <td>non-stop</td>\n",
              "      <td>No info</td>\n",
              "      <td>3897</td>\n",
              "      <td>24</td>\n",
              "      <td>3</td>\n",
              "      <td>22</td>\n",
              "      <td>20</td>\n",
              "    </tr>\n",
              "    <tr>\n",
              "      <th>1</th>\n",
              "      <td>Air India</td>\n",
              "      <td>Kolkata</td>\n",
              "      <td>Banglore</td>\n",
              "      <td>CCU → IXR → BBI → BLR</td>\n",
              "      <td>13:15</td>\n",
              "      <td>7h 25m</td>\n",
              "      <td>2 stops</td>\n",
              "      <td>No info</td>\n",
              "      <td>7662</td>\n",
              "      <td>5</td>\n",
              "      <td>1</td>\n",
              "      <td>5</td>\n",
              "      <td>50</td>\n",
              "    </tr>\n",
              "  </tbody>\n",
              "</table>\n",
              "</div>\n",
              "      <button class=\"colab-df-convert\" onclick=\"convertToInteractive('df-546593fb-4892-4700-862d-1dbc2ef9edc0')\"\n",
              "              title=\"Convert this dataframe to an interactive table.\"\n",
              "              style=\"display:none;\">\n",
              "        \n",
              "  <svg xmlns=\"http://www.w3.org/2000/svg\" height=\"24px\"viewBox=\"0 0 24 24\"\n",
              "       width=\"24px\">\n",
              "    <path d=\"M0 0h24v24H0V0z\" fill=\"none\"/>\n",
              "    <path d=\"M18.56 5.44l.94 2.06.94-2.06 2.06-.94-2.06-.94-.94-2.06-.94 2.06-2.06.94zm-11 1L8.5 8.5l.94-2.06 2.06-.94-2.06-.94L8.5 2.5l-.94 2.06-2.06.94zm10 10l.94 2.06.94-2.06 2.06-.94-2.06-.94-.94-2.06-.94 2.06-2.06.94z\"/><path d=\"M17.41 7.96l-1.37-1.37c-.4-.4-.92-.59-1.43-.59-.52 0-1.04.2-1.43.59L10.3 9.45l-7.72 7.72c-.78.78-.78 2.05 0 2.83L4 21.41c.39.39.9.59 1.41.59.51 0 1.02-.2 1.41-.59l7.78-7.78 2.81-2.81c.8-.78.8-2.07 0-2.86zM5.41 20L4 18.59l7.72-7.72 1.47 1.35L5.41 20z\"/>\n",
              "  </svg>\n",
              "      </button>\n",
              "      \n",
              "  <style>\n",
              "    .colab-df-container {\n",
              "      display:flex;\n",
              "      flex-wrap:wrap;\n",
              "      gap: 12px;\n",
              "    }\n",
              "\n",
              "    .colab-df-convert {\n",
              "      background-color: #E8F0FE;\n",
              "      border: none;\n",
              "      border-radius: 50%;\n",
              "      cursor: pointer;\n",
              "      display: none;\n",
              "      fill: #1967D2;\n",
              "      height: 32px;\n",
              "      padding: 0 0 0 0;\n",
              "      width: 32px;\n",
              "    }\n",
              "\n",
              "    .colab-df-convert:hover {\n",
              "      background-color: #E2EBFA;\n",
              "      box-shadow: 0px 1px 2px rgba(60, 64, 67, 0.3), 0px 1px 3px 1px rgba(60, 64, 67, 0.15);\n",
              "      fill: #174EA6;\n",
              "    }\n",
              "\n",
              "    [theme=dark] .colab-df-convert {\n",
              "      background-color: #3B4455;\n",
              "      fill: #D2E3FC;\n",
              "    }\n",
              "\n",
              "    [theme=dark] .colab-df-convert:hover {\n",
              "      background-color: #434B5C;\n",
              "      box-shadow: 0px 1px 3px 1px rgba(0, 0, 0, 0.15);\n",
              "      filter: drop-shadow(0px 1px 2px rgba(0, 0, 0, 0.3));\n",
              "      fill: #FFFFFF;\n",
              "    }\n",
              "  </style>\n",
              "\n",
              "      <script>\n",
              "        const buttonEl =\n",
              "          document.querySelector('#df-546593fb-4892-4700-862d-1dbc2ef9edc0 button.colab-df-convert');\n",
              "        buttonEl.style.display =\n",
              "          google.colab.kernel.accessAllowed ? 'block' : 'none';\n",
              "\n",
              "        async function convertToInteractive(key) {\n",
              "          const element = document.querySelector('#df-546593fb-4892-4700-862d-1dbc2ef9edc0');\n",
              "          const dataTable =\n",
              "            await google.colab.kernel.invokeFunction('convertToInteractive',\n",
              "                                                     [key], {});\n",
              "          if (!dataTable) return;\n",
              "\n",
              "          const docLinkHtml = 'Like what you see? Visit the ' +\n",
              "            '<a target=\"_blank\" href=https://colab.research.google.com/notebooks/data_table.ipynb>data table notebook</a>'\n",
              "            + ' to learn more about interactive tables.';\n",
              "          element.innerHTML = '';\n",
              "          dataTable['output_type'] = 'display_data';\n",
              "          await google.colab.output.renderOutput(dataTable, element);\n",
              "          const docLink = document.createElement('div');\n",
              "          docLink.innerHTML = docLinkHtml;\n",
              "          element.appendChild(docLink);\n",
              "        }\n",
              "      </script>\n",
              "    </div>\n",
              "  </div>\n",
              "  "
            ]
          },
          "metadata": {},
          "execution_count": 15
        }
      ]
    },
    {
      "cell_type": "code",
      "source": [
        "df['Arrival_Time'].unique()"
      ],
      "metadata": {
        "colab": {
          "base_uri": "https://localhost:8080/"
        },
        "id": "w9G91T_V3iyx",
        "outputId": "061208a6-0e0a-432b-89c2-8ad64f541801"
      },
      "execution_count": null,
      "outputs": [
        {
          "output_type": "execute_result",
          "data": {
            "text/plain": [
              "array(['01:10 22 Mar', '13:15', '04:25 10 Jun', ..., '06:50 10 Mar',\n",
              "       '00:05 19 Mar', '21:20 13 Mar'], dtype=object)"
            ]
          },
          "metadata": {},
          "execution_count": 16
        }
      ]
    },
    {
      "cell_type": "code",
      "source": [
        "df['arrival_hour'] = pd.to_datetime(df['Arrival_Time']).dt.hour\n",
        "df['arrival_minute'] = pd.to_datetime(df['Arrival_Time']).dt.minute"
      ],
      "metadata": {
        "id": "0U11uaD20pW2"
      },
      "execution_count": null,
      "outputs": []
    },
    {
      "cell_type": "code",
      "source": [
        "df = df.drop(['Arrival_Time'],axis=1)"
      ],
      "metadata": {
        "id": "JXTmugvF36dE"
      },
      "execution_count": null,
      "outputs": []
    },
    {
      "cell_type": "code",
      "source": [
        "df.head(2)"
      ],
      "metadata": {
        "colab": {
          "base_uri": "https://localhost:8080/",
          "height": 315
        },
        "id": "hldB-x3U4JAL",
        "outputId": "23e1cd96-5c07-428d-8d4a-ca99b5e7ee65"
      },
      "execution_count": null,
      "outputs": [
        {
          "output_type": "execute_result",
          "data": {
            "text/plain": [
              "     Airline    Source Destination                  Route Duration  \\\n",
              "0     IndiGo  Banglore   New Delhi              BLR → DEL   2h 50m   \n",
              "1  Air India   Kolkata    Banglore  CCU → IXR → BBI → BLR   7h 25m   \n",
              "\n",
              "  Total_Stops Additional_Info  Price  journey_day  journey_month  \\\n",
              "0    non-stop         No info   3897           24              3   \n",
              "1     2 stops         No info   7662            5              1   \n",
              "\n",
              "   departure_hour  departure_minute  arrival_hour  arrival_minute  \n",
              "0              22                20             1              10  \n",
              "1               5                50            13              15  "
            ],
            "text/html": [
              "\n",
              "  <div id=\"df-1b6cf76c-9306-4486-8389-4644e83e746f\">\n",
              "    <div class=\"colab-df-container\">\n",
              "      <div>\n",
              "<style scoped>\n",
              "    .dataframe tbody tr th:only-of-type {\n",
              "        vertical-align: middle;\n",
              "    }\n",
              "\n",
              "    .dataframe tbody tr th {\n",
              "        vertical-align: top;\n",
              "    }\n",
              "\n",
              "    .dataframe thead th {\n",
              "        text-align: right;\n",
              "    }\n",
              "</style>\n",
              "<table border=\"1\" class=\"dataframe\">\n",
              "  <thead>\n",
              "    <tr style=\"text-align: right;\">\n",
              "      <th></th>\n",
              "      <th>Airline</th>\n",
              "      <th>Source</th>\n",
              "      <th>Destination</th>\n",
              "      <th>Route</th>\n",
              "      <th>Duration</th>\n",
              "      <th>Total_Stops</th>\n",
              "      <th>Additional_Info</th>\n",
              "      <th>Price</th>\n",
              "      <th>journey_day</th>\n",
              "      <th>journey_month</th>\n",
              "      <th>departure_hour</th>\n",
              "      <th>departure_minute</th>\n",
              "      <th>arrival_hour</th>\n",
              "      <th>arrival_minute</th>\n",
              "    </tr>\n",
              "  </thead>\n",
              "  <tbody>\n",
              "    <tr>\n",
              "      <th>0</th>\n",
              "      <td>IndiGo</td>\n",
              "      <td>Banglore</td>\n",
              "      <td>New Delhi</td>\n",
              "      <td>BLR → DEL</td>\n",
              "      <td>2h 50m</td>\n",
              "      <td>non-stop</td>\n",
              "      <td>No info</td>\n",
              "      <td>3897</td>\n",
              "      <td>24</td>\n",
              "      <td>3</td>\n",
              "      <td>22</td>\n",
              "      <td>20</td>\n",
              "      <td>1</td>\n",
              "      <td>10</td>\n",
              "    </tr>\n",
              "    <tr>\n",
              "      <th>1</th>\n",
              "      <td>Air India</td>\n",
              "      <td>Kolkata</td>\n",
              "      <td>Banglore</td>\n",
              "      <td>CCU → IXR → BBI → BLR</td>\n",
              "      <td>7h 25m</td>\n",
              "      <td>2 stops</td>\n",
              "      <td>No info</td>\n",
              "      <td>7662</td>\n",
              "      <td>5</td>\n",
              "      <td>1</td>\n",
              "      <td>5</td>\n",
              "      <td>50</td>\n",
              "      <td>13</td>\n",
              "      <td>15</td>\n",
              "    </tr>\n",
              "  </tbody>\n",
              "</table>\n",
              "</div>\n",
              "      <button class=\"colab-df-convert\" onclick=\"convertToInteractive('df-1b6cf76c-9306-4486-8389-4644e83e746f')\"\n",
              "              title=\"Convert this dataframe to an interactive table.\"\n",
              "              style=\"display:none;\">\n",
              "        \n",
              "  <svg xmlns=\"http://www.w3.org/2000/svg\" height=\"24px\"viewBox=\"0 0 24 24\"\n",
              "       width=\"24px\">\n",
              "    <path d=\"M0 0h24v24H0V0z\" fill=\"none\"/>\n",
              "    <path d=\"M18.56 5.44l.94 2.06.94-2.06 2.06-.94-2.06-.94-.94-2.06-.94 2.06-2.06.94zm-11 1L8.5 8.5l.94-2.06 2.06-.94-2.06-.94L8.5 2.5l-.94 2.06-2.06.94zm10 10l.94 2.06.94-2.06 2.06-.94-2.06-.94-.94-2.06-.94 2.06-2.06.94z\"/><path d=\"M17.41 7.96l-1.37-1.37c-.4-.4-.92-.59-1.43-.59-.52 0-1.04.2-1.43.59L10.3 9.45l-7.72 7.72c-.78.78-.78 2.05 0 2.83L4 21.41c.39.39.9.59 1.41.59.51 0 1.02-.2 1.41-.59l7.78-7.78 2.81-2.81c.8-.78.8-2.07 0-2.86zM5.41 20L4 18.59l7.72-7.72 1.47 1.35L5.41 20z\"/>\n",
              "  </svg>\n",
              "      </button>\n",
              "      \n",
              "  <style>\n",
              "    .colab-df-container {\n",
              "      display:flex;\n",
              "      flex-wrap:wrap;\n",
              "      gap: 12px;\n",
              "    }\n",
              "\n",
              "    .colab-df-convert {\n",
              "      background-color: #E8F0FE;\n",
              "      border: none;\n",
              "      border-radius: 50%;\n",
              "      cursor: pointer;\n",
              "      display: none;\n",
              "      fill: #1967D2;\n",
              "      height: 32px;\n",
              "      padding: 0 0 0 0;\n",
              "      width: 32px;\n",
              "    }\n",
              "\n",
              "    .colab-df-convert:hover {\n",
              "      background-color: #E2EBFA;\n",
              "      box-shadow: 0px 1px 2px rgba(60, 64, 67, 0.3), 0px 1px 3px 1px rgba(60, 64, 67, 0.15);\n",
              "      fill: #174EA6;\n",
              "    }\n",
              "\n",
              "    [theme=dark] .colab-df-convert {\n",
              "      background-color: #3B4455;\n",
              "      fill: #D2E3FC;\n",
              "    }\n",
              "\n",
              "    [theme=dark] .colab-df-convert:hover {\n",
              "      background-color: #434B5C;\n",
              "      box-shadow: 0px 1px 3px 1px rgba(0, 0, 0, 0.15);\n",
              "      filter: drop-shadow(0px 1px 2px rgba(0, 0, 0, 0.3));\n",
              "      fill: #FFFFFF;\n",
              "    }\n",
              "  </style>\n",
              "\n",
              "      <script>\n",
              "        const buttonEl =\n",
              "          document.querySelector('#df-1b6cf76c-9306-4486-8389-4644e83e746f button.colab-df-convert');\n",
              "        buttonEl.style.display =\n",
              "          google.colab.kernel.accessAllowed ? 'block' : 'none';\n",
              "\n",
              "        async function convertToInteractive(key) {\n",
              "          const element = document.querySelector('#df-1b6cf76c-9306-4486-8389-4644e83e746f');\n",
              "          const dataTable =\n",
              "            await google.colab.kernel.invokeFunction('convertToInteractive',\n",
              "                                                     [key], {});\n",
              "          if (!dataTable) return;\n",
              "\n",
              "          const docLinkHtml = 'Like what you see? Visit the ' +\n",
              "            '<a target=\"_blank\" href=https://colab.research.google.com/notebooks/data_table.ipynb>data table notebook</a>'\n",
              "            + ' to learn more about interactive tables.';\n",
              "          element.innerHTML = '';\n",
              "          dataTable['output_type'] = 'display_data';\n",
              "          await google.colab.output.renderOutput(dataTable, element);\n",
              "          const docLink = document.createElement('div');\n",
              "          docLink.innerHTML = docLinkHtml;\n",
              "          element.appendChild(docLink);\n",
              "        }\n",
              "      </script>\n",
              "    </div>\n",
              "  </div>\n",
              "  "
            ]
          },
          "metadata": {},
          "execution_count": 19
        }
      ]
    },
    {
      "cell_type": "code",
      "source": [
        "flight_duration = df['Duration'].tolist()\n",
        "len(flight_duration)"
      ],
      "metadata": {
        "colab": {
          "base_uri": "https://localhost:8080/"
        },
        "id": "rfcRL_bn5Y8m",
        "outputId": "62c2b66a-6bc8-42b9-fa7c-f9ab0f717359"
      },
      "execution_count": null,
      "outputs": [
        {
          "output_type": "execute_result",
          "data": {
            "text/plain": [
              "10682"
            ]
          },
          "metadata": {},
          "execution_count": 20
        }
      ]
    },
    {
      "cell_type": "code",
      "source": [
        "for i in range(len(flight_duration)):\n",
        "  if len(flight_duration[i].split()) != 2:\n",
        "      if 'h' in flight_duration[i]:\n",
        "        flight_duration[i] = flight_duration[i].strip()+' 0m'\n",
        "        print(flight_duration[i])\n",
        "      else:\n",
        "        flight_duration[i] = '0h '+flight_duration[i]\n",
        "        print(flight_duration[i])"
      ],
      "metadata": {
        "colab": {
          "base_uri": "https://localhost:8080/"
        },
        "id": "DG5-BSXM5_zF",
        "outputId": "e27e9099-53e6-418d-a70a-0d658bd14e76"
      },
      "execution_count": null,
      "outputs": [
        {
          "output_type": "stream",
          "name": "stdout",
          "text": [
            "19h 0m\n",
            "23h 0m\n",
            "22h 0m\n",
            "12h 0m\n",
            "3h 0m\n",
            "5h 0m\n",
            "10h 0m\n",
            "18h 0m\n",
            "3h 0m\n",
            "24h 0m\n",
            "15h 0m\n",
            "16h 0m\n",
            "8h 0m\n",
            "14h 0m\n",
            "8h 0m\n",
            "20h 0m\n",
            "13h 0m\n",
            "16h 0m\n",
            "10h 0m\n",
            "12h 0m\n",
            "3h 0m\n",
            "11h 0m\n",
            "15h 0m\n",
            "9h 0m\n",
            "8h 0m\n",
            "3h 0m\n",
            "3h 0m\n",
            "27h 0m\n",
            "8h 0m\n",
            "3h 0m\n",
            "9h 0m\n",
            "3h 0m\n",
            "11h 0m\n",
            "3h 0m\n",
            "3h 0m\n",
            "5h 0m\n",
            "27h 0m\n",
            "26h 0m\n",
            "10h 0m\n",
            "11h 0m\n",
            "9h 0m\n",
            "4h 0m\n",
            "5h 0m\n",
            "3h 0m\n",
            "3h 0m\n",
            "16h 0m\n",
            "7h 0m\n",
            "9h 0m\n",
            "9h 0m\n",
            "24h 0m\n",
            "5h 0m\n",
            "14h 0m\n",
            "3h 0m\n",
            "11h 0m\n",
            "9h 0m\n",
            "13h 0m\n",
            "5h 0m\n",
            "3h 0m\n",
            "3h 0m\n",
            "30h 0m\n",
            "18h 0m\n",
            "8h 0m\n",
            "12h 0m\n",
            "3h 0m\n",
            "5h 0m\n",
            "14h 0m\n",
            "3h 0m\n",
            "4h 0m\n",
            "11h 0m\n",
            "8h 0m\n",
            "5h 0m\n",
            "21h 0m\n",
            "27h 0m\n",
            "20h 0m\n",
            "3h 0m\n",
            "3h 0m\n",
            "12h 0m\n",
            "11h 0m\n",
            "24h 0m\n",
            "3h 0m\n",
            "9h 0m\n",
            "11h 0m\n",
            "5h 0m\n",
            "27h 0m\n",
            "20h 0m\n",
            "8h 0m\n",
            "26h 0m\n",
            "3h 0m\n",
            "10h 0m\n",
            "28h 0m\n",
            "3h 0m\n",
            "10h 0m\n",
            "7h 0m\n",
            "8h 0m\n",
            "3h 0m\n",
            "8h 0m\n",
            "3h 0m\n",
            "26h 0m\n",
            "11h 0m\n",
            "3h 0m\n",
            "20h 0m\n",
            "47h 0m\n",
            "3h 0m\n",
            "10h 0m\n",
            "15h 0m\n",
            "13h 0m\n",
            "14h 0m\n",
            "6h 0m\n",
            "24h 0m\n",
            "11h 0m\n",
            "10h 0m\n",
            "5h 0m\n",
            "16h 0m\n",
            "15h 0m\n",
            "10h 0m\n",
            "3h 0m\n",
            "5h 0m\n",
            "14h 0m\n",
            "11h 0m\n",
            "11h 0m\n",
            "3h 0m\n",
            "22h 0m\n",
            "16h 0m\n",
            "12h 0m\n",
            "3h 0m\n",
            "26h 0m\n",
            "5h 0m\n",
            "10h 0m\n",
            "13h 0m\n",
            "8h 0m\n",
            "3h 0m\n",
            "26h 0m\n",
            "10h 0m\n",
            "12h 0m\n",
            "9h 0m\n",
            "10h 0m\n",
            "8h 0m\n",
            "3h 0m\n",
            "11h 0m\n",
            "3h 0m\n",
            "22h 0m\n",
            "8h 0m\n",
            "27h 0m\n",
            "3h 0m\n",
            "3h 0m\n",
            "3h 0m\n",
            "19h 0m\n",
            "9h 0m\n",
            "15h 0m\n",
            "3h 0m\n",
            "10h 0m\n",
            "6h 0m\n",
            "5h 0m\n",
            "3h 0m\n",
            "26h 0m\n",
            "27h 0m\n",
            "13h 0m\n",
            "5h 0m\n",
            "11h 0m\n",
            "12h 0m\n",
            "14h 0m\n",
            "20h 0m\n",
            "3h 0m\n",
            "13h 0m\n",
            "23h 0m\n",
            "9h 0m\n",
            "3h 0m\n",
            "3h 0m\n",
            "13h 0m\n",
            "15h 0m\n",
            "24h 0m\n",
            "3h 0m\n",
            "3h 0m\n",
            "27h 0m\n",
            "14h 0m\n",
            "8h 0m\n",
            "3h 0m\n",
            "8h 0m\n",
            "3h 0m\n",
            "12h 0m\n",
            "3h 0m\n",
            "25h 0m\n",
            "11h 0m\n",
            "3h 0m\n",
            "28h 0m\n",
            "8h 0m\n",
            "14h 0m\n",
            "3h 0m\n",
            "20h 0m\n",
            "20h 0m\n",
            "11h 0m\n",
            "11h 0m\n",
            "9h 0m\n",
            "13h 0m\n",
            "12h 0m\n",
            "7h 0m\n",
            "3h 0m\n",
            "12h 0m\n",
            "14h 0m\n",
            "5h 0m\n",
            "3h 0m\n",
            "3h 0m\n",
            "3h 0m\n",
            "9h 0m\n",
            "38h 0m\n",
            "3h 0m\n",
            "9h 0m\n",
            "8h 0m\n",
            "3h 0m\n",
            "14h 0m\n",
            "22h 0m\n",
            "8h 0m\n",
            "22h 0m\n",
            "3h 0m\n",
            "28h 0m\n",
            "9h 0m\n",
            "3h 0m\n",
            "8h 0m\n",
            "13h 0m\n",
            "16h 0m\n",
            "10h 0m\n",
            "8h 0m\n",
            "10h 0m\n",
            "11h 0m\n",
            "12h 0m\n",
            "23h 0m\n",
            "8h 0m\n",
            "3h 0m\n",
            "27h 0m\n",
            "3h 0m\n",
            "12h 0m\n",
            "11h 0m\n",
            "22h 0m\n",
            "8h 0m\n",
            "3h 0m\n",
            "5h 0m\n",
            "27h 0m\n",
            "5h 0m\n",
            "25h 0m\n",
            "10h 0m\n",
            "8h 0m\n",
            "8h 0m\n",
            "22h 0m\n",
            "3h 0m\n",
            "10h 0m\n",
            "20h 0m\n",
            "16h 0m\n",
            "3h 0m\n",
            "13h 0m\n",
            "20h 0m\n",
            "24h 0m\n",
            "27h 0m\n",
            "7h 0m\n",
            "18h 0m\n",
            "8h 0m\n",
            "3h 0m\n",
            "38h 0m\n",
            "12h 0m\n",
            "6h 0m\n",
            "9h 0m\n",
            "3h 0m\n",
            "3h 0m\n",
            "27h 0m\n",
            "10h 0m\n",
            "18h 0m\n",
            "15h 0m\n",
            "5h 0m\n",
            "12h 0m\n",
            "25h 0m\n",
            "12h 0m\n",
            "10h 0m\n",
            "10h 0m\n",
            "27h 0m\n",
            "3h 0m\n",
            "27h 0m\n",
            "15h 0m\n",
            "23h 0m\n",
            "13h 0m\n",
            "3h 0m\n",
            "10h 0m\n",
            "15h 0m\n",
            "6h 0m\n",
            "3h 0m\n",
            "11h 0m\n",
            "10h 0m\n",
            "18h 0m\n",
            "3h 0m\n",
            "3h 0m\n",
            "10h 0m\n",
            "26h 0m\n",
            "19h 0m\n",
            "10h 0m\n",
            "8h 0m\n",
            "34h 0m\n",
            "8h 0m\n",
            "20h 0m\n",
            "6h 0m\n",
            "13h 0m\n",
            "3h 0m\n",
            "3h 0m\n",
            "3h 0m\n",
            "12h 0m\n",
            "20h 0m\n",
            "9h 0m\n",
            "3h 0m\n",
            "16h 0m\n",
            "26h 0m\n",
            "13h 0m\n",
            "11h 0m\n",
            "3h 0m\n",
            "12h 0m\n",
            "24h 0m\n",
            "3h 0m\n",
            "8h 0m\n",
            "11h 0m\n",
            "5h 0m\n",
            "24h 0m\n",
            "14h 0m\n",
            "5h 0m\n",
            "7h 0m\n",
            "12h 0m\n",
            "11h 0m\n",
            "3h 0m\n",
            "5h 0m\n",
            "3h 0m\n",
            "3h 0m\n",
            "15h 0m\n",
            "25h 0m\n",
            "9h 0m\n",
            "9h 0m\n",
            "3h 0m\n",
            "3h 0m\n",
            "20h 0m\n",
            "27h 0m\n",
            "3h 0m\n",
            "24h 0m\n",
            "5h 0m\n",
            "15h 0m\n",
            "10h 0m\n",
            "26h 0m\n",
            "3h 0m\n",
            "3h 0m\n",
            "12h 0m\n",
            "3h 0m\n",
            "14h 0m\n",
            "26h 0m\n",
            "9h 0m\n",
            "3h 0m\n",
            "38h 0m\n",
            "23h 0m\n",
            "10h 0m\n",
            "34h 0m\n",
            "3h 0m\n",
            "26h 0m\n",
            "11h 0m\n",
            "10h 0m\n",
            "10h 0m\n",
            "8h 0m\n",
            "19h 0m\n",
            "10h 0m\n",
            "22h 0m\n",
            "5h 0m\n",
            "5h 0m\n",
            "22h 0m\n",
            "10h 0m\n",
            "18h 0m\n",
            "15h 0m\n",
            "11h 0m\n",
            "3h 0m\n",
            "3h 0m\n",
            "26h 0m\n",
            "26h 0m\n",
            "38h 0m\n",
            "3h 0m\n",
            "3h 0m\n",
            "14h 0m\n",
            "8h 0m\n",
            "3h 0m\n",
            "3h 0m\n",
            "10h 0m\n",
            "9h 0m\n",
            "3h 0m\n",
            "8h 0m\n",
            "9h 0m\n",
            "7h 0m\n",
            "8h 0m\n",
            "23h 0m\n",
            "14h 0m\n",
            "3h 0m\n",
            "11h 0m\n",
            "3h 0m\n",
            "12h 0m\n",
            "11h 0m\n",
            "9h 0m\n",
            "9h 0m\n",
            "3h 0m\n",
            "9h 0m\n",
            "5h 0m\n",
            "3h 0m\n",
            "11h 0m\n",
            "9h 0m\n",
            "3h 0m\n",
            "3h 0m\n",
            "3h 0m\n",
            "7h 0m\n",
            "38h 0m\n",
            "5h 0m\n",
            "7h 0m\n",
            "13h 0m\n",
            "11h 0m\n",
            "3h 0m\n",
            "11h 0m\n",
            "11h 0m\n",
            "12h 0m\n",
            "26h 0m\n",
            "15h 0m\n",
            "3h 0m\n",
            "5h 0m\n",
            "3h 0m\n",
            "3h 0m\n",
            "38h 0m\n",
            "8h 0m\n",
            "7h 0m\n",
            "11h 0m\n",
            "22h 0m\n",
            "12h 0m\n",
            "15h 0m\n",
            "21h 0m\n",
            "22h 0m\n",
            "27h 0m\n",
            "8h 0m\n",
            "3h 0m\n",
            "3h 0m\n",
            "25h 0m\n",
            "8h 0m\n",
            "5h 0m\n",
            "14h 0m\n",
            "11h 0m\n",
            "3h 0m\n",
            "3h 0m\n",
            "3h 0m\n",
            "15h 0m\n",
            "22h 0m\n",
            "8h 0m\n",
            "24h 0m\n",
            "3h 0m\n",
            "27h 0m\n",
            "13h 0m\n",
            "8h 0m\n",
            "13h 0m\n",
            "10h 0m\n",
            "3h 0m\n",
            "13h 0m\n",
            "7h 0m\n",
            "3h 0m\n",
            "7h 0m\n",
            "30h 0m\n",
            "3h 0m\n",
            "11h 0m\n",
            "23h 0m\n",
            "8h 0m\n",
            "8h 0m\n",
            "3h 0m\n",
            "8h 0m\n",
            "22h 0m\n",
            "13h 0m\n",
            "10h 0m\n",
            "12h 0m\n",
            "13h 0m\n",
            "28h 0m\n",
            "14h 0m\n",
            "9h 0m\n",
            "11h 0m\n",
            "3h 0m\n",
            "3h 0m\n",
            "23h 0m\n",
            "9h 0m\n",
            "13h 0m\n",
            "23h 0m\n",
            "16h 0m\n",
            "3h 0m\n",
            "5h 0m\n",
            "9h 0m\n",
            "9h 0m\n",
            "6h 0m\n",
            "3h 0m\n",
            "23h 0m\n",
            "20h 0m\n",
            "27h 0m\n",
            "10h 0m\n",
            "22h 0m\n",
            "25h 0m\n",
            "3h 0m\n",
            "7h 0m\n",
            "3h 0m\n",
            "16h 0m\n",
            "5h 0m\n",
            "11h 0m\n",
            "3h 0m\n",
            "22h 0m\n",
            "3h 0m\n",
            "11h 0m\n",
            "24h 0m\n",
            "3h 0m\n",
            "10h 0m\n",
            "3h 0m\n",
            "6h 0m\n",
            "3h 0m\n",
            "12h 0m\n",
            "9h 0m\n",
            "11h 0m\n",
            "15h 0m\n",
            "3h 0m\n",
            "11h 0m\n",
            "11h 0m\n",
            "3h 0m\n",
            "9h 0m\n",
            "3h 0m\n",
            "12h 0m\n",
            "3h 0m\n",
            "11h 0m\n",
            "3h 0m\n",
            "8h 0m\n",
            "3h 0m\n",
            "20h 0m\n",
            "8h 0m\n",
            "3h 0m\n",
            "23h 0m\n",
            "11h 0m\n",
            "6h 0m\n",
            "5h 0m\n",
            "9h 0m\n",
            "20h 0m\n",
            "9h 0m\n",
            "8h 0m\n",
            "3h 0m\n",
            "5h 0m\n",
            "19h 0m\n",
            "3h 0m\n",
            "14h 0m\n",
            "10h 0m\n",
            "10h 0m\n",
            "3h 0m\n",
            "23h 0m\n",
            "3h 0m\n",
            "3h 0m\n",
            "20h 0m\n",
            "14h 0m\n",
            "9h 0m\n",
            "15h 0m\n",
            "7h 0m\n",
            "28h 0m\n",
            "5h 0m\n",
            "10h 0m\n",
            "8h 0m\n",
            "12h 0m\n",
            "3h 0m\n",
            "6h 0m\n",
            "3h 0m\n",
            "6h 0m\n",
            "3h 0m\n",
            "9h 0m\n",
            "22h 0m\n",
            "3h 0m\n",
            "18h 0m\n",
            "9h 0m\n",
            "8h 0m\n",
            "25h 0m\n",
            "6h 0m\n",
            "9h 0m\n",
            "15h 0m\n",
            "3h 0m\n",
            "3h 0m\n",
            "3h 0m\n",
            "8h 0m\n",
            "3h 0m\n",
            "9h 0m\n",
            "3h 0m\n",
            "15h 0m\n",
            "8h 0m\n",
            "12h 0m\n",
            "9h 0m\n",
            "9h 0m\n",
            "8h 0m\n",
            "12h 0m\n",
            "19h 0m\n",
            "9h 0m\n",
            "12h 0m\n",
            "16h 0m\n",
            "3h 0m\n",
            "13h 0m\n",
            "3h 0m\n",
            "8h 0m\n",
            "16h 0m\n",
            "14h 0m\n",
            "0h 5m\n",
            "4h 0m\n",
            "13h 0m\n",
            "30h 0m\n",
            "24h 0m\n",
            "11h 0m\n",
            "3h 0m\n",
            "14h 0m\n",
            "12h 0m\n",
            "8h 0m\n",
            "3h 0m\n",
            "9h 0m\n",
            "3h 0m\n",
            "3h 0m\n",
            "15h 0m\n",
            "11h 0m\n",
            "4h 0m\n",
            "3h 0m\n",
            "3h 0m\n",
            "7h 0m\n",
            "13h 0m\n",
            "3h 0m\n",
            "3h 0m\n",
            "16h 0m\n",
            "5h 0m\n",
            "13h 0m\n",
            "22h 0m\n",
            "13h 0m\n",
            "3h 0m\n",
            "3h 0m\n",
            "4h 0m\n",
            "5h 0m\n",
            "3h 0m\n",
            "3h 0m\n",
            "15h 0m\n",
            "5h 0m\n",
            "15h 0m\n",
            "14h 0m\n",
            "13h 0m\n",
            "3h 0m\n",
            "3h 0m\n",
            "8h 0m\n",
            "13h 0m\n",
            "23h 0m\n",
            "23h 0m\n",
            "3h 0m\n",
            "3h 0m\n",
            "5h 0m\n",
            "5h 0m\n",
            "3h 0m\n",
            "38h 0m\n",
            "15h 0m\n",
            "9h 0m\n",
            "24h 0m\n",
            "28h 0m\n",
            "10h 0m\n",
            "11h 0m\n",
            "24h 0m\n",
            "16h 0m\n",
            "22h 0m\n",
            "3h 0m\n",
            "3h 0m\n",
            "14h 0m\n",
            "11h 0m\n",
            "9h 0m\n",
            "11h 0m\n",
            "22h 0m\n",
            "9h 0m\n",
            "3h 0m\n",
            "12h 0m\n",
            "3h 0m\n",
            "3h 0m\n",
            "9h 0m\n",
            "24h 0m\n",
            "15h 0m\n",
            "3h 0m\n",
            "9h 0m\n",
            "3h 0m\n",
            "18h 0m\n",
            "12h 0m\n",
            "3h 0m\n",
            "14h 0m\n",
            "3h 0m\n",
            "3h 0m\n",
            "27h 0m\n",
            "13h 0m\n",
            "12h 0m\n",
            "12h 0m\n",
            "3h 0m\n",
            "11h 0m\n",
            "27h 0m\n",
            "20h 0m\n",
            "16h 0m\n",
            "6h 0m\n",
            "7h 0m\n",
            "3h 0m\n",
            "27h 0m\n",
            "12h 0m\n",
            "8h 0m\n",
            "27h 0m\n",
            "4h 0m\n",
            "3h 0m\n",
            "11h 0m\n",
            "27h 0m\n",
            "10h 0m\n",
            "3h 0m\n",
            "23h 0m\n",
            "3h 0m\n",
            "14h 0m\n",
            "12h 0m\n",
            "6h 0m\n",
            "3h 0m\n",
            "13h 0m\n",
            "5h 0m\n",
            "24h 0m\n",
            "8h 0m\n",
            "24h 0m\n",
            "24h 0m\n",
            "10h 0m\n",
            "23h 0m\n",
            "20h 0m\n",
            "23h 0m\n",
            "5h 0m\n",
            "3h 0m\n",
            "14h 0m\n",
            "3h 0m\n",
            "22h 0m\n",
            "3h 0m\n",
            "12h 0m\n",
            "9h 0m\n",
            "3h 0m\n",
            "3h 0m\n",
            "3h 0m\n",
            "4h 0m\n",
            "3h 0m\n",
            "22h 0m\n",
            "14h 0m\n",
            "9h 0m\n",
            "9h 0m\n",
            "18h 0m\n",
            "3h 0m\n",
            "10h 0m\n",
            "3h 0m\n",
            "15h 0m\n",
            "23h 0m\n",
            "8h 0m\n",
            "16h 0m\n",
            "5h 0m\n",
            "38h 0m\n",
            "3h 0m\n",
            "26h 0m\n",
            "9h 0m\n",
            "3h 0m\n",
            "27h 0m\n",
            "6h 0m\n",
            "26h 0m\n",
            "11h 0m\n",
            "3h 0m\n",
            "5h 0m\n",
            "5h 0m\n",
            "26h 0m\n",
            "24h 0m\n",
            "10h 0m\n",
            "3h 0m\n",
            "11h 0m\n",
            "11h 0m\n",
            "9h 0m\n",
            "5h 0m\n",
            "3h 0m\n",
            "26h 0m\n",
            "14h 0m\n",
            "26h 0m\n",
            "8h 0m\n",
            "11h 0m\n",
            "38h 0m\n",
            "3h 0m\n",
            "27h 0m\n",
            "6h 0m\n",
            "3h 0m\n",
            "8h 0m\n",
            "16h 0m\n",
            "10h 0m\n",
            "3h 0m\n",
            "8h 0m\n",
            "3h 0m\n",
            "5h 0m\n",
            "5h 0m\n",
            "3h 0m\n",
            "3h 0m\n",
            "18h 0m\n",
            "3h 0m\n",
            "6h 0m\n",
            "3h 0m\n",
            "5h 0m\n",
            "8h 0m\n",
            "5h 0m\n",
            "5h 0m\n",
            "14h 0m\n",
            "12h 0m\n",
            "11h 0m\n",
            "6h 0m\n",
            "6h 0m\n",
            "3h 0m\n",
            "12h 0m\n",
            "9h 0m\n",
            "5h 0m\n",
            "3h 0m\n",
            "26h 0m\n",
            "7h 0m\n",
            "12h 0m\n",
            "18h 0m\n",
            "23h 0m\n",
            "13h 0m\n",
            "11h 0m\n",
            "9h 0m\n",
            "3h 0m\n",
            "26h 0m\n",
            "8h 0m\n",
            "3h 0m\n",
            "38h 0m\n",
            "8h 0m\n",
            "3h 0m\n",
            "11h 0m\n",
            "18h 0m\n",
            "3h 0m\n",
            "13h 0m\n",
            "18h 0m\n",
            "8h 0m\n",
            "38h 0m\n",
            "3h 0m\n",
            "10h 0m\n",
            "3h 0m\n",
            "8h 0m\n",
            "20h 0m\n",
            "13h 0m\n",
            "3h 0m\n",
            "13h 0m\n",
            "3h 0m\n",
            "26h 0m\n",
            "25h 0m\n",
            "7h 0m\n",
            "4h 0m\n",
            "27h 0m\n",
            "9h 0m\n",
            "3h 0m\n",
            "15h 0m\n",
            "21h 0m\n",
            "5h 0m\n",
            "5h 0m\n",
            "7h 0m\n",
            "4h 0m\n",
            "13h 0m\n",
            "19h 0m\n",
            "13h 0m\n",
            "21h 0m\n",
            "5h 0m\n",
            "24h 0m\n",
            "27h 0m\n",
            "7h 0m\n",
            "3h 0m\n",
            "15h 0m\n",
            "5h 0m\n",
            "12h 0m\n",
            "14h 0m\n",
            "3h 0m\n",
            "13h 0m\n",
            "3h 0m\n",
            "11h 0m\n",
            "11h 0m\n",
            "3h 0m\n",
            "16h 0m\n",
            "12h 0m\n",
            "12h 0m\n",
            "28h 0m\n",
            "3h 0m\n",
            "3h 0m\n",
            "27h 0m\n",
            "5h 0m\n",
            "12h 0m\n",
            "6h 0m\n",
            "10h 0m\n",
            "3h 0m\n",
            "19h 0m\n",
            "6h 0m\n",
            "3h 0m\n",
            "11h 0m\n",
            "28h 0m\n",
            "3h 0m\n",
            "3h 0m\n",
            "26h 0m\n",
            "8h 0m\n",
            "8h 0m\n",
            "22h 0m\n",
            "24h 0m\n",
            "3h 0m\n",
            "24h 0m\n",
            "14h 0m\n",
            "3h 0m\n",
            "27h 0m\n",
            "20h 0m\n",
            "6h 0m\n",
            "20h 0m\n",
            "9h 0m\n",
            "9h 0m\n",
            "14h 0m\n",
            "12h 0m\n",
            "3h 0m\n",
            "26h 0m\n",
            "26h 0m\n",
            "3h 0m\n",
            "24h 0m\n",
            "22h 0m\n",
            "3h 0m\n",
            "8h 0m\n",
            "15h 0m\n",
            "3h 0m\n",
            "3h 0m\n",
            "3h 0m\n",
            "3h 0m\n",
            "10h 0m\n",
            "38h 0m\n",
            "8h 0m\n",
            "6h 0m\n",
            "25h 0m\n",
            "8h 0m\n",
            "6h 0m\n",
            "5h 0m\n",
            "3h 0m\n",
            "9h 0m\n",
            "7h 0m\n",
            "27h 0m\n",
            "9h 0m\n",
            "4h 0m\n",
            "23h 0m\n",
            "14h 0m\n",
            "3h 0m\n",
            "3h 0m\n",
            "6h 0m\n",
            "5h 0m\n",
            "13h 0m\n",
            "6h 0m\n",
            "16h 0m\n",
            "5h 0m\n",
            "25h 0m\n",
            "27h 0m\n",
            "22h 0m\n",
            "13h 0m\n",
            "3h 0m\n",
            "3h 0m\n",
            "3h 0m\n",
            "3h 0m\n",
            "8h 0m\n",
            "3h 0m\n",
            "22h 0m\n",
            "24h 0m\n",
            "9h 0m\n",
            "25h 0m\n",
            "28h 0m\n",
            "5h 0m\n",
            "14h 0m\n",
            "25h 0m\n",
            "9h 0m\n",
            "3h 0m\n",
            "13h 0m\n",
            "4h 0m\n",
            "3h 0m\n",
            "21h 0m\n",
            "23h 0m\n",
            "5h 0m\n",
            "12h 0m\n",
            "15h 0m\n",
            "7h 0m\n",
            "3h 0m\n",
            "12h 0m\n",
            "24h 0m\n",
            "3h 0m\n",
            "28h 0m\n",
            "11h 0m\n",
            "6h 0m\n",
            "3h 0m\n",
            "3h 0m\n",
            "9h 0m\n",
            "27h 0m\n",
            "5h 0m\n",
            "5h 0m\n",
            "12h 0m\n",
            "11h 0m\n",
            "28h 0m\n",
            "5h 0m\n",
            "23h 0m\n",
            "26h 0m\n",
            "11h 0m\n",
            "10h 0m\n",
            "8h 0m\n",
            "3h 0m\n",
            "3h 0m\n",
            "22h 0m\n",
            "9h 0m\n",
            "22h 0m\n",
            "3h 0m\n",
            "5h 0m\n",
            "3h 0m\n",
            "23h 0m\n",
            "10h 0m\n",
            "3h 0m\n",
            "24h 0m\n",
            "12h 0m\n",
            "24h 0m\n",
            "3h 0m\n",
            "19h 0m\n",
            "9h 0m\n",
            "3h 0m\n",
            "13h 0m\n",
            "21h 0m\n",
            "14h 0m\n",
            "26h 0m\n",
            "27h 0m\n",
            "13h 0m\n",
            "3h 0m\n",
            "10h 0m\n",
            "3h 0m\n",
            "3h 0m\n",
            "3h 0m\n",
            "3h 0m\n",
            "11h 0m\n",
            "3h 0m\n",
            "14h 0m\n",
            "3h 0m\n",
            "13h 0m\n",
            "3h 0m\n",
            "4h 0m\n",
            "20h 0m\n",
            "23h 0m\n",
            "14h 0m\n",
            "38h 0m\n",
            "15h 0m\n",
            "3h 0m\n"
          ]
        }
      ]
    },
    {
      "cell_type": "code",
      "source": [
        "'3h 0m'.split(sep='m')[0].split()"
      ],
      "metadata": {
        "colab": {
          "base_uri": "https://localhost:8080/"
        },
        "id": "c89vfNaMBYjB",
        "outputId": "4dc8c8fd-7565-404b-fdca-afd0aeefa707"
      },
      "execution_count": null,
      "outputs": [
        {
          "output_type": "execute_result",
          "data": {
            "text/plain": [
              "['3h', '0']"
            ]
          },
          "metadata": {},
          "execution_count": 22
        }
      ]
    },
    {
      "cell_type": "code",
      "source": [
        "duration_hours = []\n",
        "duration_minute = []\n",
        "for i in range(len(flight_duration)):\n",
        "  duration_hours.append(int(flight_duration[i].split(sep='h')[0]))\n",
        "  duration_minute.append(int(flight_duration[i].split(sep='m')[0].split()[-1]))\n",
        "len(duration_hours)\n",
        "len(duration_minute)"
      ],
      "metadata": {
        "colab": {
          "base_uri": "https://localhost:8080/"
        },
        "id": "Qc31_adV_oZU",
        "outputId": "818c09c5-3e02-419a-aee2-2c095f24f728"
      },
      "execution_count": null,
      "outputs": [
        {
          "output_type": "execute_result",
          "data": {
            "text/plain": [
              "10682"
            ]
          },
          "metadata": {},
          "execution_count": 23
        }
      ]
    },
    {
      "cell_type": "code",
      "source": [
        "df['duration_hour'] = duration_hours\n",
        "df['duration_minute'] = duration_minute"
      ],
      "metadata": {
        "id": "wmaRvDJtAX9U"
      },
      "execution_count": null,
      "outputs": []
    },
    {
      "cell_type": "code",
      "source": [
        "df = df.drop(['Duration'],axis=1)"
      ],
      "metadata": {
        "id": "lBidb3pVEYgo"
      },
      "execution_count": null,
      "outputs": []
    },
    {
      "cell_type": "code",
      "source": [
        "df.head(2)"
      ],
      "metadata": {
        "colab": {
          "base_uri": "https://localhost:8080/",
          "height": 315
        },
        "id": "AOaqvFtBEoCz",
        "outputId": "e0ad4585-39e8-4b0a-adc6-c569765cb0f6"
      },
      "execution_count": null,
      "outputs": [
        {
          "output_type": "execute_result",
          "data": {
            "text/plain": [
              "     Airline    Source Destination                  Route Total_Stops  \\\n",
              "0     IndiGo  Banglore   New Delhi              BLR → DEL    non-stop   \n",
              "1  Air India   Kolkata    Banglore  CCU → IXR → BBI → BLR     2 stops   \n",
              "\n",
              "  Additional_Info  Price  journey_day  journey_month  departure_hour  \\\n",
              "0         No info   3897           24              3              22   \n",
              "1         No info   7662            5              1               5   \n",
              "\n",
              "   departure_minute  arrival_hour  arrival_minute  duration_hour  \\\n",
              "0                20             1              10              2   \n",
              "1                50            13              15              7   \n",
              "\n",
              "   duration_minute  \n",
              "0               50  \n",
              "1               25  "
            ],
            "text/html": [
              "\n",
              "  <div id=\"df-38d61e18-134c-4813-bbce-2f7997c99737\">\n",
              "    <div class=\"colab-df-container\">\n",
              "      <div>\n",
              "<style scoped>\n",
              "    .dataframe tbody tr th:only-of-type {\n",
              "        vertical-align: middle;\n",
              "    }\n",
              "\n",
              "    .dataframe tbody tr th {\n",
              "        vertical-align: top;\n",
              "    }\n",
              "\n",
              "    .dataframe thead th {\n",
              "        text-align: right;\n",
              "    }\n",
              "</style>\n",
              "<table border=\"1\" class=\"dataframe\">\n",
              "  <thead>\n",
              "    <tr style=\"text-align: right;\">\n",
              "      <th></th>\n",
              "      <th>Airline</th>\n",
              "      <th>Source</th>\n",
              "      <th>Destination</th>\n",
              "      <th>Route</th>\n",
              "      <th>Total_Stops</th>\n",
              "      <th>Additional_Info</th>\n",
              "      <th>Price</th>\n",
              "      <th>journey_day</th>\n",
              "      <th>journey_month</th>\n",
              "      <th>departure_hour</th>\n",
              "      <th>departure_minute</th>\n",
              "      <th>arrival_hour</th>\n",
              "      <th>arrival_minute</th>\n",
              "      <th>duration_hour</th>\n",
              "      <th>duration_minute</th>\n",
              "    </tr>\n",
              "  </thead>\n",
              "  <tbody>\n",
              "    <tr>\n",
              "      <th>0</th>\n",
              "      <td>IndiGo</td>\n",
              "      <td>Banglore</td>\n",
              "      <td>New Delhi</td>\n",
              "      <td>BLR → DEL</td>\n",
              "      <td>non-stop</td>\n",
              "      <td>No info</td>\n",
              "      <td>3897</td>\n",
              "      <td>24</td>\n",
              "      <td>3</td>\n",
              "      <td>22</td>\n",
              "      <td>20</td>\n",
              "      <td>1</td>\n",
              "      <td>10</td>\n",
              "      <td>2</td>\n",
              "      <td>50</td>\n",
              "    </tr>\n",
              "    <tr>\n",
              "      <th>1</th>\n",
              "      <td>Air India</td>\n",
              "      <td>Kolkata</td>\n",
              "      <td>Banglore</td>\n",
              "      <td>CCU → IXR → BBI → BLR</td>\n",
              "      <td>2 stops</td>\n",
              "      <td>No info</td>\n",
              "      <td>7662</td>\n",
              "      <td>5</td>\n",
              "      <td>1</td>\n",
              "      <td>5</td>\n",
              "      <td>50</td>\n",
              "      <td>13</td>\n",
              "      <td>15</td>\n",
              "      <td>7</td>\n",
              "      <td>25</td>\n",
              "    </tr>\n",
              "  </tbody>\n",
              "</table>\n",
              "</div>\n",
              "      <button class=\"colab-df-convert\" onclick=\"convertToInteractive('df-38d61e18-134c-4813-bbce-2f7997c99737')\"\n",
              "              title=\"Convert this dataframe to an interactive table.\"\n",
              "              style=\"display:none;\">\n",
              "        \n",
              "  <svg xmlns=\"http://www.w3.org/2000/svg\" height=\"24px\"viewBox=\"0 0 24 24\"\n",
              "       width=\"24px\">\n",
              "    <path d=\"M0 0h24v24H0V0z\" fill=\"none\"/>\n",
              "    <path d=\"M18.56 5.44l.94 2.06.94-2.06 2.06-.94-2.06-.94-.94-2.06-.94 2.06-2.06.94zm-11 1L8.5 8.5l.94-2.06 2.06-.94-2.06-.94L8.5 2.5l-.94 2.06-2.06.94zm10 10l.94 2.06.94-2.06 2.06-.94-2.06-.94-.94-2.06-.94 2.06-2.06.94z\"/><path d=\"M17.41 7.96l-1.37-1.37c-.4-.4-.92-.59-1.43-.59-.52 0-1.04.2-1.43.59L10.3 9.45l-7.72 7.72c-.78.78-.78 2.05 0 2.83L4 21.41c.39.39.9.59 1.41.59.51 0 1.02-.2 1.41-.59l7.78-7.78 2.81-2.81c.8-.78.8-2.07 0-2.86zM5.41 20L4 18.59l7.72-7.72 1.47 1.35L5.41 20z\"/>\n",
              "  </svg>\n",
              "      </button>\n",
              "      \n",
              "  <style>\n",
              "    .colab-df-container {\n",
              "      display:flex;\n",
              "      flex-wrap:wrap;\n",
              "      gap: 12px;\n",
              "    }\n",
              "\n",
              "    .colab-df-convert {\n",
              "      background-color: #E8F0FE;\n",
              "      border: none;\n",
              "      border-radius: 50%;\n",
              "      cursor: pointer;\n",
              "      display: none;\n",
              "      fill: #1967D2;\n",
              "      height: 32px;\n",
              "      padding: 0 0 0 0;\n",
              "      width: 32px;\n",
              "    }\n",
              "\n",
              "    .colab-df-convert:hover {\n",
              "      background-color: #E2EBFA;\n",
              "      box-shadow: 0px 1px 2px rgba(60, 64, 67, 0.3), 0px 1px 3px 1px rgba(60, 64, 67, 0.15);\n",
              "      fill: #174EA6;\n",
              "    }\n",
              "\n",
              "    [theme=dark] .colab-df-convert {\n",
              "      background-color: #3B4455;\n",
              "      fill: #D2E3FC;\n",
              "    }\n",
              "\n",
              "    [theme=dark] .colab-df-convert:hover {\n",
              "      background-color: #434B5C;\n",
              "      box-shadow: 0px 1px 3px 1px rgba(0, 0, 0, 0.15);\n",
              "      filter: drop-shadow(0px 1px 2px rgba(0, 0, 0, 0.3));\n",
              "      fill: #FFFFFF;\n",
              "    }\n",
              "  </style>\n",
              "\n",
              "      <script>\n",
              "        const buttonEl =\n",
              "          document.querySelector('#df-38d61e18-134c-4813-bbce-2f7997c99737 button.colab-df-convert');\n",
              "        buttonEl.style.display =\n",
              "          google.colab.kernel.accessAllowed ? 'block' : 'none';\n",
              "\n",
              "        async function convertToInteractive(key) {\n",
              "          const element = document.querySelector('#df-38d61e18-134c-4813-bbce-2f7997c99737');\n",
              "          const dataTable =\n",
              "            await google.colab.kernel.invokeFunction('convertToInteractive',\n",
              "                                                     [key], {});\n",
              "          if (!dataTable) return;\n",
              "\n",
              "          const docLinkHtml = 'Like what you see? Visit the ' +\n",
              "            '<a target=\"_blank\" href=https://colab.research.google.com/notebooks/data_table.ipynb>data table notebook</a>'\n",
              "            + ' to learn more about interactive tables.';\n",
              "          element.innerHTML = '';\n",
              "          dataTable['output_type'] = 'display_data';\n",
              "          await google.colab.output.renderOutput(dataTable, element);\n",
              "          const docLink = document.createElement('div');\n",
              "          docLink.innerHTML = docLinkHtml;\n",
              "          element.appendChild(docLink);\n",
              "        }\n",
              "      </script>\n",
              "    </div>\n",
              "  </div>\n",
              "  "
            ]
          },
          "metadata": {},
          "execution_count": 68
        }
      ]
    },
    {
      "cell_type": "code",
      "source": [
        "df1 = df.groupby('Airline').sum()['Price'].sort_values(ascending=False)"
      ],
      "metadata": {
        "id": "dm2Jj3hyEpzE"
      },
      "execution_count": null,
      "outputs": []
    },
    {
      "cell_type": "code",
      "source": [
        "df1.plot(kind='bar')"
      ],
      "metadata": {
        "colab": {
          "base_uri": "https://localhost:8080/",
          "height": 475
        },
        "id": "p1dUzl1xJvAW",
        "outputId": "35a37f2e-f94b-44fd-ee68-a58553ea2b74"
      },
      "execution_count": null,
      "outputs": [
        {
          "output_type": "execute_result",
          "data": {
            "text/plain": [
              "<matplotlib.axes._subplots.AxesSubplot at 0x7f9ee72bee10>"
            ]
          },
          "metadata": {},
          "execution_count": 28
        },
        {
          "output_type": "display_data",
          "data": {
            "text/plain": [
              "<Figure size 432x288 with 1 Axes>"
            ],
            "image/png": "[encoded data removed]"
          },
          "metadata": {
            "needs_background": "light"
          }
        }
      ]
    },
    {
      "cell_type": "markdown",
      "source": [
        "Jet Airways has the highest price and Trujet has the lowest price"
      ],
      "metadata": {
        "id": "HR4aEdr0ICNV"
      }
    },
    {
      "cell_type": "code",
      "source": [
        "import seaborn as sns\n",
        "import matplotlib.pyplot as plt\n",
        "sns.catplot(y = \"Price\", x = \"Airline\", data = df.sort_values(\"Price\", ascending = False), kind=\"boxen\", height = 6, aspect = 3)\n",
        "plt.show()"
      ],
      "metadata": {
        "colab": {
          "base_uri": "https://localhost:8080/",
          "height": 398
        },
        "id": "oiepz5D0IIua",
        "outputId": "25233ef4-8162-44c2-a231-a2b39b57dd75"
      },
      "execution_count": null,
      "outputs": [
        {
          "output_type": "display_data",
          "data": {
            "text/plain": [
              "<Figure size 1296x432 with 1 Axes>"
            ],
            "image/png": "[encoded data removed]"
          },
          "metadata": {
            "needs_background": "light"
          }
        }
      ]
    },
    {
      "cell_type": "code",
      "source": [
        "from sklearn.preprocessing import OneHotEncoder\n",
        "from sklearn.model_selection import train_test_split"
      ],
      "metadata": {
        "id": "7fUssrFSKhIM"
      },
      "execution_count": null,
      "outputs": []
    },
    {
      "cell_type": "code",
      "source": [
        "airline = df[['Airline']]\n",
        "ohe = OneHotEncoder()\n",
        "ohe.fit(airline)"
      ],
      "metadata": {
        "colab": {
          "base_uri": "https://localhost:8080/"
        },
        "id": "18UqplDqMpei",
        "outputId": "90be8121-4694-4cf6-abe2-434a61cb88cd"
      },
      "execution_count": null,
      "outputs": [
        {
          "output_type": "execute_result",
          "data": {
            "text/plain": [
              "OneHotEncoder()"
            ]
          },
          "metadata": {},
          "execution_count": 102
        }
      ]
    },
    {
      "cell_type": "code",
      "source": [
        "ohe_airline = ohe.get_feature_names_out().tolist()\n",
        "airline[ohe_airline] = ohe.transform(airline).toarray()"
      ],
      "metadata": {
        "colab": {
          "base_uri": "https://localhost:8080/"
        },
        "id": "3XQA4F-8NnL-",
        "outputId": "6978aac2-b2cc-4608-9f88-5d2e8eac3597"
      },
      "execution_count": null,
      "outputs": [
        {
          "output_type": "stream",
          "name": "stderr",
          "text": [
            "/usr/local/lib/python3.7/dist-packages/pandas/core/frame.py:3678: SettingWithCopyWarning: \n",
            "A value is trying to be set on a copy of a slice from a DataFrame.\n",
            "Try using .loc[row_indexer,col_indexer] = value instead\n",
            "\n",
            "See the caveats in the documentation: https://pandas.pydata.org/pandas-docs/stable/user_guide/indexing.html#returning-a-view-versus-a-copy\n",
            "  self[col] = igetitem(value, i)\n"
          ]
        }
      ]
    },
    {
      "cell_type": "code",
      "source": [
        "airline = airline.iloc[:,1:]\n",
        "airline.head(2)\n",
        "airline.shape"
      ],
      "metadata": {
        "colab": {
          "base_uri": "https://localhost:8080/"
        },
        "id": "uUsRsABgPn7k",
        "outputId": "7a201062-e327-4781-b5d1-19964d82d420"
      },
      "execution_count": null,
      "outputs": [
        {
          "output_type": "execute_result",
          "data": {
            "text/plain": [
              "(10682, 12)"
            ]
          },
          "metadata": {},
          "execution_count": 104
        }
      ]
    },
    {
      "cell_type": "code",
      "source": [
        "df.groupby(['Source']).sum()['Price'].sort_values(ascending=False)"
      ],
      "metadata": {
        "colab": {
          "base_uri": "https://localhost:8080/"
        },
        "id": "MQLc_0PEP1N0",
        "outputId": "c9c457c1-c107-4613-c51d-39dbf9fb22ef"
      },
      "execution_count": null,
      "outputs": [
        {
          "output_type": "execute_result",
          "data": {
            "text/plain": [
              "Source\n",
              "Delhi       47809955\n",
              "Kolkata     26293736\n",
              "Banglore    17614369\n",
              "Mumbai       3526617\n",
              "Chennai      1824949\n",
              "Name: Price, dtype: int64"
            ]
          },
          "metadata": {},
          "execution_count": 75
        }
      ]
    },
    {
      "cell_type": "markdown",
      "source": [
        "From Delhi the flight are most expensive"
      ],
      "metadata": {
        "id": "EONd6D2MQL4-"
      }
    },
    {
      "cell_type": "code",
      "source": [
        "source = df[['Source']]\n",
        "ohe.fit(source)"
      ],
      "metadata": {
        "colab": {
          "base_uri": "https://localhost:8080/"
        },
        "id": "GGzAQjBhQLMk",
        "outputId": "ae987f79-8b0b-4a07-f259-91ff3054a713"
      },
      "execution_count": null,
      "outputs": [
        {
          "output_type": "execute_result",
          "data": {
            "text/plain": [
              "OneHotEncoder()"
            ]
          },
          "metadata": {},
          "execution_count": 105
        }
      ]
    },
    {
      "cell_type": "code",
      "source": [
        "ohe_source = ohe.get_feature_names_out().tolist()\n",
        "source[ohe_source] = ohe.transform(source).toarray()\n",
        "source = source.iloc[:,1:]"
      ],
      "metadata": {
        "colab": {
          "base_uri": "https://localhost:8080/"
        },
        "id": "7GcUkYBgQxwX",
        "outputId": "eb8b5bca-478b-41bc-9b42-ef39b3416989"
      },
      "execution_count": null,
      "outputs": [
        {
          "output_type": "stream",
          "name": "stderr",
          "text": [
            "/usr/local/lib/python3.7/dist-packages/pandas/core/frame.py:3678: SettingWithCopyWarning: \n",
            "A value is trying to be set on a copy of a slice from a DataFrame.\n",
            "Try using .loc[row_indexer,col_indexer] = value instead\n",
            "\n",
            "See the caveats in the documentation: https://pandas.pydata.org/pandas-docs/stable/user_guide/indexing.html#returning-a-view-versus-a-copy\n",
            "  self[col] = igetitem(value, i)\n"
          ]
        }
      ]
    },
    {
      "cell_type": "code",
      "source": [
        "source.head(2)\n",
        "source.shape"
      ],
      "metadata": {
        "colab": {
          "base_uri": "https://localhost:8080/"
        },
        "id": "e_Aoow12RFp6",
        "outputId": "4072e557-d880-4b8f-eb65-c09d68939393"
      },
      "execution_count": null,
      "outputs": [
        {
          "output_type": "execute_result",
          "data": {
            "text/plain": [
              "(10682, 5)"
            ]
          },
          "metadata": {},
          "execution_count": 107
        }
      ]
    },
    {
      "cell_type": "code",
      "source": [
        "df.groupby(['Destination']).sum()['Price'].sort_values(ascending=False)"
      ],
      "metadata": {
        "colab": {
          "base_uri": "https://localhost:8080/"
        },
        "id": "yVKnDvxBS0tH",
        "outputId": "436495ee-819e-4213-f1b8-164fea88d579"
      },
      "execution_count": null,
      "outputs": [
        {
          "output_type": "execute_result",
          "data": {
            "text/plain": [
              "Destination\n",
              "Cochin       47809955\n",
              "Banglore     26293736\n",
              "New Delhi    11107312\n",
              "Delhi         6507057\n",
              "Hyderabad     3526617\n",
              "Kolkata       1824949\n",
              "Name: Price, dtype: int64"
            ]
          },
          "metadata": {},
          "execution_count": 79
        }
      ]
    },
    {
      "cell_type": "code",
      "source": [
        "df['Destination'].value_counts()"
      ],
      "metadata": {
        "colab": {
          "base_uri": "https://localhost:8080/"
        },
        "id": "569XbdHAS81O",
        "outputId": "a2ce552a-2cf0-4a73-e7d9-acd6ec1e8d17"
      },
      "execution_count": null,
      "outputs": [
        {
          "output_type": "execute_result",
          "data": {
            "text/plain": [
              "Cochin       4536\n",
              "Banglore     2871\n",
              "Delhi        1265\n",
              "New Delhi     932\n",
              "Hyderabad     697\n",
              "Kolkata       381\n",
              "Name: Destination, dtype: int64"
            ]
          },
          "metadata": {},
          "execution_count": 108
        }
      ]
    },
    {
      "cell_type": "code",
      "source": [
        "destination = df[['Destination']]\n",
        "ohe.fit(destination)\n"
      ],
      "metadata": {
        "colab": {
          "base_uri": "https://localhost:8080/"
        },
        "id": "j5ldgf6SR0OA",
        "outputId": "5cf67dc4-bcd9-4c0d-ea34-138c41d87e97"
      },
      "execution_count": null,
      "outputs": [
        {
          "output_type": "execute_result",
          "data": {
            "text/plain": [
              "OneHotEncoder()"
            ]
          },
          "metadata": {},
          "execution_count": 109
        }
      ]
    },
    {
      "cell_type": "code",
      "source": [
        "ohe_dest = ohe.get_feature_names_out().tolist()\n",
        "destination[ohe_dest] = ohe.transform(destination).toarray()"
      ],
      "metadata": {
        "colab": {
          "base_uri": "https://localhost:8080/"
        },
        "id": "R4nDWR70Sb_r",
        "outputId": "e78ded76-0f95-448f-bfe1-6c4b371b9574"
      },
      "execution_count": null,
      "outputs": [
        {
          "output_type": "stream",
          "name": "stderr",
          "text": [
            "/usr/local/lib/python3.7/dist-packages/pandas/core/frame.py:3678: SettingWithCopyWarning: \n",
            "A value is trying to be set on a copy of a slice from a DataFrame.\n",
            "Try using .loc[row_indexer,col_indexer] = value instead\n",
            "\n",
            "See the caveats in the documentation: https://pandas.pydata.org/pandas-docs/stable/user_guide/indexing.html#returning-a-view-versus-a-copy\n",
            "  self[col] = igetitem(value, i)\n"
          ]
        }
      ]
    },
    {
      "cell_type": "code",
      "source": [
        "destination = destination.iloc[:,1:]\n",
        "destination.shape"
      ],
      "metadata": {
        "colab": {
          "base_uri": "https://localhost:8080/"
        },
        "id": "yx16s9uOSpdL",
        "outputId": "5f0c835b-32b8-454d-9ca8-857672876dfe"
      },
      "execution_count": null,
      "outputs": [
        {
          "output_type": "execute_result",
          "data": {
            "text/plain": [
              "(10682, 6)"
            ]
          },
          "metadata": {},
          "execution_count": 111
        }
      ]
    },
    {
      "cell_type": "code",
      "source": [
        "df['Total_Stops'].value_counts()"
      ],
      "metadata": {
        "colab": {
          "base_uri": "https://localhost:8080/"
        },
        "id": "c_ItkCFJTU4f",
        "outputId": "f91e5b28-2d05-47bc-c19a-1e3b22153428"
      },
      "execution_count": null,
      "outputs": [
        {
          "output_type": "execute_result",
          "data": {
            "text/plain": [
              "1 stop      5625\n",
              "non-stop    3491\n",
              "2 stops     1520\n",
              "3 stops       45\n",
              "4 stops        1\n",
              "Name: Total_Stops, dtype: int64"
            ]
          },
          "metadata": {},
          "execution_count": 112
        }
      ]
    },
    {
      "cell_type": "code",
      "source": [
        "sns.barplot(df['Total_Stops'],df['Price'].sort_values(ascending=False))\n",
        "plt.show()"
      ],
      "metadata": {
        "colab": {
          "base_uri": "https://localhost:8080/",
          "height": 335
        },
        "id": "T13t_105Ta7g",
        "outputId": "4ade3bf7-6906-4653-ef60-4dbe9010d1e7"
      },
      "execution_count": null,
      "outputs": [
        {
          "output_type": "stream",
          "name": "stderr",
          "text": [
            "/usr/local/lib/python3.7/dist-packages/seaborn/_decorators.py:43: FutureWarning: Pass the following variables as keyword args: x, y. From version 0.12, the only valid positional argument will be `data`, and passing other arguments without an explicit keyword will result in an error or misinterpretation.\n",
            "  FutureWarning\n"
          ]
        },
        {
          "output_type": "display_data",
          "data": {
            "text/plain": [
              "<Figure size 432x288 with 1 Axes>"
            ],
            "image/png": "[encoded data removed]"
          },
          "metadata": {
            "needs_background": "light"
          }
        }
      ]
    },
    {
      "cell_type": "code",
      "source": [
        "df = df.replace({\"non-stop\": 0, \"1 stop\": 1, \"2 stops\": 2, \"3 stops\": 3, \"4 stops\": 4})"
      ],
      "metadata": {
        "id": "ZZlRdU740O1F"
      },
      "execution_count": null,
      "outputs": []
    },
    {
      "cell_type": "code",
      "source": [
        "df['Total_Stops'].unique()"
      ],
      "metadata": {
        "colab": {
          "base_uri": "https://localhost:8080/"
        },
        "id": "9S5hGBcQ0a9U",
        "outputId": "bf24f8f1-0010-4f1e-9975-1d9dc1ca5ecc"
      },
      "execution_count": null,
      "outputs": [
        {
          "output_type": "execute_result",
          "data": {
            "text/plain": [
              "array([0, 2, 1, 3, 4])"
            ]
          },
          "metadata": {},
          "execution_count": 115
        }
      ]
    },
    {
      "cell_type": "code",
      "source": [
        "df['Additional_Info'].value_counts()"
      ],
      "metadata": {
        "colab": {
          "base_uri": "https://localhost:8080/"
        },
        "id": "NfltAjFw1EQw",
        "outputId": "eca7fdaf-3289-4c6d-c650-232ec9cacfce"
      },
      "execution_count": null,
      "outputs": [
        {
          "output_type": "execute_result",
          "data": {
            "text/plain": [
              "No info                         8344\n",
              "In-flight meal not included     1982\n",
              "No check-in baggage included     320\n",
              "1 Long layover                    19\n",
              "Change airports                    7\n",
              "Business class                     4\n",
              "No Info                            3\n",
              "1 Short layover                    1\n",
              "Red-eye flight                     1\n",
              "2 Long layover                     1\n",
              "Name: Additional_Info, dtype: int64"
            ]
          },
          "metadata": {},
          "execution_count": 116
        }
      ]
    },
    {
      "cell_type": "code",
      "source": [
        "df = df.drop(['Route','Additional_Info'],axis=1)"
      ],
      "metadata": {
        "id": "NOwg7mAX0zID"
      },
      "execution_count": null,
      "outputs": []
    },
    {
      "cell_type": "code",
      "source": [
        "df.head()"
      ],
      "metadata": {
        "colab": {
          "base_uri": "https://localhost:8080/",
          "height": 287
        },
        "id": "DtkOB7zv0kuX",
        "outputId": "d116248f-48ae-4076-b470-bda87b496037"
      },
      "execution_count": null,
      "outputs": [
        {
          "output_type": "execute_result",
          "data": {
            "text/plain": [
              "       Airline    Source Destination  Total_Stops  Price  journey_day  \\\n",
              "0       IndiGo  Banglore   New Delhi            0   3897           24   \n",
              "1    Air India   Kolkata    Banglore            2   7662            5   \n",
              "2  Jet Airways     Delhi      Cochin            2  13882            6   \n",
              "3       IndiGo   Kolkata    Banglore            1   6218            5   \n",
              "4       IndiGo  Banglore   New Delhi            1  13302            3   \n",
              "\n",
              "   journey_month  departure_hour  departure_minute  arrival_hour  \\\n",
              "0              3              22                20             1   \n",
              "1              1               5                50            13   \n",
              "2              9               9                25             4   \n",
              "3             12              18                 5            23   \n",
              "4              1              16                50            21   \n",
              "\n",
              "   arrival_minute  duration_hour  duration_minute  \n",
              "0              10              2               50  \n",
              "1              15              7               25  \n",
              "2              25             19                0  \n",
              "3              30              5               25  \n",
              "4              35              4               45  "
            ],
            "text/html": [
              "\n",
              "  <div id=\"df-079efc45-20e4-4bff-adb1-f8467bde771c\">\n",
              "    <div class=\"colab-df-container\">\n",
              "      <div>\n",
              "<style scoped>\n",
              "    .dataframe tbody tr th:only-of-type {\n",
              "        vertical-align: middle;\n",
              "    }\n",
              "\n",
              "    .dataframe tbody tr th {\n",
              "        vertical-align: top;\n",
              "    }\n",
              "\n",
              "    .dataframe thead th {\n",
              "        text-align: right;\n",
              "    }\n",
              "</style>\n",
              "<table border=\"1\" class=\"dataframe\">\n",
              "  <thead>\n",
              "    <tr style=\"text-align: right;\">\n",
              "      <th></th>\n",
              "      <th>Airline</th>\n",
              "      <th>Source</th>\n",
              "      <th>Destination</th>\n",
              "      <th>Total_Stops</th>\n",
              "      <th>Price</th>\n",
              "      <th>journey_day</th>\n",
              "      <th>journey_month</th>\n",
              "      <th>departure_hour</th>\n",
              "      <th>departure_minute</th>\n",
              "      <th>arrival_hour</th>\n",
              "      <th>arrival_minute</th>\n",
              "      <th>duration_hour</th>\n",
              "      <th>duration_minute</th>\n",
              "    </tr>\n",
              "  </thead>\n",
              "  <tbody>\n",
              "    <tr>\n",
              "      <th>0</th>\n",
              "      <td>IndiGo</td>\n",
              "      <td>Banglore</td>\n",
              "      <td>New Delhi</td>\n",
              "      <td>0</td>\n",
              "      <td>3897</td>\n",
              "      <td>24</td>\n",
              "      <td>3</td>\n",
              "      <td>22</td>\n",
              "      <td>20</td>\n",
              "      <td>1</td>\n",
              "      <td>10</td>\n",
              "      <td>2</td>\n",
              "      <td>50</td>\n",
              "    </tr>\n",
              "    <tr>\n",
              "      <th>1</th>\n",
              "      <td>Air India</td>\n",
              "      <td>Kolkata</td>\n",
              "      <td>Banglore</td>\n",
              "      <td>2</td>\n",
              "      <td>7662</td>\n",
              "      <td>5</td>\n",
              "      <td>1</td>\n",
              "      <td>5</td>\n",
              "      <td>50</td>\n",
              "      <td>13</td>\n",
              "      <td>15</td>\n",
              "      <td>7</td>\n",
              "      <td>25</td>\n",
              "    </tr>\n",
              "    <tr>\n",
              "      <th>2</th>\n",
              "      <td>Jet Airways</td>\n",
              "      <td>Delhi</td>\n",
              "      <td>Cochin</td>\n",
              "      <td>2</td>\n",
              "      <td>13882</td>\n",
              "      <td>6</td>\n",
              "      <td>9</td>\n",
              "      <td>9</td>\n",
              "      <td>25</td>\n",
              "      <td>4</td>\n",
              "      <td>25</td>\n",
              "      <td>19</td>\n",
              "      <td>0</td>\n",
              "    </tr>\n",
              "    <tr>\n",
              "      <th>3</th>\n",
              "      <td>IndiGo</td>\n",
              "      <td>Kolkata</td>\n",
              "      <td>Banglore</td>\n",
              "      <td>1</td>\n",
              "      <td>6218</td>\n",
              "      <td>5</td>\n",
              "      <td>12</td>\n",
              "      <td>18</td>\n",
              "      <td>5</td>\n",
              "      <td>23</td>\n",
              "      <td>30</td>\n",
              "      <td>5</td>\n",
              "      <td>25</td>\n",
              "    </tr>\n",
              "    <tr>\n",
              "      <th>4</th>\n",
              "      <td>IndiGo</td>\n",
              "      <td>Banglore</td>\n",
              "      <td>New Delhi</td>\n",
              "      <td>1</td>\n",
              "      <td>13302</td>\n",
              "      <td>3</td>\n",
              "      <td>1</td>\n",
              "      <td>16</td>\n",
              "      <td>50</td>\n",
              "      <td>21</td>\n",
              "      <td>35</td>\n",
              "      <td>4</td>\n",
              "      <td>45</td>\n",
              "    </tr>\n",
              "  </tbody>\n",
              "</table>\n",
              "</div>\n",
              "      <button class=\"colab-df-convert\" onclick=\"convertToInteractive('df-079efc45-20e4-4bff-adb1-f8467bde771c')\"\n",
              "              title=\"Convert this dataframe to an interactive table.\"\n",
              "              style=\"display:none;\">\n",
              "        \n",
              "  <svg xmlns=\"http://www.w3.org/2000/svg\" height=\"24px\"viewBox=\"0 0 24 24\"\n",
              "       width=\"24px\">\n",
              "    <path d=\"M0 0h24v24H0V0z\" fill=\"none\"/>\n",
              "    <path d=\"M18.56 5.44l.94 2.06.94-2.06 2.06-.94-2.06-.94-.94-2.06-.94 2.06-2.06.94zm-11 1L8.5 8.5l.94-2.06 2.06-.94-2.06-.94L8.5 2.5l-.94 2.06-2.06.94zm10 10l.94 2.06.94-2.06 2.06-.94-2.06-.94-.94-2.06-.94 2.06-2.06.94z\"/><path d=\"M17.41 7.96l-1.37-1.37c-.4-.4-.92-.59-1.43-.59-.52 0-1.04.2-1.43.59L10.3 9.45l-7.72 7.72c-.78.78-.78 2.05 0 2.83L4 21.41c.39.39.9.59 1.41.59.51 0 1.02-.2 1.41-.59l7.78-7.78 2.81-2.81c.8-.78.8-2.07 0-2.86zM5.41 20L4 18.59l7.72-7.72 1.47 1.35L5.41 20z\"/>\n",
              "  </svg>\n",
              "      </button>\n",
              "      \n",
              "  <style>\n",
              "    .colab-df-container {\n",
              "      display:flex;\n",
              "      flex-wrap:wrap;\n",
              "      gap: 12px;\n",
              "    }\n",
              "\n",
              "    .colab-df-convert {\n",
              "      background-color: #E8F0FE;\n",
              "      border: none;\n",
              "      border-radius: 50%;\n",
              "      cursor: pointer;\n",
              "      display: none;\n",
              "      fill: #1967D2;\n",
              "      height: 32px;\n",
              "      padding: 0 0 0 0;\n",
              "      width: 32px;\n",
              "    }\n",
              "\n",
              "    .colab-df-convert:hover {\n",
              "      background-color: #E2EBFA;\n",
              "      box-shadow: 0px 1px 2px rgba(60, 64, 67, 0.3), 0px 1px 3px 1px rgba(60, 64, 67, 0.15);\n",
              "      fill: #174EA6;\n",
              "    }\n",
              "\n",
              "    [theme=dark] .colab-df-convert {\n",
              "      background-color: #3B4455;\n",
              "      fill: #D2E3FC;\n",
              "    }\n",
              "\n",
              "    [theme=dark] .colab-df-convert:hover {\n",
              "      background-color: #434B5C;\n",
              "      box-shadow: 0px 1px 3px 1px rgba(0, 0, 0, 0.15);\n",
              "      filter: drop-shadow(0px 1px 2px rgba(0, 0, 0, 0.3));\n",
              "      fill: #FFFFFF;\n",
              "    }\n",
              "  </style>\n",
              "\n",
              "      <script>\n",
              "        const buttonEl =\n",
              "          document.querySelector('#df-079efc45-20e4-4bff-adb1-f8467bde771c button.colab-df-convert');\n",
              "        buttonEl.style.display =\n",
              "          google.colab.kernel.accessAllowed ? 'block' : 'none';\n",
              "\n",
              "        async function convertToInteractive(key) {\n",
              "          const element = document.querySelector('#df-079efc45-20e4-4bff-adb1-f8467bde771c');\n",
              "          const dataTable =\n",
              "            await google.colab.kernel.invokeFunction('convertToInteractive',\n",
              "                                                     [key], {});\n",
              "          if (!dataTable) return;\n",
              "\n",
              "          const docLinkHtml = 'Like what you see? Visit the ' +\n",
              "            '<a target=\"_blank\" href=https://colab.research.google.com/notebooks/data_table.ipynb>data table notebook</a>'\n",
              "            + ' to learn more about interactive tables.';\n",
              "          element.innerHTML = '';\n",
              "          dataTable['output_type'] = 'display_data';\n",
              "          await google.colab.output.renderOutput(dataTable, element);\n",
              "          const docLink = document.createElement('div');\n",
              "          docLink.innerHTML = docLinkHtml;\n",
              "          element.appendChild(docLink);\n",
              "        }\n",
              "      </script>\n",
              "    </div>\n",
              "  </div>\n",
              "  "
            ]
          },
          "metadata": {},
          "execution_count": 118
        }
      ]
    },
    {
      "cell_type": "code",
      "source": [
        "df_x = pd.concat([df,source,airline,destination],axis=1)"
      ],
      "metadata": {
        "id": "ozgkx8b52mhK"
      },
      "execution_count": null,
      "outputs": []
    },
    {
      "cell_type": "code",
      "source": [
        "df_x.shape"
      ],
      "metadata": {
        "colab": {
          "base_uri": "https://localhost:8080/"
        },
        "id": "rTEuw4OJ3b4u",
        "outputId": "1d6b6c67-da5e-4fe8-9a0a-bc754dc4acc2"
      },
      "execution_count": null,
      "outputs": [
        {
          "output_type": "execute_result",
          "data": {
            "text/plain": [
              "(10682, 36)"
            ]
          },
          "metadata": {},
          "execution_count": 121
        }
      ]
    },
    {
      "cell_type": "code",
      "source": [
        "df_x = df_x.drop(['Airline','Source','Destination'],axis=1)"
      ],
      "metadata": {
        "id": "9jyEGRd83zQM"
      },
      "execution_count": null,
      "outputs": []
    },
    {
      "cell_type": "code",
      "source": [
        "df_x.head(2)"
      ],
      "metadata": {
        "colab": {
          "base_uri": "https://localhost:8080/",
          "height": 223
        },
        "id": "B4RJ7CPm9djn",
        "outputId": "5baf9f28-9863-48af-ff9f-2cb57029ace9"
      },
      "execution_count": null,
      "outputs": [
        {
          "output_type": "execute_result",
          "data": {
            "text/plain": [
              "   Total_Stops  Price  journey_day  journey_month  departure_hour  \\\n",
              "0            0   3897           24              3              22   \n",
              "1            2   7662            5              1               5   \n",
              "\n",
              "   departure_minute  arrival_hour  arrival_minute  duration_hour  \\\n",
              "0                20             1              10              2   \n",
              "1                50            13              15              7   \n",
              "\n",
              "   duration_minute  ...  Airline_SpiceJet  Airline_Trujet  Airline_Vistara  \\\n",
              "0               50  ...               0.0             0.0              0.0   \n",
              "1               25  ...               0.0             0.0              0.0   \n",
              "\n",
              "   Airline_Vistara Premium economy  Destination_Banglore  Destination_Cochin  \\\n",
              "0                              0.0                   0.0                 0.0   \n",
              "1                              0.0                   1.0                 0.0   \n",
              "\n",
              "   Destination_Delhi  Destination_Hyderabad  Destination_Kolkata  \\\n",
              "0                0.0                    0.0                  0.0   \n",
              "1                0.0                    0.0                  0.0   \n",
              "\n",
              "   Destination_New Delhi  \n",
              "0                    1.0  \n",
              "1                    0.0  \n",
              "\n",
              "[2 rows x 33 columns]"
            ],
            "text/html": [
              "\n",
              "  <div id=\"df-06335fe4-2fda-4475-a2f8-7e5bb01c1204\">\n",
              "    <div class=\"colab-df-container\">\n",
              "      <div>\n",
              "<style scoped>\n",
              "    .dataframe tbody tr th:only-of-type {\n",
              "        vertical-align: middle;\n",
              "    }\n",
              "\n",
              "    .dataframe tbody tr th {\n",
              "        vertical-align: top;\n",
              "    }\n",
              "\n",
              "    .dataframe thead th {\n",
              "        text-align: right;\n",
              "    }\n",
              "</style>\n",
              "<table border=\"1\" class=\"dataframe\">\n",
              "  <thead>\n",
              "    <tr style=\"text-align: right;\">\n",
              "      <th></th>\n",
              "      <th>Total_Stops</th>\n",
              "      <th>Price</th>\n",
              "      <th>journey_day</th>\n",
              "      <th>journey_month</th>\n",
              "      <th>departure_hour</th>\n",
              "      <th>departure_minute</th>\n",
              "      <th>arrival_hour</th>\n",
              "      <th>arrival_minute</th>\n",
              "      <th>duration_hour</th>\n",
              "      <th>duration_minute</th>\n",
              "      <th>...</th>\n",
              "      <th>Airline_SpiceJet</th>\n",
              "      <th>Airline_Trujet</th>\n",
              "      <th>Airline_Vistara</th>\n",
              "      <th>Airline_Vistara Premium economy</th>\n",
              "      <th>Destination_Banglore</th>\n",
              "      <th>Destination_Cochin</th>\n",
              "      <th>Destination_Delhi</th>\n",
              "      <th>Destination_Hyderabad</th>\n",
              "      <th>Destination_Kolkata</th>\n",
              "      <th>Destination_New Delhi</th>\n",
              "    </tr>\n",
              "  </thead>\n",
              "  <tbody>\n",
              "    <tr>\n",
              "      <th>0</th>\n",
              "      <td>0</td>\n",
              "      <td>3897</td>\n",
              "      <td>24</td>\n",
              "      <td>3</td>\n",
              "      <td>22</td>\n",
              "      <td>20</td>\n",
              "      <td>1</td>\n",
              "      <td>10</td>\n",
              "      <td>2</td>\n",
              "      <td>50</td>\n",
              "      <td>...</td>\n",
              "      <td>0.0</td>\n",
              "      <td>0.0</td>\n",
              "      <td>0.0</td>\n",
              "      <td>0.0</td>\n",
              "      <td>0.0</td>\n",
              "      <td>0.0</td>\n",
              "      <td>0.0</td>\n",
              "      <td>0.0</td>\n",
              "      <td>0.0</td>\n",
              "      <td>1.0</td>\n",
              "    </tr>\n",
              "    <tr>\n",
              "      <th>1</th>\n",
              "      <td>2</td>\n",
              "      <td>7662</td>\n",
              "      <td>5</td>\n",
              "      <td>1</td>\n",
              "      <td>5</td>\n",
              "      <td>50</td>\n",
              "      <td>13</td>\n",
              "      <td>15</td>\n",
              "      <td>7</td>\n",
              "      <td>25</td>\n",
              "      <td>...</td>\n",
              "      <td>0.0</td>\n",
              "      <td>0.0</td>\n",
              "      <td>0.0</td>\n",
              "      <td>0.0</td>\n",
              "      <td>1.0</td>\n",
              "      <td>0.0</td>\n",
              "      <td>0.0</td>\n",
              "      <td>0.0</td>\n",
              "      <td>0.0</td>\n",
              "      <td>0.0</td>\n",
              "    </tr>\n",
              "  </tbody>\n",
              "</table>\n",
              "<p>2 rows × 33 columns</p>\n",
              "</div>\n",
              "      <button class=\"colab-df-convert\" onclick=\"convertToInteractive('df-06335fe4-2fda-4475-a2f8-7e5bb01c1204')\"\n",
              "              title=\"Convert this dataframe to an interactive table.\"\n",
              "              style=\"display:none;\">\n",
              "        \n",
              "  <svg xmlns=\"http://www.w3.org/2000/svg\" height=\"24px\"viewBox=\"0 0 24 24\"\n",
              "       width=\"24px\">\n",
              "    <path d=\"M0 0h24v24H0V0z\" fill=\"none\"/>\n",
              "    <path d=\"M18.56 5.44l.94 2.06.94-2.06 2.06-.94-2.06-.94-.94-2.06-.94 2.06-2.06.94zm-11 1L8.5 8.5l.94-2.06 2.06-.94-2.06-.94L8.5 2.5l-.94 2.06-2.06.94zm10 10l.94 2.06.94-2.06 2.06-.94-2.06-.94-.94-2.06-.94 2.06-2.06.94z\"/><path d=\"M17.41 7.96l-1.37-1.37c-.4-.4-.92-.59-1.43-.59-.52 0-1.04.2-1.43.59L10.3 9.45l-7.72 7.72c-.78.78-.78 2.05 0 2.83L4 21.41c.39.39.9.59 1.41.59.51 0 1.02-.2 1.41-.59l7.78-7.78 2.81-2.81c.8-.78.8-2.07 0-2.86zM5.41 20L4 18.59l7.72-7.72 1.47 1.35L5.41 20z\"/>\n",
              "  </svg>\n",
              "      </button>\n",
              "      \n",
              "  <style>\n",
              "    .colab-df-container {\n",
              "      display:flex;\n",
              "      flex-wrap:wrap;\n",
              "      gap: 12px;\n",
              "    }\n",
              "\n",
              "    .colab-df-convert {\n",
              "      background-color: #E8F0FE;\n",
              "      border: none;\n",
              "      border-radius: 50%;\n",
              "      cursor: pointer;\n",
              "      display: none;\n",
              "      fill: #1967D2;\n",
              "      height: 32px;\n",
              "      padding: 0 0 0 0;\n",
              "      width: 32px;\n",
              "    }\n",
              "\n",
              "    .colab-df-convert:hover {\n",
              "      background-color: #E2EBFA;\n",
              "      box-shadow: 0px 1px 2px rgba(60, 64, 67, 0.3), 0px 1px 3px 1px rgba(60, 64, 67, 0.15);\n",
              "      fill: #174EA6;\n",
              "    }\n",
              "\n",
              "    [theme=dark] .colab-df-convert {\n",
              "      background-color: #3B4455;\n",
              "      fill: #D2E3FC;\n",
              "    }\n",
              "\n",
              "    [theme=dark] .colab-df-convert:hover {\n",
              "      background-color: #434B5C;\n",
              "      box-shadow: 0px 1px 3px 1px rgba(0, 0, 0, 0.15);\n",
              "      filter: drop-shadow(0px 1px 2px rgba(0, 0, 0, 0.3));\n",
              "      fill: #FFFFFF;\n",
              "    }\n",
              "  </style>\n",
              "\n",
              "      <script>\n",
              "        const buttonEl =\n",
              "          document.querySelector('#df-06335fe4-2fda-4475-a2f8-7e5bb01c1204 button.colab-df-convert');\n",
              "        buttonEl.style.display =\n",
              "          google.colab.kernel.accessAllowed ? 'block' : 'none';\n",
              "\n",
              "        async function convertToInteractive(key) {\n",
              "          const element = document.querySelector('#df-06335fe4-2fda-4475-a2f8-7e5bb01c1204');\n",
              "          const dataTable =\n",
              "            await google.colab.kernel.invokeFunction('convertToInteractive',\n",
              "                                                     [key], {});\n",
              "          if (!dataTable) return;\n",
              "\n",
              "          const docLinkHtml = 'Like what you see? Visit the ' +\n",
              "            '<a target=\"_blank\" href=https://colab.research.google.com/notebooks/data_table.ipynb>data table notebook</a>'\n",
              "            + ' to learn more about interactive tables.';\n",
              "          element.innerHTML = '';\n",
              "          dataTable['output_type'] = 'display_data';\n",
              "          await google.colab.output.renderOutput(dataTable, element);\n",
              "          const docLink = document.createElement('div');\n",
              "          docLink.innerHTML = docLinkHtml;\n",
              "          element.appendChild(docLink);\n",
              "        }\n",
              "      </script>\n",
              "    </div>\n",
              "  </div>\n",
              "  "
            ]
          },
          "metadata": {},
          "execution_count": 124
        }
      ]
    },
    {
      "cell_type": "code",
      "source": [
        "x = df_x.drop(['Price'],axis=1)\n",
        "y = df['Price']\n",
        "print(x.shape,y.shape)"
      ],
      "metadata": {
        "colab": {
          "base_uri": "https://localhost:8080/"
        },
        "id": "7mdpE7rX9wBq",
        "outputId": "ed85b615-20c1-4893-b964-05d1c5f01404"
      },
      "execution_count": null,
      "outputs": [
        {
          "output_type": "stream",
          "name": "stdout",
          "text": [
            "(10682, 32) (10682,)\n"
          ]
        }
      ]
    },
    {
      "cell_type": "code",
      "source": [
        "x_train, x_test, y_train, y_test = train_test_split(x, y, test_size = 0.33, random_state = 42)"
      ],
      "metadata": {
        "id": "zhcGjhHM96f7"
      },
      "execution_count": null,
      "outputs": []
    },
    {
      "cell_type": "code",
      "source": [
        "print(x_train.shape,y_train.shape)"
      ],
      "metadata": {
        "colab": {
          "base_uri": "https://localhost:8080/"
        },
        "id": "IZ02jNGx3VjB",
        "outputId": "e9bf1322-0b97-4cd8-cceb-60bfc21c80af"
      },
      "execution_count": null,
      "outputs": [
        {
          "output_type": "stream",
          "name": "stdout",
          "text": [
            "(7156, 32) (7156,)\n"
          ]
        }
      ]
    },
    {
      "cell_type": "code",
      "source": [
        "x_train.columns"
      ],
      "metadata": {
        "colab": {
          "base_uri": "https://localhost:8080/"
        },
        "id": "XD5DzCJD-Dwx",
        "outputId": "1ba46867-f63d-4bbd-dbc1-aae70c7e7ef8"
      },
      "execution_count": null,
      "outputs": [
        {
          "output_type": "execute_result",
          "data": {
            "text/plain": [
              "Index(['Total_Stops', 'journey_day', 'journey_month', 'departure_hour',\n",
              "       'departure_minute', 'arrival_hour', 'arrival_minute', 'duration_hour',\n",
              "       'duration_minute', 'Source_Banglore', 'Source_Chennai', 'Source_Delhi',\n",
              "       'Source_Kolkata', 'Source_Mumbai', 'Airline_Air Asia',\n",
              "       'Airline_Air India', 'Airline_GoAir', 'Airline_IndiGo',\n",
              "       'Airline_Jet Airways', 'Airline_Jet Airways Business',\n",
              "       'Airline_Multiple carriers',\n",
              "       'Airline_Multiple carriers Premium economy', 'Airline_SpiceJet',\n",
              "       'Airline_Trujet', 'Airline_Vistara', 'Airline_Vistara Premium economy',\n",
              "       'Destination_Banglore', 'Destination_Cochin', 'Destination_Delhi',\n",
              "       'Destination_Hyderabad', 'Destination_Kolkata',\n",
              "       'Destination_New Delhi'],\n",
              "      dtype='object')"
            ]
          },
          "metadata": {},
          "execution_count": 128
        }
      ]
    },
    {
      "cell_type": "code",
      "source": [
        "from sklearn.ensemble import RandomForestRegressor"
      ],
      "metadata": {
        "id": "4GxeX9Ti6bvJ"
      },
      "execution_count": null,
      "outputs": []
    },
    {
      "cell_type": "code",
      "source": [
        "rf = RandomForestRegressor()\n",
        "rf.fit(x_train,y_train)"
      ],
      "metadata": {
        "colab": {
          "base_uri": "https://localhost:8080/"
        },
        "id": "KY4IZFm06dgs",
        "outputId": "1942181a-820f-4c89-854e-812e6bc16a35"
      },
      "execution_count": null,
      "outputs": [
        {
          "output_type": "execute_result",
          "data": {
            "text/plain": [
              "RandomForestRegressor()"
            ]
          },
          "metadata": {},
          "execution_count": 129
        }
      ]
    },
    {
      "cell_type": "code",
      "source": [
        "rf.score(x_train,y_train)"
      ],
      "metadata": {
        "colab": {
          "base_uri": "https://localhost:8080/"
        },
        "id": "RRsLpI9--MbV",
        "outputId": "4fdcf475-2f46-43e5-8e24-2babdff603b7"
      },
      "execution_count": null,
      "outputs": [
        {
          "output_type": "execute_result",
          "data": {
            "text/plain": [
              "0.9561667276448543"
            ]
          },
          "metadata": {},
          "execution_count": 130
        }
      ]
    },
    {
      "cell_type": "code",
      "source": [
        "rf.score(x_test,y_test)"
      ],
      "metadata": {
        "colab": {
          "base_uri": "https://localhost:8080/"
        },
        "id": "E2xb7t_A-U-e",
        "outputId": "b0473832-41a3-462c-bf24-b5190f34eb0c"
      },
      "execution_count": null,
      "outputs": [
        {
          "output_type": "execute_result",
          "data": {
            "text/plain": [
              "0.8009108771157232"
            ]
          },
          "metadata": {},
          "execution_count": 131
        }
      ]
    },
    {
      "cell_type": "code",
      "source": [
        "from sklearn import metrics\n",
        "pred = rf.predict(x_test)\n",
        "print('Mean Absolute Error:',metrics.mean_absolute_error(y_test,pred))\n",
        "print('Mean Sqaured Error:',metrics.mean_squared_error(y_test,pred))\n",
        "print('Root Mean Sqaured Error:',np.sqrt(metrics.mean_squared_error(y_test,pred)))\n",
        "print('R2 score:',metrics.r2_score(y_test,pred))"
      ],
      "metadata": {
        "colab": {
          "base_uri": "https://localhost:8080/"
        },
        "id": "xmRthHpy-u4z",
        "outputId": "7be57566-453c-48c0-f9b1-fd97f14ca593"
      },
      "execution_count": null,
      "outputs": [
        {
          "output_type": "stream",
          "name": "stdout",
          "text": [
            "Mean Absolute Error: 1172.1295700192304\n",
            "Mean Sqaured Error: 3996413.7583150635\n",
            "Root Mean Sqaured Error: 1999.1032385334838\n",
            "R2 score: 0.8009108771157232\n"
          ]
        }
      ]
    },
    {
      "cell_type": "code",
      "source": [
        "n_estimators = [int(x) for x in np.linspace(start = 100, stop = 1200, num = 12)]\n",
        "# Number of features to consider at every split\n",
        "max_features = ['auto', 'sqrt']\n",
        "# Maximum number of levels in tree\n",
        "max_depth = [int(x) for x in np.linspace(5, 30, num = 6)]\n",
        "# Minimum number of samples required to split a node\n",
        "min_samples_split = [2, 5, 10, 15, 100]\n",
        "# Minimum number of samples required at each leaf node\n",
        "min_samples_leaf = [1, 2, 5, 10]"
      ],
      "metadata": {
        "id": "dc1CaT7Y_cn1"
      },
      "execution_count": null,
      "outputs": []
    },
    {
      "cell_type": "code",
      "source": [
        "random_grid = {'n_estimators': n_estimators,\n",
        "               'max_features': max_features,\n",
        "               'max_depth': max_depth,\n",
        "               'min_samples_split': min_samples_split,\n",
        "               'min_samples_leaf': min_samples_leaf}"
      ],
      "metadata": {
        "id": "0jUlF-zbBlhD"
      },
      "execution_count": null,
      "outputs": []
    },
    {
      "cell_type": "code",
      "source": [
        "from sklearn.model_selection import RandomizedSearchCV\n",
        "\n",
        "rf_grid = RandomizedSearchCV(estimator = rf, param_distributions = random_grid,scoring='neg_mean_squared_error', n_iter = 10, cv = 5, verbose=2, random_state=42, n_jobs = 1)"
      ],
      "metadata": {
        "id": "7y5kLGmzBs_x"
      },
      "execution_count": null,
      "outputs": []
    },
    {
      "cell_type": "code",
      "source": [
        "rf_grid.fit(x_train,y_train)\n",
        "\n",
        "# Summarize the results in a readable format\n",
        "print(\"Best params: {0}, using {1}\".format(rf_grid.cv_results_['mean_test_score'], rf_grid.best_params_))\n",
        "results_df = pd.DataFrame(rf_grid.cv_results_)"
      ],
      "metadata": {
        "colab": {
          "base_uri": "https://localhost:8080/"
        },
        "id": "IH_Neet8B3NL",
        "outputId": "63413a77-641c-4485-bba7-9639df0e2dd7"
      },
      "execution_count": null,
      "outputs": [
        {
          "output_type": "stream",
          "name": "stdout",
          "text": [
            "[CV] END max_depth=15, max_features=auto, min_samples_leaf=5, min_samples_split=5, n_estimators=400; total time=   7.4s\n",
            "[CV] END max_depth=15, max_features=auto, min_samples_leaf=5, min_samples_split=5, n_estimators=400; total time=   6.2s\n",
            "[CV] END max_depth=20, max_features=auto, min_samples_leaf=10, min_samples_split=5, n_estimators=700; total time=   9.6s\n",
            "[CV] END max_depth=20, max_features=auto, min_samples_leaf=10, min_samples_split=5, n_estimators=700; total time=   9.7s\n",
            "[CV] END max_depth=20, max_features=auto, min_samples_leaf=10, min_samples_split=5, n_estimators=700; total time=   9.7s\n",
            "[CV] END max_depth=20, max_features=auto, min_samples_leaf=10, min_samples_split=5, n_estimators=700; total time=   9.7s\n",
            "[CV] END max_depth=20, max_features=auto, min_samples_leaf=10, min_samples_split=5, n_estimators=700; total time=   9.7s\n",
            "[CV] END max_depth=25, max_features=sqrt, min_samples_leaf=1, min_samples_split=2, n_estimators=1000; total time=   8.5s\n",
            "[CV] END max_depth=25, max_features=sqrt, min_samples_leaf=1, min_samples_split=2, n_estimators=1000; total time=   8.1s\n",
            "[CV] END max_depth=25, max_features=sqrt, min_samples_leaf=1, min_samples_split=2, n_estimators=1000; total time=   8.1s\n",
            "[CV] END max_depth=25, max_features=sqrt, min_samples_leaf=1, min_samples_split=2, n_estimators=1000; total time=   8.1s\n",
            "[CV] END max_depth=25, max_features=sqrt, min_samples_leaf=1, min_samples_split=2, n_estimators=1000; total time=   8.1s\n",
            "[CV] END max_depth=5, max_features=sqrt, min_samples_leaf=10, min_samples_split=15, n_estimators=1100; total time=   3.1s\n",
            "[CV] END max_depth=5, max_features=sqrt, min_samples_leaf=10, min_samples_split=15, n_estimators=1100; total time=   3.1s\n",
            "[CV] END max_depth=5, max_features=sqrt, min_samples_leaf=10, min_samples_split=15, n_estimators=1100; total time=   3.1s\n",
            "[CV] END max_depth=5, max_features=sqrt, min_samples_leaf=10, min_samples_split=15, n_estimators=1100; total time=   3.2s\n",
            "[CV] END max_depth=5, max_features=sqrt, min_samples_leaf=10, min_samples_split=15, n_estimators=1100; total time=   3.1s\n",
            "[CV] END max_depth=15, max_features=sqrt, min_samples_leaf=1, min_samples_split=15, n_estimators=300; total time=   1.5s\n",
            "[CV] END max_depth=15, max_features=sqrt, min_samples_leaf=1, min_samples_split=15, n_estimators=300; total time=   1.5s\n",
            "[CV] END max_depth=15, max_features=sqrt, min_samples_leaf=1, min_samples_split=15, n_estimators=300; total time=   1.4s\n",
            "[CV] END max_depth=15, max_features=sqrt, min_samples_leaf=1, min_samples_split=15, n_estimators=300; total time=   1.4s\n",
            "[CV] END max_depth=15, max_features=sqrt, min_samples_leaf=1, min_samples_split=15, n_estimators=300; total time=   1.4s\n",
            "[CV] END max_depth=5, max_features=sqrt, min_samples_leaf=2, min_samples_split=10, n_estimators=700; total time=   1.9s\n",
            "[CV] END max_depth=5, max_features=sqrt, min_samples_leaf=2, min_samples_split=10, n_estimators=700; total time=   1.9s\n",
            "[CV] END max_depth=5, max_features=sqrt, min_samples_leaf=2, min_samples_split=10, n_estimators=700; total time=   2.0s\n",
            "[CV] END max_depth=5, max_features=sqrt, min_samples_leaf=2, min_samples_split=10, n_estimators=700; total time=   2.0s\n",
            "[CV] END max_depth=5, max_features=sqrt, min_samples_leaf=2, min_samples_split=10, n_estimators=700; total time=   2.0s\n",
            "[CV] END max_depth=20, max_features=auto, min_samples_leaf=1, min_samples_split=15, n_estimators=700; total time=  11.4s\n",
            "[CV] END max_depth=20, max_features=auto, min_samples_leaf=1, min_samples_split=15, n_estimators=700; total time=  11.3s\n",
            "[CV] END max_depth=20, max_features=auto, min_samples_leaf=1, min_samples_split=15, n_estimators=700; total time=  11.3s\n",
            "[CV] END max_depth=20, max_features=auto, min_samples_leaf=1, min_samples_split=15, n_estimators=700; total time=  11.7s\n",
            "[CV] END max_depth=20, max_features=auto, min_samples_leaf=1, min_samples_split=15, n_estimators=700; total time=  13.1s\n",
            "Best params: [-6404038.3415236  -5021989.45248137 -6234156.08359729 -4731300.58224862\n",
            " -5240498.84621358 -4535096.20879969 -8697465.28853286 -4705172.99947822\n",
            " -8206645.01172519 -4233312.14672663], using {'n_estimators': 700, 'min_samples_split': 15, 'min_samples_leaf': 1, 'max_features': 'auto', 'max_depth': 20}\n"
          ]
        }
      ]
    },
    {
      "cell_type": "code",
      "source": [
        "rf_grid.best_params_"
      ],
      "metadata": {
        "colab": {
          "base_uri": "https://localhost:8080/"
        },
        "id": "TBxc4D4YFPNp",
        "outputId": "d0402624-420c-431a-85d2-cc385a8e30e4"
      },
      "execution_count": null,
      "outputs": [
        {
          "output_type": "execute_result",
          "data": {
            "text/plain": [
              "{'n_estimators': 700,\n",
              " 'min_samples_split': 15,\n",
              " 'min_samples_leaf': 1,\n",
              " 'max_features': 'auto',\n",
              " 'max_depth': 20}"
            ]
          },
          "metadata": {},
          "execution_count": 147
        }
      ]
    },
    {
      "cell_type": "code",
      "source": [
        "predict_rf = rf_grid.predict(x_test)\n"
      ],
      "metadata": {
        "id": "WMcp03WbCLwL"
      },
      "execution_count": null,
      "outputs": []
    },
    {
      "cell_type": "code",
      "source": [
        "print('Mean Absolute Error:',metrics.mean_absolute_error(y_test,pred))\n",
        "print('Mean Sqaured Error:',metrics.mean_squared_error(y_test,pred))\n",
        "print('Root Mean Sqaured Error:',np.sqrt(metrics.mean_squared_error(y_test,pred)))\n",
        "print('R2 score:',metrics.r2_score(y_test,pred))"
      ],
      "metadata": {
        "colab": {
          "base_uri": "https://localhost:8080/"
        },
        "id": "OVpDtZ-EGZYw",
        "outputId": "a978415d-5091-468e-eeae-3df9910ca44c"
      },
      "execution_count": null,
      "outputs": [
        {
          "output_type": "stream",
          "name": "stdout",
          "text": [
            "Mean Absolute Error: 1172.1295700192304\n",
            "Mean Sqaured Error: 3996413.7583150635\n",
            "Root Mean Sqaured Error: 1999.1032385334838\n",
            "R2 score: 0.8009108771157232\n"
          ]
        }
      ]
    },
    {
      "cell_type": "code",
      "source": [
        "\n",
        "print('Mean Absolute Error:',metrics.mean_absolute_error(y_test,predict_rf))\n",
        "print('Mean Sqaured Error:',metrics.mean_squared_error(y_test,predict_rf))\n",
        "print('Root Mean Sqaured Error:',np.sqrt(metrics.mean_squared_error(y_test,predict_rf)))\n",
        "print('R2 score:',metrics.r2_score(y_test,predict_rf))"
      ],
      "metadata": {
        "colab": {
          "base_uri": "https://localhost:8080/"
        },
        "id": "XDUZGGTyF3GX",
        "outputId": "39d0b3fa-d29c-44f5-cf84-e49de6376779"
      },
      "execution_count": null,
      "outputs": [
        {
          "output_type": "stream",
          "name": "stdout",
          "text": [
            "Mean Absolute Error: 1159.3850320641532\n",
            "Mean Sqaured Error: 3638327.591636213\n",
            "Root Mean Sqaured Error: 1907.440062396775\n",
            "R2 score: 0.8187496358510407\n"
          ]
        }
      ]
    }
  ]
}